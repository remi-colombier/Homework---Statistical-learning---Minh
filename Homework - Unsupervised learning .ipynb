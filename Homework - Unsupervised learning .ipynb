{
 "cells": [
  {
   "cell_type": "markdown",
   "id": "0f7491d6",
   "metadata": {},
   "source": [
    "# Homework Rémi - Unsupervised Learning"
   ]
  },
  {
   "cell_type": "markdown",
   "id": "c413c316",
   "metadata": {},
   "source": [
    "### Exercice 3, chap 10 (p413)"
   ]
  },
  {
   "cell_type": "markdown",
   "id": "3266d925",
   "metadata": {},
   "source": [
    "###### a) "
   ]
  },
  {
   "cell_type": "code",
   "execution_count": 1,
   "id": "60507572",
   "metadata": {},
   "outputs": [],
   "source": [
    "#create the matrix to plot the observation\n",
    "K = 2\n",
    "n = 6\n",
    "p = 2 \n",
    "X = matrix(c(1,4,1,3,0,4,5,1,6,2,4,0), nrow = n, byrow = TRUE)"
   ]
  },
  {
   "cell_type": "code",
   "execution_count": 3,
   "id": "d89fe534",
   "metadata": {
    "scrolled": true
   },
   "outputs": [
    {
     "data": {
      "image/png": "[encoded data removed]",
      "text/plain": [
       "plot without title"
      ]
     },
     "metadata": {
      "image/png": {
       "height": 420,
       "width": 420
      }
     },
     "output_type": "display_data"
    }
   ],
   "source": [
    "plot(X)"
   ]
  },
  {
   "cell_type": "markdown",
   "id": "61e07f56",
   "metadata": {},
   "source": [
    "###### b)"
   ]
  },
  {
   "cell_type": "code",
   "execution_count": null,
   "id": "104c3275",
   "metadata": {},
   "outputs": [],
   "source": [
    "#assign cluster to each observation\n"
   ]
  },
  {
   "cell_type": "code",
   "execution_count": 5,
   "id": "2b9cf859",
   "metadata": {},
   "outputs": [
    {
     "data": {
      "text/html": [
       "<style>\n",
       ".list-inline {list-style: none; margin:0; padding: 0}\n",
       ".list-inline>li {display: inline-block}\n",
       ".list-inline>li:not(:last-child)::after {content: \"\\00b7\"; padding: 0 .5ex}\n",
       "</style>\n",
       "<ol class=list-inline><li>1</li><li>1</li><li>1</li><li>2</li><li>1</li><li>2</li></ol>\n"
      ],
      "text/latex": [
       "\\begin{enumerate*}\n",
       "\\item 1\n",
       "\\item 1\n",
       "\\item 1\n",
       "\\item 2\n",
       "\\item 1\n",
       "\\item 2\n",
       "\\end{enumerate*}\n"
      ],
      "text/markdown": [
       "1. 1\n",
       "2. 1\n",
       "3. 1\n",
       "4. 2\n",
       "5. 1\n",
       "6. 2\n",
       "\n",
       "\n"
      ],
      "text/plain": [
       "[1] 1 1 1 2 1 2"
      ]
     },
     "metadata": {},
     "output_type": "display_data"
    }
   ],
   "source": [
    "set.seed(123)\n",
    "\n",
    "cluster = sample(1:2, 6, replace = TRUE)\n",
    "cluster"
   ]
  },
  {
   "cell_type": "code",
   "execution_count": 8,
   "id": "4ef986ae",
   "metadata": {},
   "outputs": [
    {
     "data": {
      "image/png": "[encoded data removed]",
      "text/plain": [
       "plot without title"
      ]
     },
     "metadata": {
      "image/png": {
       "height": 420,
       "width": 420
      }
     },
     "output_type": "display_data"
    }
   ],
   "source": [
    "col = rep(\"red\", 6)\n",
    "col[cluster == 2] = \"blue\"\n",
    "pch = rep(16, 6)\n",
    "pch[cluster == 2] = 17\n",
    "plot(X, col = col, pch = pch)"
   ]
  },
  {
   "cell_type": "markdown",
   "id": "cd539073",
   "metadata": {},
   "source": [
    "###### c)"
   ]
  },
  {
   "cell_type": "code",
   "execution_count": 9,
   "id": "bc86b2fe",
   "metadata": {},
   "outputs": [
    {
     "data": {
      "text/html": [
       "<table class=\"dataframe\">\n",
       "<caption>A data.frame: 2 × 3</caption>\n",
       "<thead>\n",
       "\t<tr><th scope=col>Clusters</th><th scope=col>V1</th><th scope=col>V2</th></tr>\n",
       "\t<tr><th scope=col>&lt;int&gt;</th><th scope=col>&lt;dbl&gt;</th><th scope=col>&lt;dbl&gt;</th></tr>\n",
       "</thead>\n",
       "<tbody>\n",
       "\t<tr><td>1</td><td>2.0</td><td>3.25</td></tr>\n",
       "\t<tr><td>2</td><td>4.5</td><td>0.50</td></tr>\n",
       "</tbody>\n",
       "</table>\n"
      ],
      "text/latex": [
       "A data.frame: 2 × 3\n",
       "\\begin{tabular}{lll}\n",
       " Clusters & V1 & V2\\\\\n",
       " <int> & <dbl> & <dbl>\\\\\n",
       "\\hline\n",
       "\t 1 & 2.0 & 3.25\\\\\n",
       "\t 2 & 4.5 & 0.50\\\\\n",
       "\\end{tabular}\n"
      ],
      "text/markdown": [
       "\n",
       "A data.frame: 2 × 3\n",
       "\n",
       "| Clusters &lt;int&gt; | V1 &lt;dbl&gt; | V2 &lt;dbl&gt; |\n",
       "|---|---|---|\n",
       "| 1 | 2.0 | 3.25 |\n",
       "| 2 | 4.5 | 0.50 |\n",
       "\n"
      ],
      "text/plain": [
       "  Clusters V1  V2  \n",
       "1 1        2.0 3.25\n",
       "2 2        4.5 0.50"
      ]
     },
     "metadata": {},
     "output_type": "display_data"
    }
   ],
   "source": [
    "#compute the centroids for each clusters \n",
    "centroids = aggregate(X, list(Clusters = cluster), mean)\n",
    "centroids"
   ]
  },
  {
   "cell_type": "markdown",
   "id": "914cd2c7",
   "metadata": {},
   "source": [
    "###### d)"
   ]
  },
  {
   "cell_type": "code",
   "execution_count": 11,
   "id": "422aa91e",
   "metadata": {},
   "outputs": [],
   "source": [
    "#assign each observation to the closest centroids\n",
    "library(class)\n"
   ]
  },
  {
   "cell_type": "code",
   "execution_count": 12,
   "id": "b56e87ba",
   "metadata": {},
   "outputs": [
    {
     "data": {
      "text/html": [
       "<style>\n",
       ".list-inline {list-style: none; margin:0; padding: 0}\n",
       ".list-inline>li {display: inline-block}\n",
       ".list-inline>li:not(:last-child)::after {content: \"\\00b7\"; padding: 0 .5ex}\n",
       "</style>\n",
       "<ol class=list-inline><li>1</li><li>1</li><li>1</li><li>2</li><li>2</li><li>2</li></ol>\n",
       "\n",
       "<details>\n",
       "\t<summary style=display:list-item;cursor:pointer>\n",
       "\t\t<strong>Levels</strong>:\n",
       "\t</summary>\n",
       "\t<style>\n",
       "\t.list-inline {list-style: none; margin:0; padding: 0}\n",
       "\t.list-inline>li {display: inline-block}\n",
       "\t.list-inline>li:not(:last-child)::after {content: \"\\00b7\"; padding: 0 .5ex}\n",
       "\t</style>\n",
       "\t<ol class=list-inline><li>'1'</li><li>'2'</li></ol>\n",
       "</details>"
      ],
      "text/latex": [
       "\\begin{enumerate*}\n",
       "\\item 1\n",
       "\\item 1\n",
       "\\item 1\n",
       "\\item 2\n",
       "\\item 2\n",
       "\\item 2\n",
       "\\end{enumerate*}\n",
       "\n",
       "\\emph{Levels}: \\begin{enumerate*}\n",
       "\\item '1'\n",
       "\\item '2'\n",
       "\\end{enumerate*}\n"
      ],
      "text/markdown": [
       "1. 1\n",
       "2. 1\n",
       "3. 1\n",
       "4. 2\n",
       "5. 2\n",
       "6. 2\n",
       "\n",
       "\n",
       "\n",
       "**Levels**: 1. '1'\n",
       "2. '2'\n",
       "\n",
       "\n"
      ],
      "text/plain": [
       "[1] 1 1 1 2 2 2\n",
       "Levels: 1 2"
      ]
     },
     "metadata": {},
     "output_type": "display_data"
    }
   ],
   "source": [
    "cluster_2 = knn(centroids[,2:3], X, factor(centroids[,1]))\n",
    "cluster_2"
   ]
  },
  {
   "cell_type": "markdown",
   "id": "41c9a4c9",
   "metadata": {},
   "source": [
    "###### e)"
   ]
  },
  {
   "cell_type": "code",
   "execution_count": 15,
   "id": "fe534f28",
   "metadata": {},
   "outputs": [
    {
     "data": {
      "text/html": [
       "<table class=\"dataframe\">\n",
       "<caption>A data.frame: 2 × 3</caption>\n",
       "<thead>\n",
       "\t<tr><th scope=col>Clusters</th><th scope=col>V1</th><th scope=col>V2</th></tr>\n",
       "\t<tr><th scope=col>&lt;fct&gt;</th><th scope=col>&lt;dbl&gt;</th><th scope=col>&lt;dbl&gt;</th></tr>\n",
       "</thead>\n",
       "<tbody>\n",
       "\t<tr><td>1</td><td>0.6666667</td><td>3.666667</td></tr>\n",
       "\t<tr><td>2</td><td>5.0000000</td><td>1.000000</td></tr>\n",
       "</tbody>\n",
       "</table>\n"
      ],
      "text/latex": [
       "A data.frame: 2 × 3\n",
       "\\begin{tabular}{lll}\n",
       " Clusters & V1 & V2\\\\\n",
       " <fct> & <dbl> & <dbl>\\\\\n",
       "\\hline\n",
       "\t 1 & 0.6666667 & 3.666667\\\\\n",
       "\t 2 & 5.0000000 & 1.000000\\\\\n",
       "\\end{tabular}\n"
      ],
      "text/markdown": [
       "\n",
       "A data.frame: 2 × 3\n",
       "\n",
       "| Clusters &lt;fct&gt; | V1 &lt;dbl&gt; | V2 &lt;dbl&gt; |\n",
       "|---|---|---|\n",
       "| 1 | 0.6666667 | 3.666667 |\n",
       "| 2 | 5.0000000 | 1.000000 |\n",
       "\n"
      ],
      "text/plain": [
       "  Clusters V1        V2      \n",
       "1 1        0.6666667 3.666667\n",
       "2 2        5.0000000 1.000000"
      ]
     },
     "metadata": {},
     "output_type": "display_data"
    }
   ],
   "source": [
    "#repeat the steps c and d until answers stop changing\n",
    "centroids_2 = aggregate(X, list(Clusters = cluster_2), mean)\n",
    "centroids_2"
   ]
  },
  {
   "cell_type": "code",
   "execution_count": 16,
   "id": "c862dfaf",
   "metadata": {},
   "outputs": [
    {
     "data": {
      "text/html": [
       "<style>\n",
       ".list-inline {list-style: none; margin:0; padding: 0}\n",
       ".list-inline>li {display: inline-block}\n",
       ".list-inline>li:not(:last-child)::after {content: \"\\00b7\"; padding: 0 .5ex}\n",
       "</style>\n",
       "<ol class=list-inline><li>1</li><li>1</li><li>1</li><li>2</li><li>2</li><li>2</li></ol>\n",
       "\n",
       "<details>\n",
       "\t<summary style=display:list-item;cursor:pointer>\n",
       "\t\t<strong>Levels</strong>:\n",
       "\t</summary>\n",
       "\t<style>\n",
       "\t.list-inline {list-style: none; margin:0; padding: 0}\n",
       "\t.list-inline>li {display: inline-block}\n",
       "\t.list-inline>li:not(:last-child)::after {content: \"\\00b7\"; padding: 0 .5ex}\n",
       "\t</style>\n",
       "\t<ol class=list-inline><li>'1'</li><li>'2'</li></ol>\n",
       "</details>"
      ],
      "text/latex": [
       "\\begin{enumerate*}\n",
       "\\item 1\n",
       "\\item 1\n",
       "\\item 1\n",
       "\\item 2\n",
       "\\item 2\n",
       "\\item 2\n",
       "\\end{enumerate*}\n",
       "\n",
       "\\emph{Levels}: \\begin{enumerate*}\n",
       "\\item '1'\n",
       "\\item '2'\n",
       "\\end{enumerate*}\n"
      ],
      "text/markdown": [
       "1. 1\n",
       "2. 1\n",
       "3. 1\n",
       "4. 2\n",
       "5. 2\n",
       "6. 2\n",
       "\n",
       "\n",
       "\n",
       "**Levels**: 1. '1'\n",
       "2. '2'\n",
       "\n",
       "\n"
      ],
      "text/plain": [
       "[1] 1 1 1 2 2 2\n",
       "Levels: 1 2"
      ]
     },
     "metadata": {},
     "output_type": "display_data"
    }
   ],
   "source": [
    "cluster_3 = knn(centroids_2[,2:3], X, factor(centroids_2[,1]))\n",
    "cluster_3"
   ]
  },
  {
   "cell_type": "markdown",
   "id": "59922658",
   "metadata": {},
   "source": [
    "###### f)"
   ]
  },
  {
   "cell_type": "code",
   "execution_count": 23,
   "id": "09f6ad3f",
   "metadata": {},
   "outputs": [
    {
     "data": {
      "image/png": "[encoded data removed]",
      "text/plain": [
       "plot without title"
      ]
     },
     "metadata": {
      "image/png": {
       "height": 420,
       "width": 420
      }
     },
     "output_type": "display_data"
    }
   ],
   "source": [
    "plot(X)\n",
    "points(centroids[1,2:3], col = \"blue\")\n",
    "points(centroids[2,2:3], col = \"red\", pch = 2)"
   ]
  },
  {
   "cell_type": "markdown",
   "id": "75946ef7",
   "metadata": {},
   "source": [
    "### Exercice 8, chap 10 (p416)"
   ]
  },
  {
   "cell_type": "markdown",
   "id": "392784a8",
   "metadata": {},
   "source": [
    "###### a)"
   ]
  },
  {
   "cell_type": "code",
   "execution_count": 4,
   "id": "1f508eae",
   "metadata": {},
   "outputs": [
    {
     "name": "stdout",
     "output_type": "stream",
     "text": [
      "package 'data.table' successfully unpacked and MD5 sums checked\n",
      "\n",
      "The downloaded binary packages are in\n",
      "\tC:\\Users\\rcolombier\\AppData\\Local\\Temp\\Rtmp4AbiJy\\downloaded_packages\n"
     ]
    }
   ],
   "source": [
    "install.packages(\"data.table\")\n",
    "library(data.table)"
   ]
  },
  {
   "cell_type": "code",
   "execution_count": 7,
   "id": "2e64e1ca",
   "metadata": {},
   "outputs": [
    {
     "data": {
      "text/html": [
       "<table class=\"dataframe\">\n",
       "<caption>A data.table: 6 × 4</caption>\n",
       "<thead>\n",
       "\t<tr><th scope=col>Murder</th><th scope=col>Assault</th><th scope=col>UrbanPop</th><th scope=col>Rape</th></tr>\n",
       "\t<tr><th scope=col>&lt;dbl&gt;</th><th scope=col>&lt;int&gt;</th><th scope=col>&lt;int&gt;</th><th scope=col>&lt;dbl&gt;</th></tr>\n",
       "</thead>\n",
       "<tbody>\n",
       "\t<tr><td>13.2</td><td>236</td><td>58</td><td>21.2</td></tr>\n",
       "\t<tr><td>10.0</td><td>263</td><td>48</td><td>44.5</td></tr>\n",
       "\t<tr><td> 8.1</td><td>294</td><td>80</td><td>31.0</td></tr>\n",
       "\t<tr><td> 8.8</td><td>190</td><td>50</td><td>19.5</td></tr>\n",
       "\t<tr><td> 9.0</td><td>276</td><td>91</td><td>40.6</td></tr>\n",
       "\t<tr><td> 7.9</td><td>204</td><td>78</td><td>38.7</td></tr>\n",
       "</tbody>\n",
       "</table>\n"
      ],
      "text/latex": [
       "A data.table: 6 × 4\n",
       "\\begin{tabular}{llll}\n",
       " Murder & Assault & UrbanPop & Rape\\\\\n",
       " <dbl> & <int> & <int> & <dbl>\\\\\n",
       "\\hline\n",
       "\t 13.2 & 236 & 58 & 21.2\\\\\n",
       "\t 10.0 & 263 & 48 & 44.5\\\\\n",
       "\t  8.1 & 294 & 80 & 31.0\\\\\n",
       "\t  8.8 & 190 & 50 & 19.5\\\\\n",
       "\t  9.0 & 276 & 91 & 40.6\\\\\n",
       "\t  7.9 & 204 & 78 & 38.7\\\\\n",
       "\\end{tabular}\n"
      ],
      "text/markdown": [
       "\n",
       "A data.table: 6 × 4\n",
       "\n",
       "| Murder &lt;dbl&gt; | Assault &lt;int&gt; | UrbanPop &lt;int&gt; | Rape &lt;dbl&gt; |\n",
       "|---|---|---|---|\n",
       "| 13.2 | 236 | 58 | 21.2 |\n",
       "| 10.0 | 263 | 48 | 44.5 |\n",
       "|  8.1 | 294 | 80 | 31.0 |\n",
       "|  8.8 | 190 | 50 | 19.5 |\n",
       "|  9.0 | 276 | 91 | 40.6 |\n",
       "|  7.9 | 204 | 78 | 38.7 |\n",
       "\n"
      ],
      "text/plain": [
       "  Murder Assault UrbanPop Rape\n",
       "1 13.2   236     58       21.2\n",
       "2 10.0   263     48       44.5\n",
       "3  8.1   294     80       31.0\n",
       "4  8.8   190     50       19.5\n",
       "5  9.0   276     91       40.6\n",
       "6  7.9   204     78       38.7"
      ]
     },
     "metadata": {},
     "output_type": "display_data"
    }
   ],
   "source": [
    "set.seed(123)\n",
    "#create a table to work on it\n",
    "table = data.table(USArrests)\n",
    "head(table)"
   ]
  },
  {
   "cell_type": "code",
   "execution_count": 10,
   "id": "0f8f281a",
   "metadata": {},
   "outputs": [
    {
     "data": {
      "text/html": [
       "<style>\n",
       ".list-inline {list-style: none; margin:0; padding: 0}\n",
       ".list-inline>li {display: inline-block}\n",
       ".list-inline>li:not(:last-child)::after {content: \"\\00b7\"; padding: 0 .5ex}\n",
       "</style>\n",
       "<ol class=list-inline><li>0.620060394787374</li><li>0.24744128813496</li><li>0.0891407951452074</li><li>0.0433575219324588</li></ol>\n"
      ],
      "text/latex": [
       "\\begin{enumerate*}\n",
       "\\item 0.620060394787374\n",
       "\\item 0.24744128813496\n",
       "\\item 0.0891407951452074\n",
       "\\item 0.0433575219324588\n",
       "\\end{enumerate*}\n"
      ],
      "text/markdown": [
       "1. 0.620060394787374\n",
       "2. 0.24744128813496\n",
       "3. 0.0891407951452074\n",
       "4. 0.0433575219324588\n",
       "\n",
       "\n"
      ],
      "text/plain": [
       "[1] 0.62006039 0.24744129 0.08914080 0.04335752"
      ]
     },
     "metadata": {},
     "output_type": "display_data"
    }
   ],
   "source": [
    "#output the prcomp function\n",
    "prcomp = prcomp(table, center = T, scale = T)\n",
    "\n",
    "#select the standard deviation and square it to obtain the percentage of variance obtained\n",
    "pve = prcomp$sdev^2 / sum(prcomp$sdev^2)\n",
    "pve"
   ]
  },
  {
   "cell_type": "markdown",
   "id": "ebdabbc8",
   "metadata": {},
   "source": [
    "### Exercice 9, chap 10 (p416)"
   ]
  },
  {
   "cell_type": "markdown",
   "id": "962bfb95",
   "metadata": {},
   "source": [
    "###### a)"
   ]
  },
  {
   "cell_type": "code",
   "execution_count": 1,
   "id": "096c79b3",
   "metadata": {},
   "outputs": [],
   "source": [
    "cluster_complete <- hclust(dist(USArrests, method = \"euclidean\"), method=\"complete\")\n"
   ]
  },
  {
   "cell_type": "code",
   "execution_count": 2,
   "id": "10b5b554",
   "metadata": {},
   "outputs": [
    {
     "data": {
      "image/png": "[encoded data removed]",
      "text/plain": [
       "Plot with title \"Complete Linkage\""
      ]
     },
     "metadata": {
      "image/png": {
       "height": 420,
       "width": 420
      }
     },
     "output_type": "display_data"
    }
   ],
   "source": [
    "plot(cluster_complete,main=\"Complete Linkage\", xlab=\"\", sub=\"dendogram\", cex=.7)"
   ]
  },
  {
   "cell_type": "markdown",
   "id": "8cd3bb65",
   "metadata": {},
   "source": [
    "###### b) "
   ]
  },
  {
   "cell_type": "code",
   "execution_count": 4,
   "id": "aaaa8fbb",
   "metadata": {
    "scrolled": true
   },
   "outputs": [
    {
     "data": {
      "text/html": [
       "<style>\n",
       ".dl-inline {width: auto; margin:0; padding: 0}\n",
       ".dl-inline>dt, .dl-inline>dd {float: none; width: auto; display: inline-block}\n",
       ".dl-inline>dt::after {content: \":\\0020\"; padding-right: .5ex}\n",
       ".dl-inline>dt:not(:first-of-type) {padding-left: .5ex}\n",
       "</style><dl class=dl-inline><dt>Alabama</dt><dd>1</dd><dt>Alaska</dt><dd>1</dd><dt>Arizona</dt><dd>1</dd><dt>Arkansas</dt><dd>2</dd><dt>California</dt><dd>1</dd><dt>Colorado</dt><dd>2</dd><dt>Connecticut</dt><dd>3</dd><dt>Delaware</dt><dd>1</dd><dt>Florida</dt><dd>1</dd><dt>Georgia</dt><dd>2</dd><dt>Hawaii</dt><dd>3</dd><dt>Idaho</dt><dd>3</dd><dt>Illinois</dt><dd>1</dd><dt>Indiana</dt><dd>3</dd><dt>Iowa</dt><dd>3</dd><dt>Kansas</dt><dd>3</dd><dt>Kentucky</dt><dd>3</dd><dt>Louisiana</dt><dd>1</dd><dt>Maine</dt><dd>3</dd><dt>Maryland</dt><dd>1</dd><dt>Massachusetts</dt><dd>2</dd><dt>Michigan</dt><dd>1</dd><dt>Minnesota</dt><dd>3</dd><dt>Mississippi</dt><dd>1</dd><dt>Missouri</dt><dd>2</dd><dt>Montana</dt><dd>3</dd><dt>Nebraska</dt><dd>3</dd><dt>Nevada</dt><dd>1</dd><dt>New Hampshire</dt><dd>3</dd><dt>New Jersey</dt><dd>2</dd><dt>New Mexico</dt><dd>1</dd><dt>New York</dt><dd>1</dd><dt>North Carolina</dt><dd>1</dd><dt>North Dakota</dt><dd>3</dd><dt>Ohio</dt><dd>3</dd><dt>Oklahoma</dt><dd>2</dd><dt>Oregon</dt><dd>2</dd><dt>Pennsylvania</dt><dd>3</dd><dt>Rhode Island</dt><dd>2</dd><dt>South Carolina</dt><dd>1</dd><dt>South Dakota</dt><dd>3</dd><dt>Tennessee</dt><dd>2</dd><dt>Texas</dt><dd>2</dd><dt>Utah</dt><dd>3</dd><dt>Vermont</dt><dd>3</dd><dt>Virginia</dt><dd>2</dd><dt>Washington</dt><dd>2</dd><dt>West Virginia</dt><dd>3</dd><dt>Wisconsin</dt><dd>3</dd><dt>Wyoming</dt><dd>2</dd></dl>\n"
      ],
      "text/latex": [
       "\\begin{description*}\n",
       "\\item[Alabama] 1\n",
       "\\item[Alaska] 1\n",
       "\\item[Arizona] 1\n",
       "\\item[Arkansas] 2\n",
       "\\item[California] 1\n",
       "\\item[Colorado] 2\n",
       "\\item[Connecticut] 3\n",
       "\\item[Delaware] 1\n",
       "\\item[Florida] 1\n",
       "\\item[Georgia] 2\n",
       "\\item[Hawaii] 3\n",
       "\\item[Idaho] 3\n",
       "\\item[Illinois] 1\n",
       "\\item[Indiana] 3\n",
       "\\item[Iowa] 3\n",
       "\\item[Kansas] 3\n",
       "\\item[Kentucky] 3\n",
       "\\item[Louisiana] 1\n",
       "\\item[Maine] 3\n",
       "\\item[Maryland] 1\n",
       "\\item[Massachusetts] 2\n",
       "\\item[Michigan] 1\n",
       "\\item[Minnesota] 3\n",
       "\\item[Mississippi] 1\n",
       "\\item[Missouri] 2\n",
       "\\item[Montana] 3\n",
       "\\item[Nebraska] 3\n",
       "\\item[Nevada] 1\n",
       "\\item[New Hampshire] 3\n",
       "\\item[New Jersey] 2\n",
       "\\item[New Mexico] 1\n",
       "\\item[New York] 1\n",
       "\\item[North Carolina] 1\n",
       "\\item[North Dakota] 3\n",
       "\\item[Ohio] 3\n",
       "\\item[Oklahoma] 2\n",
       "\\item[Oregon] 2\n",
       "\\item[Pennsylvania] 3\n",
       "\\item[Rhode Island] 2\n",
       "\\item[South Carolina] 1\n",
       "\\item[South Dakota] 3\n",
       "\\item[Tennessee] 2\n",
       "\\item[Texas] 2\n",
       "\\item[Utah] 3\n",
       "\\item[Vermont] 3\n",
       "\\item[Virginia] 2\n",
       "\\item[Washington] 2\n",
       "\\item[West Virginia] 3\n",
       "\\item[Wisconsin] 3\n",
       "\\item[Wyoming] 2\n",
       "\\end{description*}\n"
      ],
      "text/markdown": [
       "Alabama\n",
       ":   1Alaska\n",
       ":   1Arizona\n",
       ":   1Arkansas\n",
       ":   2California\n",
       ":   1Colorado\n",
       ":   2Connecticut\n",
       ":   3Delaware\n",
       ":   1Florida\n",
       ":   1Georgia\n",
       ":   2Hawaii\n",
       ":   3Idaho\n",
       ":   3Illinois\n",
       ":   1Indiana\n",
       ":   3Iowa\n",
       ":   3Kansas\n",
       ":   3Kentucky\n",
       ":   3Louisiana\n",
       ":   1Maine\n",
       ":   3Maryland\n",
       ":   1Massachusetts\n",
       ":   2Michigan\n",
       ":   1Minnesota\n",
       ":   3Mississippi\n",
       ":   1Missouri\n",
       ":   2Montana\n",
       ":   3Nebraska\n",
       ":   3Nevada\n",
       ":   1New Hampshire\n",
       ":   3New Jersey\n",
       ":   2New Mexico\n",
       ":   1New York\n",
       ":   1North Carolina\n",
       ":   1North Dakota\n",
       ":   3Ohio\n",
       ":   3Oklahoma\n",
       ":   2Oregon\n",
       ":   2Pennsylvania\n",
       ":   3Rhode Island\n",
       ":   2South Carolina\n",
       ":   1South Dakota\n",
       ":   3Tennessee\n",
       ":   2Texas\n",
       ":   2Utah\n",
       ":   3Vermont\n",
       ":   3Virginia\n",
       ":   2Washington\n",
       ":   2West Virginia\n",
       ":   3Wisconsin\n",
       ":   3Wyoming\n",
       ":   2\n",
       "\n"
      ],
      "text/plain": [
       "       Alabama         Alaska        Arizona       Arkansas     California \n",
       "             1              1              1              2              1 \n",
       "      Colorado    Connecticut       Delaware        Florida        Georgia \n",
       "             2              3              1              1              2 \n",
       "        Hawaii          Idaho       Illinois        Indiana           Iowa \n",
       "             3              3              1              3              3 \n",
       "        Kansas       Kentucky      Louisiana          Maine       Maryland \n",
       "             3              3              1              3              1 \n",
       " Massachusetts       Michigan      Minnesota    Mississippi       Missouri \n",
       "             2              1              3              1              2 \n",
       "       Montana       Nebraska         Nevada  New Hampshire     New Jersey \n",
       "             3              3              1              3              2 \n",
       "    New Mexico       New York North Carolina   North Dakota           Ohio \n",
       "             1              1              1              3              3 \n",
       "      Oklahoma         Oregon   Pennsylvania   Rhode Island South Carolina \n",
       "             2              2              3              2              1 \n",
       "  South Dakota      Tennessee          Texas           Utah        Vermont \n",
       "             3              2              2              3              3 \n",
       "      Virginia     Washington  West Virginia      Wisconsin        Wyoming \n",
       "             2              2              3              3              2 "
      ]
     },
     "metadata": {},
     "output_type": "display_data"
    }
   ],
   "source": [
    "#cut the dendogramm at a height where there is 3 clusters\n",
    "new_clusters = cutree(cluster_complete, 3)\n",
    "new_clusters"
   ]
  },
  {
   "cell_type": "markdown",
   "id": "a592101a",
   "metadata": {},
   "source": [
    "###### c) "
   ]
  },
  {
   "cell_type": "code",
   "execution_count": 7,
   "id": "643d3a61",
   "metadata": {},
   "outputs": [],
   "source": [
    "#scale the variable\n",
    "USArrests_scale = scale(USArrests)\n",
    "\n",
    "#use complete linkage and euclidean distance\n",
    "cluster_complete_2 = hclust(dist(USArrests_scale, method = \"euclidean\"), method = \"complete\")"
   ]
  },
  {
   "cell_type": "code",
   "execution_count": 10,
   "id": "3ab5475a",
   "metadata": {},
   "outputs": [
    {
     "data": {
      "image/png": "[encoded data removed]",
      "text/plain": [
       "Plot with title \"Dendogram with variable scaled\""
      ]
     },
     "metadata": {
      "image/png": {
       "height": 420,
       "width": 420
      }
     },
     "output_type": "display_data"
    }
   ],
   "source": [
    "plot(cluster_complete_2, main = \"Dendogram with variable scaled\")"
   ]
  },
  {
   "cell_type": "code",
   "execution_count": 11,
   "id": "85539567",
   "metadata": {
    "scrolled": true
   },
   "outputs": [
    {
     "data": {
      "text/html": [
       "<style>\n",
       ".dl-inline {width: auto; margin:0; padding: 0}\n",
       ".dl-inline>dt, .dl-inline>dd {float: none; width: auto; display: inline-block}\n",
       ".dl-inline>dt::after {content: \":\\0020\"; padding-right: .5ex}\n",
       ".dl-inline>dt:not(:first-of-type) {padding-left: .5ex}\n",
       "</style><dl class=dl-inline><dt>Alabama</dt><dd>1</dd><dt>Alaska</dt><dd>1</dd><dt>Arizona</dt><dd>2</dd><dt>Arkansas</dt><dd>3</dd><dt>California</dt><dd>2</dd><dt>Colorado</dt><dd>2</dd><dt>Connecticut</dt><dd>3</dd><dt>Delaware</dt><dd>3</dd><dt>Florida</dt><dd>2</dd><dt>Georgia</dt><dd>1</dd><dt>Hawaii</dt><dd>3</dd><dt>Idaho</dt><dd>3</dd><dt>Illinois</dt><dd>2</dd><dt>Indiana</dt><dd>3</dd><dt>Iowa</dt><dd>3</dd><dt>Kansas</dt><dd>3</dd><dt>Kentucky</dt><dd>3</dd><dt>Louisiana</dt><dd>1</dd><dt>Maine</dt><dd>3</dd><dt>Maryland</dt><dd>2</dd><dt>Massachusetts</dt><dd>3</dd><dt>Michigan</dt><dd>2</dd><dt>Minnesota</dt><dd>3</dd><dt>Mississippi</dt><dd>1</dd><dt>Missouri</dt><dd>3</dd><dt>Montana</dt><dd>3</dd><dt>Nebraska</dt><dd>3</dd><dt>Nevada</dt><dd>2</dd><dt>New Hampshire</dt><dd>3</dd><dt>New Jersey</dt><dd>3</dd><dt>New Mexico</dt><dd>2</dd><dt>New York</dt><dd>2</dd><dt>North Carolina</dt><dd>1</dd><dt>North Dakota</dt><dd>3</dd><dt>Ohio</dt><dd>3</dd><dt>Oklahoma</dt><dd>3</dd><dt>Oregon</dt><dd>3</dd><dt>Pennsylvania</dt><dd>3</dd><dt>Rhode Island</dt><dd>3</dd><dt>South Carolina</dt><dd>1</dd><dt>South Dakota</dt><dd>3</dd><dt>Tennessee</dt><dd>1</dd><dt>Texas</dt><dd>2</dd><dt>Utah</dt><dd>3</dd><dt>Vermont</dt><dd>3</dd><dt>Virginia</dt><dd>3</dd><dt>Washington</dt><dd>3</dd><dt>West Virginia</dt><dd>3</dd><dt>Wisconsin</dt><dd>3</dd><dt>Wyoming</dt><dd>3</dd></dl>\n"
      ],
      "text/latex": [
       "\\begin{description*}\n",
       "\\item[Alabama] 1\n",
       "\\item[Alaska] 1\n",
       "\\item[Arizona] 2\n",
       "\\item[Arkansas] 3\n",
       "\\item[California] 2\n",
       "\\item[Colorado] 2\n",
       "\\item[Connecticut] 3\n",
       "\\item[Delaware] 3\n",
       "\\item[Florida] 2\n",
       "\\item[Georgia] 1\n",
       "\\item[Hawaii] 3\n",
       "\\item[Idaho] 3\n",
       "\\item[Illinois] 2\n",
       "\\item[Indiana] 3\n",
       "\\item[Iowa] 3\n",
       "\\item[Kansas] 3\n",
       "\\item[Kentucky] 3\n",
       "\\item[Louisiana] 1\n",
       "\\item[Maine] 3\n",
       "\\item[Maryland] 2\n",
       "\\item[Massachusetts] 3\n",
       "\\item[Michigan] 2\n",
       "\\item[Minnesota] 3\n",
       "\\item[Mississippi] 1\n",
       "\\item[Missouri] 3\n",
       "\\item[Montana] 3\n",
       "\\item[Nebraska] 3\n",
       "\\item[Nevada] 2\n",
       "\\item[New Hampshire] 3\n",
       "\\item[New Jersey] 3\n",
       "\\item[New Mexico] 2\n",
       "\\item[New York] 2\n",
       "\\item[North Carolina] 1\n",
       "\\item[North Dakota] 3\n",
       "\\item[Ohio] 3\n",
       "\\item[Oklahoma] 3\n",
       "\\item[Oregon] 3\n",
       "\\item[Pennsylvania] 3\n",
       "\\item[Rhode Island] 3\n",
       "\\item[South Carolina] 1\n",
       "\\item[South Dakota] 3\n",
       "\\item[Tennessee] 1\n",
       "\\item[Texas] 2\n",
       "\\item[Utah] 3\n",
       "\\item[Vermont] 3\n",
       "\\item[Virginia] 3\n",
       "\\item[Washington] 3\n",
       "\\item[West Virginia] 3\n",
       "\\item[Wisconsin] 3\n",
       "\\item[Wyoming] 3\n",
       "\\end{description*}\n"
      ],
      "text/markdown": [
       "Alabama\n",
       ":   1Alaska\n",
       ":   1Arizona\n",
       ":   2Arkansas\n",
       ":   3California\n",
       ":   2Colorado\n",
       ":   2Connecticut\n",
       ":   3Delaware\n",
       ":   3Florida\n",
       ":   2Georgia\n",
       ":   1Hawaii\n",
       ":   3Idaho\n",
       ":   3Illinois\n",
       ":   2Indiana\n",
       ":   3Iowa\n",
       ":   3Kansas\n",
       ":   3Kentucky\n",
       ":   3Louisiana\n",
       ":   1Maine\n",
       ":   3Maryland\n",
       ":   2Massachusetts\n",
       ":   3Michigan\n",
       ":   2Minnesota\n",
       ":   3Mississippi\n",
       ":   1Missouri\n",
       ":   3Montana\n",
       ":   3Nebraska\n",
       ":   3Nevada\n",
       ":   2New Hampshire\n",
       ":   3New Jersey\n",
       ":   3New Mexico\n",
       ":   2New York\n",
       ":   2North Carolina\n",
       ":   1North Dakota\n",
       ":   3Ohio\n",
       ":   3Oklahoma\n",
       ":   3Oregon\n",
       ":   3Pennsylvania\n",
       ":   3Rhode Island\n",
       ":   3South Carolina\n",
       ":   1South Dakota\n",
       ":   3Tennessee\n",
       ":   1Texas\n",
       ":   2Utah\n",
       ":   3Vermont\n",
       ":   3Virginia\n",
       ":   3Washington\n",
       ":   3West Virginia\n",
       ":   3Wisconsin\n",
       ":   3Wyoming\n",
       ":   3\n",
       "\n"
      ],
      "text/plain": [
       "       Alabama         Alaska        Arizona       Arkansas     California \n",
       "             1              1              2              3              2 \n",
       "      Colorado    Connecticut       Delaware        Florida        Georgia \n",
       "             2              3              3              2              1 \n",
       "        Hawaii          Idaho       Illinois        Indiana           Iowa \n",
       "             3              3              2              3              3 \n",
       "        Kansas       Kentucky      Louisiana          Maine       Maryland \n",
       "             3              3              1              3              2 \n",
       " Massachusetts       Michigan      Minnesota    Mississippi       Missouri \n",
       "             3              2              3              1              3 \n",
       "       Montana       Nebraska         Nevada  New Hampshire     New Jersey \n",
       "             3              3              2              3              3 \n",
       "    New Mexico       New York North Carolina   North Dakota           Ohio \n",
       "             2              2              1              3              3 \n",
       "      Oklahoma         Oregon   Pennsylvania   Rhode Island South Carolina \n",
       "             3              3              3              3              1 \n",
       "  South Dakota      Tennessee          Texas           Utah        Vermont \n",
       "             3              1              2              3              3 \n",
       "      Virginia     Washington  West Virginia      Wisconsin        Wyoming \n",
       "             3              3              3              3              3 "
      ]
     },
     "metadata": {},
     "output_type": "display_data"
    }
   ],
   "source": [
    "#see if we cut the dendogram now with variable scaled\n",
    "scaled_clusters = cutree(cluster_complete_2, 3)\n",
    "scaled_clusters"
   ]
  },
  {
   "cell_type": "markdown",
   "id": "c1da7d67",
   "metadata": {},
   "source": [
    "###### d)"
   ]
  },
  {
   "cell_type": "markdown",
   "id": "943bb513",
   "metadata": {},
   "source": [
    "It is very important to scale since there is some variable like urban population that are not the same unit as others variables like rape/Assault. So to have a complete contribution of all variable in the algorithm you need to scale. "
   ]
  },
  {
   "cell_type": "markdown",
   "id": "12a72668",
   "metadata": {},
   "source": [
    "### Exercice 10, chap 10 (p417)"
   ]
  },
  {
   "cell_type": "markdown",
   "id": "45dd572d",
   "metadata": {},
   "source": [
    "###### a)"
   ]
  },
  {
   "cell_type": "code",
   "execution_count": 14,
   "id": "84025cad",
   "metadata": {},
   "outputs": [
    {
     "data": {
      "text/html": [
       "<table class=\"dataframe\">\n",
       "<caption>A matrix: 6 × 50 of type dbl</caption>\n",
       "<tbody>\n",
       "\t<tr><td> 1.43594975</td><td>-0.2367026</td><td> 0.7594296</td><td>-1.9637579</td><td>-0.76424860</td><td> 0.07736735</td><td> 0.2054884</td><td>-0.08919677</td><td> 1.7592897</td><td> 0.5459852</td><td>⋯</td><td> 0.5677641</td><td> 0.8763396</td><td>-1.1415870</td><td> 1.00980224</td><td>-0.87920951</td><td>-0.3690684</td><td> 0.3665009</td><td> 0.2112606</td><td> 1.1719338</td><td>-1.8354954</td></tr>\n",
       "\t<tr><td>-0.09342323</td><td>-0.4706399</td><td> 0.1313858</td><td> 0.3719995</td><td> 0.04659534</td><td>-1.03830286</td><td> 0.2767151</td><td>-0.71823429</td><td>-0.4427624</td><td> 0.4840570</td><td>⋯</td><td> 1.6378328</td><td> 0.5265309</td><td> 0.2485459</td><td> 0.04066970</td><td> 0.26766731</td><td> 0.6206934</td><td> 0.9537710</td><td>-0.1036633</td><td>-0.5996660</td><td>-0.1242188</td></tr>\n",
       "\t<tr><td>-0.34028103</td><td> 0.3826494</td><td>-1.5739183</td><td> 0.9157733</td><td>-0.35060137</td><td> 0.69462459</td><td>-0.1773002</td><td>-0.29780053</td><td>-0.2994218</td><td>-0.6821096</td><td>⋯</td><td> 1.9609245</td><td>-0.7760236</td><td>-0.6444134</td><td>-1.16763772</td><td>-0.57849646</td><td> 0.5768988</td><td> 1.1280423</td><td>-1.0549817</td><td>-1.4596819</td><td> 0.1813765</td></tr>\n",
       "\t<tr><td>-0.86237990</td><td>-1.4792986</td><td> 0.6348984</td><td>-0.5162131</td><td>-0.01028067</td><td> 3.03471094</td><td>-0.9262506</td><td> 0.55107092</td><td>-0.5818162</td><td> 0.6350656</td><td>⋯</td><td> 1.4073898</td><td>-1.0000548</td><td>-1.4445373</td><td> 0.06711774</td><td>-0.38254802</td><td>-1.2455860</td><td>-1.2898602</td><td>-0.4726655</td><td>-0.8851903</td><td> 0.2148896</td></tr>\n",
       "\t<tr><td> 1.43938659</td><td> 0.3531591</td><td> 0.5383895</td><td>-0.2677233</td><td>-0.48529413</td><td> 0.79832463</td><td>-0.7228658</td><td>-0.99481124</td><td> 0.8655564</td><td> 1.5066415</td><td>⋯</td><td> 0.7853058</td><td>-0.3466519</td><td> 0.0473442</td><td> 0.47069220</td><td> 0.08406167</td><td>-0.4825966</td><td> 0.2231396</td><td>-0.1907298</td><td>-0.3944204</td><td>-1.3860252</td></tr>\n",
       "\t<tr><td>-3.02890354</td><td> 0.2712853</td><td>-0.3560129</td><td> 0.4669485</td><td> 0.49809822</td><td>-0.76240550</td><td> 2.2467655</td><td>-0.88169424</td><td> 0.3407590</td><td>-0.3843765</td><td>⋯</td><td>-1.4428994</td><td>-0.1697280</td><td> 0.6475387</td><td>-0.91073137</td><td>-0.44382391</td><td>-1.4941484</td><td>-1.1595657</td><td>-0.1151177</td><td>-0.9655931</td><td> 0.8111554</td></tr>\n",
       "</tbody>\n",
       "</table>\n"
      ],
      "text/latex": [
       "A matrix: 6 × 50 of type dbl\n",
       "\\begin{tabular}{lllllllllllllllllllll}\n",
       "\t  1.43594975 & -0.2367026 &  0.7594296 & -1.9637579 & -0.76424860 &  0.07736735 &  0.2054884 & -0.08919677 &  1.7592897 &  0.5459852 & ⋯ &  0.5677641 &  0.8763396 & -1.1415870 &  1.00980224 & -0.87920951 & -0.3690684 &  0.3665009 &  0.2112606 &  1.1719338 & -1.8354954\\\\\n",
       "\t -0.09342323 & -0.4706399 &  0.1313858 &  0.3719995 &  0.04659534 & -1.03830286 &  0.2767151 & -0.71823429 & -0.4427624 &  0.4840570 & ⋯ &  1.6378328 &  0.5265309 &  0.2485459 &  0.04066970 &  0.26766731 &  0.6206934 &  0.9537710 & -0.1036633 & -0.5996660 & -0.1242188\\\\\n",
       "\t -0.34028103 &  0.3826494 & -1.5739183 &  0.9157733 & -0.35060137 &  0.69462459 & -0.1773002 & -0.29780053 & -0.2994218 & -0.6821096 & ⋯ &  1.9609245 & -0.7760236 & -0.6444134 & -1.16763772 & -0.57849646 &  0.5768988 &  1.1280423 & -1.0549817 & -1.4596819 &  0.1813765\\\\\n",
       "\t -0.86237990 & -1.4792986 &  0.6348984 & -0.5162131 & -0.01028067 &  3.03471094 & -0.9262506 &  0.55107092 & -0.5818162 &  0.6350656 & ⋯ &  1.4073898 & -1.0000548 & -1.4445373 &  0.06711774 & -0.38254802 & -1.2455860 & -1.2898602 & -0.4726655 & -0.8851903 &  0.2148896\\\\\n",
       "\t  1.43938659 &  0.3531591 &  0.5383895 & -0.2677233 & -0.48529413 &  0.79832463 & -0.7228658 & -0.99481124 &  0.8655564 &  1.5066415 & ⋯ &  0.7853058 & -0.3466519 &  0.0473442 &  0.47069220 &  0.08406167 & -0.4825966 &  0.2231396 & -0.1907298 & -0.3944204 & -1.3860252\\\\\n",
       "\t -3.02890354 &  0.2712853 & -0.3560129 &  0.4669485 &  0.49809822 & -0.76240550 &  2.2467655 & -0.88169424 &  0.3407590 & -0.3843765 & ⋯ & -1.4428994 & -0.1697280 &  0.6475387 & -0.91073137 & -0.44382391 & -1.4941484 & -1.1595657 & -0.1151177 & -0.9655931 &  0.8111554\\\\\n",
       "\\end{tabular}\n"
      ],
      "text/markdown": [
       "\n",
       "A matrix: 6 × 50 of type dbl\n",
       "\n",
       "|  1.43594975 | -0.2367026 |  0.7594296 | -1.9637579 | -0.76424860 |  0.07736735 |  0.2054884 | -0.08919677 |  1.7592897 |  0.5459852 | ⋯ |  0.5677641 |  0.8763396 | -1.1415870 |  1.00980224 | -0.87920951 | -0.3690684 |  0.3665009 |  0.2112606 |  1.1719338 | -1.8354954 |\n",
       "| -0.09342323 | -0.4706399 |  0.1313858 |  0.3719995 |  0.04659534 | -1.03830286 |  0.2767151 | -0.71823429 | -0.4427624 |  0.4840570 | ⋯ |  1.6378328 |  0.5265309 |  0.2485459 |  0.04066970 |  0.26766731 |  0.6206934 |  0.9537710 | -0.1036633 | -0.5996660 | -0.1242188 |\n",
       "| -0.34028103 |  0.3826494 | -1.5739183 |  0.9157733 | -0.35060137 |  0.69462459 | -0.1773002 | -0.29780053 | -0.2994218 | -0.6821096 | ⋯ |  1.9609245 | -0.7760236 | -0.6444134 | -1.16763772 | -0.57849646 |  0.5768988 |  1.1280423 | -1.0549817 | -1.4596819 |  0.1813765 |\n",
       "| -0.86237990 | -1.4792986 |  0.6348984 | -0.5162131 | -0.01028067 |  3.03471094 | -0.9262506 |  0.55107092 | -0.5818162 |  0.6350656 | ⋯ |  1.4073898 | -1.0000548 | -1.4445373 |  0.06711774 | -0.38254802 | -1.2455860 | -1.2898602 | -0.4726655 | -0.8851903 |  0.2148896 |\n",
       "|  1.43938659 |  0.3531591 |  0.5383895 | -0.2677233 | -0.48529413 |  0.79832463 | -0.7228658 | -0.99481124 |  0.8655564 |  1.5066415 | ⋯ |  0.7853058 | -0.3466519 |  0.0473442 |  0.47069220 |  0.08406167 | -0.4825966 |  0.2231396 | -0.1907298 | -0.3944204 | -1.3860252 |\n",
       "| -3.02890354 |  0.2712853 | -0.3560129 |  0.4669485 |  0.49809822 | -0.76240550 |  2.2467655 | -0.88169424 |  0.3407590 | -0.3843765 | ⋯ | -1.4428994 | -0.1697280 |  0.6475387 | -0.91073137 | -0.44382391 | -1.4941484 | -1.1595657 | -0.1151177 | -0.9655931 |  0.8111554 |\n",
       "\n"
      ],
      "text/plain": [
       "     [,1]        [,2]       [,3]       [,4]       [,5]        [,6]       \n",
       "[1,]  1.43594975 -0.2367026  0.7594296 -1.9637579 -0.76424860  0.07736735\n",
       "[2,] -0.09342323 -0.4706399  0.1313858  0.3719995  0.04659534 -1.03830286\n",
       "[3,] -0.34028103  0.3826494 -1.5739183  0.9157733 -0.35060137  0.69462459\n",
       "[4,] -0.86237990 -1.4792986  0.6348984 -0.5162131 -0.01028067  3.03471094\n",
       "[5,]  1.43938659  0.3531591  0.5383895 -0.2677233 -0.48529413  0.79832463\n",
       "[6,] -3.02890354  0.2712853 -0.3560129  0.4669485  0.49809822 -0.76240550\n",
       "     [,7]       [,8]        [,9]       [,10]      [,11] [,12]      [,13]     \n",
       "[1,]  0.2054884 -0.08919677  1.7592897  0.5459852 <U+22EF>  0.5677641  0.8763396\n",
       "[2,]  0.2767151 -0.71823429 -0.4427624  0.4840570 <U+22EF>  1.6378328  0.5265309\n",
       "[3,] -0.1773002 -0.29780053 -0.2994218 -0.6821096 <U+22EF>  1.9609245 -0.7760236\n",
       "[4,] -0.9262506  0.55107092 -0.5818162  0.6350656 <U+22EF>  1.4073898 -1.0000548\n",
       "[5,] -0.7228658 -0.99481124  0.8655564  1.5066415 <U+22EF>  0.7853058 -0.3466519\n",
       "[6,]  2.2467655 -0.88169424  0.3407590 -0.3843765 <U+22EF> -1.4428994 -0.1697280\n",
       "     [,14]      [,15]       [,16]       [,17]      [,18]      [,19]     \n",
       "[1,] -1.1415870  1.00980224 -0.87920951 -0.3690684  0.3665009  0.2112606\n",
       "[2,]  0.2485459  0.04066970  0.26766731  0.6206934  0.9537710 -0.1036633\n",
       "[3,] -0.6444134 -1.16763772 -0.57849646  0.5768988  1.1280423 -1.0549817\n",
       "[4,] -1.4445373  0.06711774 -0.38254802 -1.2455860 -1.2898602 -0.4726655\n",
       "[5,]  0.0473442  0.47069220  0.08406167 -0.4825966  0.2231396 -0.1907298\n",
       "[6,]  0.6475387 -0.91073137 -0.44382391 -1.4941484 -1.1595657 -0.1151177\n",
       "     [,20]      [,21]     \n",
       "[1,]  1.1719338 -1.8354954\n",
       "[2,] -0.5996660 -0.1242188\n",
       "[3,] -1.4596819  0.1813765\n",
       "[4,] -0.8851903  0.2148896\n",
       "[5,] -0.3944204 -1.3860252\n",
       "[6,] -0.9655931  0.8111554"
      ]
     },
     "metadata": {},
     "output_type": "display_data"
    }
   ],
   "source": [
    "# Generate a simulated data set with 20 observations in each of three classes (i.e. 60 observations total), and 50 variables.\n",
    "x = matrix(rnorm(20*3*50), ncol = 50)\n",
    "head(x)"
   ]
  },
  {
   "cell_type": "markdown",
   "id": "65c83019",
   "metadata": {},
   "source": [
    "###### b)"
   ]
  },
  {
   "cell_type": "code",
   "execution_count": 26,
   "id": "59ab7b75",
   "metadata": {},
   "outputs": [
    {
     "data": {
      "image/png": "[encoded data removed]",
      "text/plain": [
       "plot without title"
      ]
     },
     "metadata": {
      "image/png": {
       "height": 420,
       "width": 420
      }
     },
     "output_type": "display_data"
    }
   ],
   "source": [
    "#Perform PCA \n",
    "pcr = prcomp(x)\n",
    "\n",
    "#plot the results\n",
    "plot(pcr$x[,1:2], col = 1:3, pch = 1)"
   ]
  },
  {
   "cell_type": "markdown",
   "id": "1aef5045",
   "metadata": {},
   "source": [
    "###### c)"
   ]
  },
  {
   "cell_type": "code",
   "execution_count": 28,
   "id": "29e65975",
   "metadata": {},
   "outputs": [],
   "source": [
    "# Perform K-means clustering of the observations with K = 3. How well do the clusters that you obtained in K-means clustering compare to the true class labels?\n",
    "kmeans = kmeans(x, 3)"
   ]
  },
  {
   "cell_type": "markdown",
   "id": "70a8de97",
   "metadata": {},
   "source": [
    "###### d) "
   ]
  },
  {
   "cell_type": "code",
   "execution_count": null,
   "id": "fbe3c5e8",
   "metadata": {},
   "outputs": [],
   "source": [
    "kmeans = kmeans(x, 3)"
   ]
  }
 ],
 "metadata": {
  "kernelspec": {
   "display_name": "R",
   "language": "R",
   "name": "ir"
  },
  "language_info": {
   "codemirror_mode": "r",
   "file_extension": ".r",
   "mimetype": "text/x-r-source",
   "name": "R",
   "pygments_lexer": "r",
   "version": "4.0.5"
  }
 },
 "nbformat": 4,
 "nbformat_minor": 5
}
