{
 "cells": [
  {
   "cell_type": "markdown",
   "id": "94c07232",
   "metadata": {},
   "source": [
    "#### Ex 6 (chapter 4)"
   ]
  },
  {
   "cell_type": "markdown",
   "id": "8c94f359",
   "metadata": {},
   "source": [
    "##### a)"
   ]
  },
  {
   "cell_type": "code",
   "execution_count": 2,
   "id": "aa7ae7fa",
   "metadata": {
    "scrolled": true
   },
   "outputs": [
    {
     "data": {
      "text/html": [
       "0.377540668798145"
      ],
      "text/latex": [
       "0.377540668798145"
      ],
      "text/markdown": [
       "0.377540668798145"
      ],
      "text/plain": [
       "[1] 0.3775407"
      ]
     },
     "metadata": {},
     "output_type": "display_data"
    }
   ],
   "source": [
    "#estimate probabilities of a student who studies 40h and has a 3.5 GPA will get a A.\n",
    "b0 = -6\n",
    "b1 = 0.05\n",
    "b2 = 1\n",
    "x1 = 40\n",
    "x2 = 3.5 \n",
    "\n",
    "Y = (exp(b0+b1*40+b2*x2))/(1+ exp(b0 + b1*x1 + b2*x2))\n",
    "Y"
   ]
  },
  {
   "cell_type": "markdown",
   "id": "6a6cb8b6",
   "metadata": {},
   "source": [
    "##### b)"
   ]
  },
  {
   "cell_type": "code",
   "execution_count": 3,
   "id": "f4d6add4",
   "metadata": {},
   "outputs": [
    {
     "data": {
      "text/html": [
       "50"
      ],
      "text/latex": [
       "50"
      ],
      "text/markdown": [
       "50"
      ],
      "text/plain": [
       "[1] 50"
      ]
     },
     "metadata": {},
     "output_type": "display_data"
    }
   ],
   "source": [
    "# b0 = -6\n",
    "# b1 = 0.05\n",
    "# b2 = 1\n",
    "# x1 = ?\n",
    "# x2 = 3.5 \n",
    "\n",
    "# p(x) = exp(b0+b1*x1+b2*x2)\n",
    "\n",
    "\n",
    "# 1/2 = (p(x)/(1+ p(x))\n",
    "       \n",
    "# 2*p(X) = 1 + p(x)\n",
    "# p(X) = 1\n",
    "# p(X) = log(1)\n",
    "# p(X) = 0\n",
    "# b0+b1*x1+b2*x2 = 0\n",
    "# -6 + 0.05*x1 + 3.5*1 = 0\n",
    "x1 = (-3.5 + 6)/0.05\n",
    "x1"
   ]
  },
  {
   "cell_type": "markdown",
   "id": "42e35f3b",
   "metadata": {},
   "source": [
    "#### Ex 8 (chapter 4)"
   ]
  },
  {
   "cell_type": "markdown",
   "id": "7e68a3f9",
   "metadata": {},
   "source": [
    "Here we have K = 1, so the error rate for training set is 0%. However the average error rate of 1-nearest-neighbors is 18%. So the test errors of this model would be 36% in order to have a average test/train set of 18%. \n",
    "We know that the test errors for logistic regression is 30%, so we prefer to use logistic regression for classification as it has a lower test error rate than 1-nearest-neighbors."
   ]
  },
  {
   "cell_type": "markdown",
   "id": "19931237",
   "metadata": {},
   "source": [
    "#### Ex 9 (chapter 4)"
   ]
  },
  {
   "cell_type": "markdown",
   "id": "738ac38d",
   "metadata": {},
   "source": [
    "##### a)"
   ]
  },
  {
   "cell_type": "code",
   "execution_count": 4,
   "id": "ce6dd95b",
   "metadata": {},
   "outputs": [
    {
     "data": {
      "text/html": [
       "0.27007299270073"
      ],
      "text/latex": [
       "0.27007299270073"
      ],
      "text/markdown": [
       "0.27007299270073"
      ],
      "text/plain": [
       "[1] 0.270073"
      ]
     },
     "metadata": {},
     "output_type": "display_data"
    }
   ],
   "source": [
    "# p(X)/(1-p(X)) = 0.37\n",
    "pX = 0.37/(1 +0.37)\n",
    "pX\n"
   ]
  },
  {
   "cell_type": "markdown",
   "id": "ac2cef66",
   "metadata": {},
   "source": [
    "##### b)"
   ]
  },
  {
   "cell_type": "code",
   "execution_count": 5,
   "id": "c2526bef",
   "metadata": {},
   "outputs": [
    {
     "data": {
      "text/html": [
       "0.19047619047619"
      ],
      "text/latex": [
       "0.19047619047619"
      ],
      "text/markdown": [
       "0.19047619047619"
      ],
      "text/plain": [
       "[1] 0.1904762"
      ]
     },
     "metadata": {},
     "output_type": "display_data"
    }
   ],
   "source": [
    "pX2 = 0.16/(1-0.16)\n",
    "pX2"
   ]
  },
  {
   "cell_type": "markdown",
   "id": "80e69dda",
   "metadata": {},
   "source": [
    "#### Ex 10 (chapter 4)"
   ]
  },
  {
   "cell_type": "markdown",
   "id": "bd5940ad",
   "metadata": {},
   "source": [
    "##### a)"
   ]
  },
  {
   "cell_type": "code",
   "execution_count": 6,
   "id": "a7080ce6",
   "metadata": {},
   "outputs": [
    {
     "data": {
      "text/plain": [
       "      Year           Lag1               Lag2               Lag3         \n",
       " Min.   :1990   Min.   :-18.1950   Min.   :-18.1950   Min.   :-18.1950  \n",
       " 1st Qu.:1995   1st Qu.: -1.1540   1st Qu.: -1.1540   1st Qu.: -1.1580  \n",
       " Median :2000   Median :  0.2410   Median :  0.2410   Median :  0.2410  \n",
       " Mean   :2000   Mean   :  0.1506   Mean   :  0.1511   Mean   :  0.1472  \n",
       " 3rd Qu.:2005   3rd Qu.:  1.4050   3rd Qu.:  1.4090   3rd Qu.:  1.4090  \n",
       " Max.   :2010   Max.   : 12.0260   Max.   : 12.0260   Max.   : 12.0260  \n",
       "      Lag4               Lag5              Volume            Today         \n",
       " Min.   :-18.1950   Min.   :-18.1950   Min.   :0.08747   Min.   :-18.1950  \n",
       " 1st Qu.: -1.1580   1st Qu.: -1.1660   1st Qu.:0.33202   1st Qu.: -1.1540  \n",
       " Median :  0.2380   Median :  0.2340   Median :1.00268   Median :  0.2410  \n",
       " Mean   :  0.1458   Mean   :  0.1399   Mean   :1.57462   Mean   :  0.1499  \n",
       " 3rd Qu.:  1.4090   3rd Qu.:  1.4050   3rd Qu.:2.05373   3rd Qu.:  1.4050  \n",
       " Max.   : 12.0260   Max.   : 12.0260   Max.   :9.32821   Max.   : 12.0260  \n",
       " Direction \n",
       " Down:484  \n",
       " Up  :605  \n",
       "           \n",
       "           \n",
       "           \n",
       "           "
      ]
     },
     "metadata": {},
     "output_type": "display_data"
    },
    {
     "data": {
      "text/html": [
       "<table class=\"dataframe\">\n",
       "<caption>A matrix: 8 × 8 of type dbl</caption>\n",
       "<thead>\n",
       "\t<tr><th></th><th scope=col>Year</th><th scope=col>Lag1</th><th scope=col>Lag2</th><th scope=col>Lag3</th><th scope=col>Lag4</th><th scope=col>Lag5</th><th scope=col>Volume</th><th scope=col>Today</th></tr>\n",
       "</thead>\n",
       "<tbody>\n",
       "\t<tr><th scope=row>Year</th><td> 1.00000000</td><td>-0.032289274</td><td>-0.03339001</td><td>-0.03000649</td><td>-0.031127923</td><td>-0.030519101</td><td> 0.84194162</td><td>-0.032459894</td></tr>\n",
       "\t<tr><th scope=row>Lag1</th><td>-0.03228927</td><td> 1.000000000</td><td>-0.07485305</td><td> 0.05863568</td><td>-0.071273876</td><td>-0.008183096</td><td>-0.06495131</td><td>-0.075031842</td></tr>\n",
       "\t<tr><th scope=row>Lag2</th><td>-0.03339001</td><td>-0.074853051</td><td> 1.00000000</td><td>-0.07572091</td><td> 0.058381535</td><td>-0.072499482</td><td>-0.08551314</td><td> 0.059166717</td></tr>\n",
       "\t<tr><th scope=row>Lag3</th><td>-0.03000649</td><td> 0.058635682</td><td>-0.07572091</td><td> 1.00000000</td><td>-0.075395865</td><td> 0.060657175</td><td>-0.06928771</td><td>-0.071243639</td></tr>\n",
       "\t<tr><th scope=row>Lag4</th><td>-0.03112792</td><td>-0.071273876</td><td> 0.05838153</td><td>-0.07539587</td><td> 1.000000000</td><td>-0.075675027</td><td>-0.06107462</td><td>-0.007825873</td></tr>\n",
       "\t<tr><th scope=row>Lag5</th><td>-0.03051910</td><td>-0.008183096</td><td>-0.07249948</td><td> 0.06065717</td><td>-0.075675027</td><td> 1.000000000</td><td>-0.05851741</td><td> 0.011012698</td></tr>\n",
       "\t<tr><th scope=row>Volume</th><td> 0.84194162</td><td>-0.064951313</td><td>-0.08551314</td><td>-0.06928771</td><td>-0.061074617</td><td>-0.058517414</td><td> 1.00000000</td><td>-0.033077783</td></tr>\n",
       "\t<tr><th scope=row>Today</th><td>-0.03245989</td><td>-0.075031842</td><td> 0.05916672</td><td>-0.07124364</td><td>-0.007825873</td><td> 0.011012698</td><td>-0.03307778</td><td> 1.000000000</td></tr>\n",
       "</tbody>\n",
       "</table>\n"
      ],
      "text/latex": [
       "A matrix: 8 × 8 of type dbl\n",
       "\\begin{tabular}{r|llllllll}\n",
       "  & Year & Lag1 & Lag2 & Lag3 & Lag4 & Lag5 & Volume & Today\\\\\n",
       "\\hline\n",
       "\tYear &  1.00000000 & -0.032289274 & -0.03339001 & -0.03000649 & -0.031127923 & -0.030519101 &  0.84194162 & -0.032459894\\\\\n",
       "\tLag1 & -0.03228927 &  1.000000000 & -0.07485305 &  0.05863568 & -0.071273876 & -0.008183096 & -0.06495131 & -0.075031842\\\\\n",
       "\tLag2 & -0.03339001 & -0.074853051 &  1.00000000 & -0.07572091 &  0.058381535 & -0.072499482 & -0.08551314 &  0.059166717\\\\\n",
       "\tLag3 & -0.03000649 &  0.058635682 & -0.07572091 &  1.00000000 & -0.075395865 &  0.060657175 & -0.06928771 & -0.071243639\\\\\n",
       "\tLag4 & -0.03112792 & -0.071273876 &  0.05838153 & -0.07539587 &  1.000000000 & -0.075675027 & -0.06107462 & -0.007825873\\\\\n",
       "\tLag5 & -0.03051910 & -0.008183096 & -0.07249948 &  0.06065717 & -0.075675027 &  1.000000000 & -0.05851741 &  0.011012698\\\\\n",
       "\tVolume &  0.84194162 & -0.064951313 & -0.08551314 & -0.06928771 & -0.061074617 & -0.058517414 &  1.00000000 & -0.033077783\\\\\n",
       "\tToday & -0.03245989 & -0.075031842 &  0.05916672 & -0.07124364 & -0.007825873 &  0.011012698 & -0.03307778 &  1.000000000\\\\\n",
       "\\end{tabular}\n"
      ],
      "text/markdown": [
       "\n",
       "A matrix: 8 × 8 of type dbl\n",
       "\n",
       "| <!--/--> | Year | Lag1 | Lag2 | Lag3 | Lag4 | Lag5 | Volume | Today |\n",
       "|---|---|---|---|---|---|---|---|---|\n",
       "| Year |  1.00000000 | -0.032289274 | -0.03339001 | -0.03000649 | -0.031127923 | -0.030519101 |  0.84194162 | -0.032459894 |\n",
       "| Lag1 | -0.03228927 |  1.000000000 | -0.07485305 |  0.05863568 | -0.071273876 | -0.008183096 | -0.06495131 | -0.075031842 |\n",
       "| Lag2 | -0.03339001 | -0.074853051 |  1.00000000 | -0.07572091 |  0.058381535 | -0.072499482 | -0.08551314 |  0.059166717 |\n",
       "| Lag3 | -0.03000649 |  0.058635682 | -0.07572091 |  1.00000000 | -0.075395865 |  0.060657175 | -0.06928771 | -0.071243639 |\n",
       "| Lag4 | -0.03112792 | -0.071273876 |  0.05838153 | -0.07539587 |  1.000000000 | -0.075675027 | -0.06107462 | -0.007825873 |\n",
       "| Lag5 | -0.03051910 | -0.008183096 | -0.07249948 |  0.06065717 | -0.075675027 |  1.000000000 | -0.05851741 |  0.011012698 |\n",
       "| Volume |  0.84194162 | -0.064951313 | -0.08551314 | -0.06928771 | -0.061074617 | -0.058517414 |  1.00000000 | -0.033077783 |\n",
       "| Today | -0.03245989 | -0.075031842 |  0.05916672 | -0.07124364 | -0.007825873 |  0.011012698 | -0.03307778 |  1.000000000 |\n",
       "\n"
      ],
      "text/plain": [
       "       Year        Lag1         Lag2        Lag3        Lag4        \n",
       "Year    1.00000000 -0.032289274 -0.03339001 -0.03000649 -0.031127923\n",
       "Lag1   -0.03228927  1.000000000 -0.07485305  0.05863568 -0.071273876\n",
       "Lag2   -0.03339001 -0.074853051  1.00000000 -0.07572091  0.058381535\n",
       "Lag3   -0.03000649  0.058635682 -0.07572091  1.00000000 -0.075395865\n",
       "Lag4   -0.03112792 -0.071273876  0.05838153 -0.07539587  1.000000000\n",
       "Lag5   -0.03051910 -0.008183096 -0.07249948  0.06065717 -0.075675027\n",
       "Volume  0.84194162 -0.064951313 -0.08551314 -0.06928771 -0.061074617\n",
       "Today  -0.03245989 -0.075031842  0.05916672 -0.07124364 -0.007825873\n",
       "       Lag5         Volume      Today       \n",
       "Year   -0.030519101  0.84194162 -0.032459894\n",
       "Lag1   -0.008183096 -0.06495131 -0.075031842\n",
       "Lag2   -0.072499482 -0.08551314  0.059166717\n",
       "Lag3    0.060657175 -0.06928771 -0.071243639\n",
       "Lag4   -0.075675027 -0.06107462 -0.007825873\n",
       "Lag5    1.000000000 -0.05851741  0.011012698\n",
       "Volume -0.058517414  1.00000000 -0.033077783\n",
       "Today   0.011012698 -0.03307778  1.000000000"
      ]
     },
     "metadata": {},
     "output_type": "display_data"
    }
   ],
   "source": [
    "library(ISLR)\n",
    "#numerical summary of weekly dataset\n",
    "summary(Weekly)\n",
    "cor(Weekly[,-9])"
   ]
  },
  {
   "cell_type": "code",
   "execution_count": 7,
   "id": "ab03dcaf",
   "metadata": {},
   "outputs": [
    {
     "data": {
      "image/png": "[encoded data removed]",
      "text/plain": [
       "plot without title"
      ]
     },
     "metadata": {
      "image/png": {
       "height": 420,
       "width": 420
      }
     },
     "output_type": "display_data"
    }
   ],
   "source": [
    "attach(Weekly)\n",
    "plot(Volume)"
   ]
  },
  {
   "cell_type": "markdown",
   "id": "9c7575c2",
   "metadata": {},
   "source": [
    "##### b)"
   ]
  },
  {
   "cell_type": "code",
   "execution_count": 8,
   "id": "2e4fdaf1",
   "metadata": {},
   "outputs": [
    {
     "data": {
      "text/plain": [
       "\n",
       "Call:\n",
       "glm(formula = Direction ~ Lag1 + Lag2 + Lag3 + Lag4 + Lag5 + \n",
       "    Volume, family = binomial, data = Weekly)\n",
       "\n",
       "Deviance Residuals: \n",
       "    Min       1Q   Median       3Q      Max  \n",
       "-1.6949  -1.2565   0.9913   1.0849   1.4579  \n",
       "\n",
       "Coefficients:\n",
       "            Estimate Std. Error z value Pr(>|z|)   \n",
       "(Intercept)  0.26686    0.08593   3.106   0.0019 **\n",
       "Lag1        -0.04127    0.02641  -1.563   0.1181   \n",
       "Lag2         0.05844    0.02686   2.175   0.0296 * \n",
       "Lag3        -0.01606    0.02666  -0.602   0.5469   \n",
       "Lag4        -0.02779    0.02646  -1.050   0.2937   \n",
       "Lag5        -0.01447    0.02638  -0.549   0.5833   \n",
       "Volume      -0.02274    0.03690  -0.616   0.5377   \n",
       "---\n",
       "Signif. codes:  0 '***' 0.001 '**' 0.01 '*' 0.05 '.' 0.1 ' ' 1\n",
       "\n",
       "(Dispersion parameter for binomial family taken to be 1)\n",
       "\n",
       "    Null deviance: 1496.2  on 1088  degrees of freedom\n",
       "Residual deviance: 1486.4  on 1082  degrees of freedom\n",
       "AIC: 1500.4\n",
       "\n",
       "Number of Fisher Scoring iterations: 4\n"
      ]
     },
     "metadata": {},
     "output_type": "display_data"
    }
   ],
   "source": [
    "#perform a logistic regression and print summary\n",
    "glm.fits = glm(Direction ~ Lag1 + Lag2 + Lag3 + Lag4 + Lag5 + Volume, data = Weekly, family = binomial)\n",
    "summary(glm.fits)"
   ]
  },
  {
   "cell_type": "markdown",
   "id": "3899d8c4",
   "metadata": {},
   "source": [
    "There is only one predictors that is significant since it has a p-value of less than 0.05"
   ]
  },
  {
   "cell_type": "markdown",
   "id": "8288f4bc",
   "metadata": {},
   "source": [
    "##### c)"
   ]
  },
  {
   "cell_type": "code",
   "execution_count": 9,
   "id": "e9876d1d",
   "metadata": {},
   "outputs": [
    {
     "data": {
      "text/plain": [
       "        Direction\n",
       "glm.pred Down  Up\n",
       "    Down   54  48\n",
       "    up    430 557"
      ]
     },
     "metadata": {},
     "output_type": "display_data"
    },
    {
     "data": {
      "text/html": [
       "<span style=white-space:pre-wrap>'Accuracy is  0.561065197428834'</span>"
      ],
      "text/latex": [
       "'Accuracy is  0.561065197428834'"
      ],
      "text/markdown": [
       "<span style=white-space:pre-wrap>'Accuracy is  0.561065197428834'</span>"
      ],
      "text/plain": [
       "[1] \"Accuracy is  0.561065197428834\""
      ]
     },
     "metadata": {},
     "output_type": "display_data"
    }
   ],
   "source": [
    "#perform a confusion matrix\n",
    "\n",
    "glm.probs = predict(glm.fits, type = \"response\")\n",
    "\n",
    "#classify UP and DOWN according to its probability\n",
    "glm.pred = rep('Down', length(glm.probs))\n",
    "glm.pred[glm.probs > 0.5] = 'up'\n",
    "\n",
    "#display the table confusion matrix\n",
    "table(glm.pred, Direction)\n",
    "\n",
    "accuracy = (54+557)/(430+557+54+48)\n",
    "accuracy = paste0(\"Accuracy is  \", accuracy)\n",
    "accuracy"
   ]
  },
  {
   "cell_type": "markdown",
   "id": "b66c5248",
   "metadata": {},
   "source": [
    "##### d)"
   ]
  },
  {
   "cell_type": "code",
   "execution_count": 10,
   "id": "71a9da40",
   "metadata": {},
   "outputs": [
    {
     "data": {
      "text/html": [
       "<table class=\"dataframe\">\n",
       "<caption>A data.frame: 1089 × 9</caption>\n",
       "<thead>\n",
       "\t<tr><th></th><th scope=col>Year</th><th scope=col>Lag1</th><th scope=col>Lag2</th><th scope=col>Lag3</th><th scope=col>Lag4</th><th scope=col>Lag5</th><th scope=col>Volume</th><th scope=col>Today</th><th scope=col>Direction</th></tr>\n",
       "\t<tr><th></th><th scope=col>&lt;dbl&gt;</th><th scope=col>&lt;dbl&gt;</th><th scope=col>&lt;dbl&gt;</th><th scope=col>&lt;dbl&gt;</th><th scope=col>&lt;dbl&gt;</th><th scope=col>&lt;dbl&gt;</th><th scope=col>&lt;dbl&gt;</th><th scope=col>&lt;dbl&gt;</th><th scope=col>&lt;fct&gt;</th></tr>\n",
       "</thead>\n",
       "<tbody>\n",
       "\t<tr><th scope=row>1</th><td>1990</td><td> 0.816</td><td> 1.572</td><td>-3.936</td><td>-0.229</td><td>-3.484</td><td>0.1549760</td><td>-0.270</td><td>Down</td></tr>\n",
       "\t<tr><th scope=row>2</th><td>1990</td><td>-0.270</td><td> 0.816</td><td> 1.572</td><td>-3.936</td><td>-0.229</td><td>0.1485740</td><td>-2.576</td><td>Down</td></tr>\n",
       "\t<tr><th scope=row>3</th><td>1990</td><td>-2.576</td><td>-0.270</td><td> 0.816</td><td> 1.572</td><td>-3.936</td><td>0.1598375</td><td> 3.514</td><td>Up  </td></tr>\n",
       "\t<tr><th scope=row>4</th><td>1990</td><td> 3.514</td><td>-2.576</td><td>-0.270</td><td> 0.816</td><td> 1.572</td><td>0.1616300</td><td> 0.712</td><td>Up  </td></tr>\n",
       "\t<tr><th scope=row>5</th><td>1990</td><td> 0.712</td><td> 3.514</td><td>-2.576</td><td>-0.270</td><td> 0.816</td><td>0.1537280</td><td> 1.178</td><td>Up  </td></tr>\n",
       "\t<tr><th scope=row>6</th><td>1990</td><td> 1.178</td><td> 0.712</td><td> 3.514</td><td>-2.576</td><td>-0.270</td><td>0.1544440</td><td>-1.372</td><td>Down</td></tr>\n",
       "\t<tr><th scope=row>7</th><td>1990</td><td>-1.372</td><td> 1.178</td><td> 0.712</td><td> 3.514</td><td>-2.576</td><td>0.1517220</td><td> 0.807</td><td>Up  </td></tr>\n",
       "\t<tr><th scope=row>8</th><td>1990</td><td> 0.807</td><td>-1.372</td><td> 1.178</td><td> 0.712</td><td> 3.514</td><td>0.1323100</td><td> 0.041</td><td>Up  </td></tr>\n",
       "\t<tr><th scope=row>9</th><td>1990</td><td> 0.041</td><td> 0.807</td><td>-1.372</td><td> 1.178</td><td> 0.712</td><td>0.1439720</td><td> 1.253</td><td>Up  </td></tr>\n",
       "\t<tr><th scope=row>10</th><td>1990</td><td> 1.253</td><td> 0.041</td><td> 0.807</td><td>-1.372</td><td> 1.178</td><td>0.1336350</td><td>-2.678</td><td>Down</td></tr>\n",
       "\t<tr><th scope=row>11</th><td>1990</td><td>-2.678</td><td> 1.253</td><td> 0.041</td><td> 0.807</td><td>-1.372</td><td>0.1490240</td><td>-1.793</td><td>Down</td></tr>\n",
       "\t<tr><th scope=row>12</th><td>1990</td><td>-1.793</td><td>-2.678</td><td> 1.253</td><td> 0.041</td><td> 0.807</td><td>0.1357900</td><td> 2.820</td><td>Up  </td></tr>\n",
       "\t<tr><th scope=row>13</th><td>1990</td><td> 2.820</td><td>-1.793</td><td>-2.678</td><td> 1.253</td><td> 0.041</td><td>0.1398980</td><td> 4.022</td><td>Up  </td></tr>\n",
       "\t<tr><th scope=row>14</th><td>1990</td><td> 4.022</td><td> 2.820</td><td>-1.793</td><td>-2.678</td><td> 1.253</td><td>0.1643420</td><td> 0.750</td><td>Up  </td></tr>\n",
       "\t<tr><th scope=row>15</th><td>1990</td><td> 0.750</td><td> 4.022</td><td> 2.820</td><td>-1.793</td><td>-2.678</td><td>0.1756480</td><td>-0.017</td><td>Down</td></tr>\n",
       "\t<tr><th scope=row>16</th><td>1990</td><td>-0.017</td><td> 0.750</td><td> 4.022</td><td> 2.820</td><td>-1.793</td><td>0.1634700</td><td> 2.420</td><td>Up  </td></tr>\n",
       "\t<tr><th scope=row>17</th><td>1990</td><td> 2.420</td><td>-0.017</td><td> 0.750</td><td> 4.022</td><td> 2.820</td><td>0.1726250</td><td>-1.225</td><td>Down</td></tr>\n",
       "\t<tr><th scope=row>18</th><td>1990</td><td>-1.225</td><td> 2.420</td><td>-0.017</td><td> 0.750</td><td> 4.022</td><td>0.1684460</td><td> 1.171</td><td>Up  </td></tr>\n",
       "\t<tr><th scope=row>19</th><td>1990</td><td> 1.171</td><td>-1.225</td><td> 2.420</td><td>-0.017</td><td> 0.750</td><td>0.1552920</td><td>-2.061</td><td>Down</td></tr>\n",
       "\t<tr><th scope=row>20</th><td>1990</td><td>-2.061</td><td> 1.171</td><td>-1.225</td><td> 2.420</td><td>-0.017</td><td>0.1433920</td><td> 0.729</td><td>Up  </td></tr>\n",
       "\t<tr><th scope=row>21</th><td>1990</td><td> 0.729</td><td>-2.061</td><td> 1.171</td><td>-1.225</td><td> 2.420</td><td>0.1405540</td><td> 0.112</td><td>Up  </td></tr>\n",
       "\t<tr><th scope=row>22</th><td>1990</td><td> 0.112</td><td> 0.729</td><td>-2.061</td><td> 1.171</td><td>-1.225</td><td>0.1250750</td><td> 2.480</td><td>Up  </td></tr>\n",
       "\t<tr><th scope=row>23</th><td>1990</td><td> 2.480</td><td> 0.112</td><td> 0.729</td><td>-2.061</td><td> 1.171</td><td>0.1716040</td><td>-1.552</td><td>Down</td></tr>\n",
       "\t<tr><th scope=row>24</th><td>1990</td><td>-1.552</td><td> 2.480</td><td> 0.112</td><td> 0.729</td><td>-2.061</td><td>0.1669560</td><td>-2.259</td><td>Down</td></tr>\n",
       "\t<tr><th scope=row>25</th><td>1990</td><td>-2.259</td><td>-1.552</td><td> 2.480</td><td> 0.112</td><td> 0.729</td><td>0.1717180</td><td>-2.428</td><td>Down</td></tr>\n",
       "\t<tr><th scope=row>26</th><td>1990</td><td>-2.428</td><td>-2.259</td><td>-1.552</td><td> 2.480</td><td> 0.112</td><td>0.2098160</td><td>-2.708</td><td>Down</td></tr>\n",
       "\t<tr><th scope=row>27</th><td>1990</td><td>-2.708</td><td>-2.428</td><td>-2.259</td><td>-1.552</td><td> 2.480</td><td>0.1927060</td><td>-2.292</td><td>Down</td></tr>\n",
       "\t<tr><th scope=row>28</th><td>1990</td><td>-2.292</td><td>-2.708</td><td>-2.428</td><td>-2.259</td><td>-1.552</td><td>0.1482520</td><td>-4.978</td><td>Down</td></tr>\n",
       "\t<tr><th scope=row>29</th><td>1990</td><td>-4.978</td><td>-2.292</td><td>-2.708</td><td>-2.428</td><td>-2.259</td><td>0.1898580</td><td> 3.547</td><td>Up  </td></tr>\n",
       "\t<tr><th scope=row>30</th><td>1990</td><td> 3.547</td><td>-4.978</td><td>-2.292</td><td>-2.708</td><td>-2.428</td><td>0.1278840</td><td> 0.260</td><td>Up  </td></tr>\n",
       "\t<tr><th scope=row>⋮</th><td>⋮</td><td>⋮</td><td>⋮</td><td>⋮</td><td>⋮</td><td>⋮</td><td>⋮</td><td>⋮</td><td>⋮</td></tr>\n",
       "\t<tr><th scope=row>1060</th><td>2010</td><td>-2.252</td><td> 0.158</td><td>-4.226</td><td> 2.232</td><td>-6.388</td><td>5.368597</td><td> 2.509</td><td>Up  </td></tr>\n",
       "\t<tr><th scope=row>1061</th><td>2010</td><td> 2.509</td><td>-2.252</td><td> 0.158</td><td>-4.226</td><td> 2.232</td><td>5.369514</td><td> 2.374</td><td>Up  </td></tr>\n",
       "\t<tr><th scope=row>1062</th><td>2010</td><td> 2.374</td><td> 2.509</td><td>-2.252</td><td> 0.158</td><td>-4.226</td><td>4.637208</td><td>-3.646</td><td>Down</td></tr>\n",
       "\t<tr><th scope=row>1063</th><td>2010</td><td>-3.646</td><td> 2.374</td><td> 2.509</td><td>-2.252</td><td> 0.158</td><td>4.699712</td><td>-5.032</td><td>Down</td></tr>\n",
       "\t<tr><th scope=row>1064</th><td>2010</td><td>-5.032</td><td>-3.646</td><td> 2.374</td><td> 2.509</td><td>-2.252</td><td>5.100892</td><td> 5.416</td><td>Up  </td></tr>\n",
       "\t<tr><th scope=row>1065</th><td>2010</td><td> 5.416</td><td>-5.032</td><td>-3.646</td><td> 2.374</td><td> 2.509</td><td>4.419372</td><td>-1.213</td><td>Down</td></tr>\n",
       "\t<tr><th scope=row>1066</th><td>2010</td><td>-1.213</td><td> 5.416</td><td>-5.032</td><td>-3.646</td><td> 2.374</td><td>4.487664</td><td> 3.548</td><td>Up  </td></tr>\n",
       "\t<tr><th scope=row>1067</th><td>2010</td><td> 3.548</td><td>-1.213</td><td> 5.416</td><td>-5.032</td><td>-3.646</td><td>4.580286</td><td>-0.096</td><td>Down</td></tr>\n",
       "\t<tr><th scope=row>1068</th><td>2010</td><td>-0.096</td><td> 3.548</td><td>-1.213</td><td> 5.416</td><td>-5.032</td><td>4.271320</td><td> 1.819</td><td>Up  </td></tr>\n",
       "\t<tr><th scope=row>1069</th><td>2010</td><td> 1.819</td><td>-0.096</td><td> 3.548</td><td>-1.213</td><td> 5.416</td><td>3.963460</td><td>-3.779</td><td>Down</td></tr>\n",
       "\t<tr><th scope=row>1070</th><td>2010</td><td>-3.779</td><td> 1.819</td><td>-0.096</td><td> 3.548</td><td>-1.213</td><td>3.906558</td><td>-0.700</td><td>Down</td></tr>\n",
       "\t<tr><th scope=row>1071</th><td>2010</td><td>-0.700</td><td>-3.779</td><td> 1.819</td><td>-0.096</td><td> 3.548</td><td>3.777406</td><td>-0.663</td><td>Down</td></tr>\n",
       "\t<tr><th scope=row>1072</th><td>2010</td><td>-0.663</td><td>-0.700</td><td>-3.779</td><td> 1.819</td><td>-0.096</td><td>3.951328</td><td> 3.750</td><td>Up  </td></tr>\n",
       "\t<tr><th scope=row>1073</th><td>2010</td><td> 3.750</td><td>-0.663</td><td>-0.700</td><td>-3.779</td><td> 1.819</td><td>3.718470</td><td> 0.456</td><td>Up  </td></tr>\n",
       "\t<tr><th scope=row>1074</th><td>2010</td><td> 0.456</td><td> 3.750</td><td>-0.663</td><td>-0.700</td><td>-3.779</td><td>3.195238</td><td> 1.446</td><td>Up  </td></tr>\n",
       "\t<tr><th scope=row>1075</th><td>2010</td><td> 1.446</td><td> 0.456</td><td> 3.750</td><td>-0.663</td><td>-0.700</td><td>3.972432</td><td> 2.050</td><td>Up  </td></tr>\n",
       "\t<tr><th scope=row>1076</th><td>2010</td><td> 2.050</td><td> 1.446</td><td> 0.456</td><td> 3.750</td><td>-0.663</td><td>3.884522</td><td>-0.212</td><td>Down</td></tr>\n",
       "\t<tr><th scope=row>1077</th><td>2010</td><td>-0.212</td><td> 2.050</td><td> 1.446</td><td> 0.456</td><td> 3.750</td><td>4.037410</td><td> 1.650</td><td>Up  </td></tr>\n",
       "\t<tr><th scope=row>1078</th><td>2010</td><td> 1.650</td><td>-0.212</td><td> 2.050</td><td> 1.446</td><td> 0.456</td><td>3.905616</td><td> 0.948</td><td>Up  </td></tr>\n",
       "\t<tr><th scope=row>1079</th><td>2010</td><td> 0.948</td><td> 1.650</td><td>-0.212</td><td> 2.050</td><td> 1.446</td><td>4.449160</td><td> 0.586</td><td>Up  </td></tr>\n",
       "\t<tr><th scope=row>1080</th><td>2010</td><td> 0.586</td><td> 0.948</td><td> 1.650</td><td>-0.212</td><td> 2.050</td><td>4.576282</td><td> 0.015</td><td>Up  </td></tr>\n",
       "\t<tr><th scope=row>1081</th><td>2010</td><td> 0.015</td><td> 0.586</td><td> 0.948</td><td> 1.650</td><td>-0.212</td><td>4.116414</td><td> 3.599</td><td>Up  </td></tr>\n",
       "\t<tr><th scope=row>1082</th><td>2010</td><td> 3.599</td><td> 0.015</td><td> 0.586</td><td> 0.948</td><td> 1.650</td><td>4.798758</td><td>-2.173</td><td>Down</td></tr>\n",
       "\t<tr><th scope=row>1083</th><td>2010</td><td>-2.173</td><td> 3.599</td><td> 0.015</td><td> 0.586</td><td> 0.948</td><td>4.298262</td><td> 0.043</td><td>Up  </td></tr>\n",
       "\t<tr><th scope=row>1084</th><td>2010</td><td> 0.043</td><td>-2.173</td><td> 3.599</td><td> 0.015</td><td> 0.586</td><td>4.177436</td><td>-0.861</td><td>Down</td></tr>\n",
       "\t<tr><th scope=row>1085</th><td>2010</td><td>-0.861</td><td> 0.043</td><td>-2.173</td><td> 3.599</td><td> 0.015</td><td>3.205160</td><td> 2.969</td><td>Up  </td></tr>\n",
       "\t<tr><th scope=row>1086</th><td>2010</td><td> 2.969</td><td>-0.861</td><td> 0.043</td><td>-2.173</td><td> 3.599</td><td>4.242568</td><td> 1.281</td><td>Up  </td></tr>\n",
       "\t<tr><th scope=row>1087</th><td>2010</td><td> 1.281</td><td> 2.969</td><td>-0.861</td><td> 0.043</td><td>-2.173</td><td>4.835082</td><td> 0.283</td><td>Up  </td></tr>\n",
       "\t<tr><th scope=row>1088</th><td>2010</td><td> 0.283</td><td> 1.281</td><td> 2.969</td><td>-0.861</td><td> 0.043</td><td>4.454044</td><td> 1.034</td><td>Up  </td></tr>\n",
       "\t<tr><th scope=row>1089</th><td>2010</td><td> 1.034</td><td> 0.283</td><td> 1.281</td><td> 2.969</td><td>-0.861</td><td>2.707105</td><td> 0.069</td><td>Up  </td></tr>\n",
       "</tbody>\n",
       "</table>\n"
      ],
      "text/latex": [
       "A data.frame: 1089 × 9\n",
       "\\begin{tabular}{r|lllllllll}\n",
       "  & Year & Lag1 & Lag2 & Lag3 & Lag4 & Lag5 & Volume & Today & Direction\\\\\n",
       "  & <dbl> & <dbl> & <dbl> & <dbl> & <dbl> & <dbl> & <dbl> & <dbl> & <fct>\\\\\n",
       "\\hline\n",
       "\t1 & 1990 &  0.816 &  1.572 & -3.936 & -0.229 & -3.484 & 0.1549760 & -0.270 & Down\\\\\n",
       "\t2 & 1990 & -0.270 &  0.816 &  1.572 & -3.936 & -0.229 & 0.1485740 & -2.576 & Down\\\\\n",
       "\t3 & 1990 & -2.576 & -0.270 &  0.816 &  1.572 & -3.936 & 0.1598375 &  3.514 & Up  \\\\\n",
       "\t4 & 1990 &  3.514 & -2.576 & -0.270 &  0.816 &  1.572 & 0.1616300 &  0.712 & Up  \\\\\n",
       "\t5 & 1990 &  0.712 &  3.514 & -2.576 & -0.270 &  0.816 & 0.1537280 &  1.178 & Up  \\\\\n",
       "\t6 & 1990 &  1.178 &  0.712 &  3.514 & -2.576 & -0.270 & 0.1544440 & -1.372 & Down\\\\\n",
       "\t7 & 1990 & -1.372 &  1.178 &  0.712 &  3.514 & -2.576 & 0.1517220 &  0.807 & Up  \\\\\n",
       "\t8 & 1990 &  0.807 & -1.372 &  1.178 &  0.712 &  3.514 & 0.1323100 &  0.041 & Up  \\\\\n",
       "\t9 & 1990 &  0.041 &  0.807 & -1.372 &  1.178 &  0.712 & 0.1439720 &  1.253 & Up  \\\\\n",
       "\t10 & 1990 &  1.253 &  0.041 &  0.807 & -1.372 &  1.178 & 0.1336350 & -2.678 & Down\\\\\n",
       "\t11 & 1990 & -2.678 &  1.253 &  0.041 &  0.807 & -1.372 & 0.1490240 & -1.793 & Down\\\\\n",
       "\t12 & 1990 & -1.793 & -2.678 &  1.253 &  0.041 &  0.807 & 0.1357900 &  2.820 & Up  \\\\\n",
       "\t13 & 1990 &  2.820 & -1.793 & -2.678 &  1.253 &  0.041 & 0.1398980 &  4.022 & Up  \\\\\n",
       "\t14 & 1990 &  4.022 &  2.820 & -1.793 & -2.678 &  1.253 & 0.1643420 &  0.750 & Up  \\\\\n",
       "\t15 & 1990 &  0.750 &  4.022 &  2.820 & -1.793 & -2.678 & 0.1756480 & -0.017 & Down\\\\\n",
       "\t16 & 1990 & -0.017 &  0.750 &  4.022 &  2.820 & -1.793 & 0.1634700 &  2.420 & Up  \\\\\n",
       "\t17 & 1990 &  2.420 & -0.017 &  0.750 &  4.022 &  2.820 & 0.1726250 & -1.225 & Down\\\\\n",
       "\t18 & 1990 & -1.225 &  2.420 & -0.017 &  0.750 &  4.022 & 0.1684460 &  1.171 & Up  \\\\\n",
       "\t19 & 1990 &  1.171 & -1.225 &  2.420 & -0.017 &  0.750 & 0.1552920 & -2.061 & Down\\\\\n",
       "\t20 & 1990 & -2.061 &  1.171 & -1.225 &  2.420 & -0.017 & 0.1433920 &  0.729 & Up  \\\\\n",
       "\t21 & 1990 &  0.729 & -2.061 &  1.171 & -1.225 &  2.420 & 0.1405540 &  0.112 & Up  \\\\\n",
       "\t22 & 1990 &  0.112 &  0.729 & -2.061 &  1.171 & -1.225 & 0.1250750 &  2.480 & Up  \\\\\n",
       "\t23 & 1990 &  2.480 &  0.112 &  0.729 & -2.061 &  1.171 & 0.1716040 & -1.552 & Down\\\\\n",
       "\t24 & 1990 & -1.552 &  2.480 &  0.112 &  0.729 & -2.061 & 0.1669560 & -2.259 & Down\\\\\n",
       "\t25 & 1990 & -2.259 & -1.552 &  2.480 &  0.112 &  0.729 & 0.1717180 & -2.428 & Down\\\\\n",
       "\t26 & 1990 & -2.428 & -2.259 & -1.552 &  2.480 &  0.112 & 0.2098160 & -2.708 & Down\\\\\n",
       "\t27 & 1990 & -2.708 & -2.428 & -2.259 & -1.552 &  2.480 & 0.1927060 & -2.292 & Down\\\\\n",
       "\t28 & 1990 & -2.292 & -2.708 & -2.428 & -2.259 & -1.552 & 0.1482520 & -4.978 & Down\\\\\n",
       "\t29 & 1990 & -4.978 & -2.292 & -2.708 & -2.428 & -2.259 & 0.1898580 &  3.547 & Up  \\\\\n",
       "\t30 & 1990 &  3.547 & -4.978 & -2.292 & -2.708 & -2.428 & 0.1278840 &  0.260 & Up  \\\\\n",
       "\t⋮ & ⋮ & ⋮ & ⋮ & ⋮ & ⋮ & ⋮ & ⋮ & ⋮ & ⋮\\\\\n",
       "\t1060 & 2010 & -2.252 &  0.158 & -4.226 &  2.232 & -6.388 & 5.368597 &  2.509 & Up  \\\\\n",
       "\t1061 & 2010 &  2.509 & -2.252 &  0.158 & -4.226 &  2.232 & 5.369514 &  2.374 & Up  \\\\\n",
       "\t1062 & 2010 &  2.374 &  2.509 & -2.252 &  0.158 & -4.226 & 4.637208 & -3.646 & Down\\\\\n",
       "\t1063 & 2010 & -3.646 &  2.374 &  2.509 & -2.252 &  0.158 & 4.699712 & -5.032 & Down\\\\\n",
       "\t1064 & 2010 & -5.032 & -3.646 &  2.374 &  2.509 & -2.252 & 5.100892 &  5.416 & Up  \\\\\n",
       "\t1065 & 2010 &  5.416 & -5.032 & -3.646 &  2.374 &  2.509 & 4.419372 & -1.213 & Down\\\\\n",
       "\t1066 & 2010 & -1.213 &  5.416 & -5.032 & -3.646 &  2.374 & 4.487664 &  3.548 & Up  \\\\\n",
       "\t1067 & 2010 &  3.548 & -1.213 &  5.416 & -5.032 & -3.646 & 4.580286 & -0.096 & Down\\\\\n",
       "\t1068 & 2010 & -0.096 &  3.548 & -1.213 &  5.416 & -5.032 & 4.271320 &  1.819 & Up  \\\\\n",
       "\t1069 & 2010 &  1.819 & -0.096 &  3.548 & -1.213 &  5.416 & 3.963460 & -3.779 & Down\\\\\n",
       "\t1070 & 2010 & -3.779 &  1.819 & -0.096 &  3.548 & -1.213 & 3.906558 & -0.700 & Down\\\\\n",
       "\t1071 & 2010 & -0.700 & -3.779 &  1.819 & -0.096 &  3.548 & 3.777406 & -0.663 & Down\\\\\n",
       "\t1072 & 2010 & -0.663 & -0.700 & -3.779 &  1.819 & -0.096 & 3.951328 &  3.750 & Up  \\\\\n",
       "\t1073 & 2010 &  3.750 & -0.663 & -0.700 & -3.779 &  1.819 & 3.718470 &  0.456 & Up  \\\\\n",
       "\t1074 & 2010 &  0.456 &  3.750 & -0.663 & -0.700 & -3.779 & 3.195238 &  1.446 & Up  \\\\\n",
       "\t1075 & 2010 &  1.446 &  0.456 &  3.750 & -0.663 & -0.700 & 3.972432 &  2.050 & Up  \\\\\n",
       "\t1076 & 2010 &  2.050 &  1.446 &  0.456 &  3.750 & -0.663 & 3.884522 & -0.212 & Down\\\\\n",
       "\t1077 & 2010 & -0.212 &  2.050 &  1.446 &  0.456 &  3.750 & 4.037410 &  1.650 & Up  \\\\\n",
       "\t1078 & 2010 &  1.650 & -0.212 &  2.050 &  1.446 &  0.456 & 3.905616 &  0.948 & Up  \\\\\n",
       "\t1079 & 2010 &  0.948 &  1.650 & -0.212 &  2.050 &  1.446 & 4.449160 &  0.586 & Up  \\\\\n",
       "\t1080 & 2010 &  0.586 &  0.948 &  1.650 & -0.212 &  2.050 & 4.576282 &  0.015 & Up  \\\\\n",
       "\t1081 & 2010 &  0.015 &  0.586 &  0.948 &  1.650 & -0.212 & 4.116414 &  3.599 & Up  \\\\\n",
       "\t1082 & 2010 &  3.599 &  0.015 &  0.586 &  0.948 &  1.650 & 4.798758 & -2.173 & Down\\\\\n",
       "\t1083 & 2010 & -2.173 &  3.599 &  0.015 &  0.586 &  0.948 & 4.298262 &  0.043 & Up  \\\\\n",
       "\t1084 & 2010 &  0.043 & -2.173 &  3.599 &  0.015 &  0.586 & 4.177436 & -0.861 & Down\\\\\n",
       "\t1085 & 2010 & -0.861 &  0.043 & -2.173 &  3.599 &  0.015 & 3.205160 &  2.969 & Up  \\\\\n",
       "\t1086 & 2010 &  2.969 & -0.861 &  0.043 & -2.173 &  3.599 & 4.242568 &  1.281 & Up  \\\\\n",
       "\t1087 & 2010 &  1.281 &  2.969 & -0.861 &  0.043 & -2.173 & 4.835082 &  0.283 & Up  \\\\\n",
       "\t1088 & 2010 &  0.283 &  1.281 &  2.969 & -0.861 &  0.043 & 4.454044 &  1.034 & Up  \\\\\n",
       "\t1089 & 2010 &  1.034 &  0.283 &  1.281 &  2.969 & -0.861 & 2.707105 &  0.069 & Up  \\\\\n",
       "\\end{tabular}\n"
      ],
      "text/markdown": [
       "\n",
       "A data.frame: 1089 × 9\n",
       "\n",
       "| <!--/--> | Year &lt;dbl&gt; | Lag1 &lt;dbl&gt; | Lag2 &lt;dbl&gt; | Lag3 &lt;dbl&gt; | Lag4 &lt;dbl&gt; | Lag5 &lt;dbl&gt; | Volume &lt;dbl&gt; | Today &lt;dbl&gt; | Direction &lt;fct&gt; |\n",
       "|---|---|---|---|---|---|---|---|---|---|\n",
       "| 1 | 1990 |  0.816 |  1.572 | -3.936 | -0.229 | -3.484 | 0.1549760 | -0.270 | Down |\n",
       "| 2 | 1990 | -0.270 |  0.816 |  1.572 | -3.936 | -0.229 | 0.1485740 | -2.576 | Down |\n",
       "| 3 | 1990 | -2.576 | -0.270 |  0.816 |  1.572 | -3.936 | 0.1598375 |  3.514 | Up   |\n",
       "| 4 | 1990 |  3.514 | -2.576 | -0.270 |  0.816 |  1.572 | 0.1616300 |  0.712 | Up   |\n",
       "| 5 | 1990 |  0.712 |  3.514 | -2.576 | -0.270 |  0.816 | 0.1537280 |  1.178 | Up   |\n",
       "| 6 | 1990 |  1.178 |  0.712 |  3.514 | -2.576 | -0.270 | 0.1544440 | -1.372 | Down |\n",
       "| 7 | 1990 | -1.372 |  1.178 |  0.712 |  3.514 | -2.576 | 0.1517220 |  0.807 | Up   |\n",
       "| 8 | 1990 |  0.807 | -1.372 |  1.178 |  0.712 |  3.514 | 0.1323100 |  0.041 | Up   |\n",
       "| 9 | 1990 |  0.041 |  0.807 | -1.372 |  1.178 |  0.712 | 0.1439720 |  1.253 | Up   |\n",
       "| 10 | 1990 |  1.253 |  0.041 |  0.807 | -1.372 |  1.178 | 0.1336350 | -2.678 | Down |\n",
       "| 11 | 1990 | -2.678 |  1.253 |  0.041 |  0.807 | -1.372 | 0.1490240 | -1.793 | Down |\n",
       "| 12 | 1990 | -1.793 | -2.678 |  1.253 |  0.041 |  0.807 | 0.1357900 |  2.820 | Up   |\n",
       "| 13 | 1990 |  2.820 | -1.793 | -2.678 |  1.253 |  0.041 | 0.1398980 |  4.022 | Up   |\n",
       "| 14 | 1990 |  4.022 |  2.820 | -1.793 | -2.678 |  1.253 | 0.1643420 |  0.750 | Up   |\n",
       "| 15 | 1990 |  0.750 |  4.022 |  2.820 | -1.793 | -2.678 | 0.1756480 | -0.017 | Down |\n",
       "| 16 | 1990 | -0.017 |  0.750 |  4.022 |  2.820 | -1.793 | 0.1634700 |  2.420 | Up   |\n",
       "| 17 | 1990 |  2.420 | -0.017 |  0.750 |  4.022 |  2.820 | 0.1726250 | -1.225 | Down |\n",
       "| 18 | 1990 | -1.225 |  2.420 | -0.017 |  0.750 |  4.022 | 0.1684460 |  1.171 | Up   |\n",
       "| 19 | 1990 |  1.171 | -1.225 |  2.420 | -0.017 |  0.750 | 0.1552920 | -2.061 | Down |\n",
       "| 20 | 1990 | -2.061 |  1.171 | -1.225 |  2.420 | -0.017 | 0.1433920 |  0.729 | Up   |\n",
       "| 21 | 1990 |  0.729 | -2.061 |  1.171 | -1.225 |  2.420 | 0.1405540 |  0.112 | Up   |\n",
       "| 22 | 1990 |  0.112 |  0.729 | -2.061 |  1.171 | -1.225 | 0.1250750 |  2.480 | Up   |\n",
       "| 23 | 1990 |  2.480 |  0.112 |  0.729 | -2.061 |  1.171 | 0.1716040 | -1.552 | Down |\n",
       "| 24 | 1990 | -1.552 |  2.480 |  0.112 |  0.729 | -2.061 | 0.1669560 | -2.259 | Down |\n",
       "| 25 | 1990 | -2.259 | -1.552 |  2.480 |  0.112 |  0.729 | 0.1717180 | -2.428 | Down |\n",
       "| 26 | 1990 | -2.428 | -2.259 | -1.552 |  2.480 |  0.112 | 0.2098160 | -2.708 | Down |\n",
       "| 27 | 1990 | -2.708 | -2.428 | -2.259 | -1.552 |  2.480 | 0.1927060 | -2.292 | Down |\n",
       "| 28 | 1990 | -2.292 | -2.708 | -2.428 | -2.259 | -1.552 | 0.1482520 | -4.978 | Down |\n",
       "| 29 | 1990 | -4.978 | -2.292 | -2.708 | -2.428 | -2.259 | 0.1898580 |  3.547 | Up   |\n",
       "| 30 | 1990 |  3.547 | -4.978 | -2.292 | -2.708 | -2.428 | 0.1278840 |  0.260 | Up   |\n",
       "| ⋮ | ⋮ | ⋮ | ⋮ | ⋮ | ⋮ | ⋮ | ⋮ | ⋮ | ⋮ |\n",
       "| 1060 | 2010 | -2.252 |  0.158 | -4.226 |  2.232 | -6.388 | 5.368597 |  2.509 | Up   |\n",
       "| 1061 | 2010 |  2.509 | -2.252 |  0.158 | -4.226 |  2.232 | 5.369514 |  2.374 | Up   |\n",
       "| 1062 | 2010 |  2.374 |  2.509 | -2.252 |  0.158 | -4.226 | 4.637208 | -3.646 | Down |\n",
       "| 1063 | 2010 | -3.646 |  2.374 |  2.509 | -2.252 |  0.158 | 4.699712 | -5.032 | Down |\n",
       "| 1064 | 2010 | -5.032 | -3.646 |  2.374 |  2.509 | -2.252 | 5.100892 |  5.416 | Up   |\n",
       "| 1065 | 2010 |  5.416 | -5.032 | -3.646 |  2.374 |  2.509 | 4.419372 | -1.213 | Down |\n",
       "| 1066 | 2010 | -1.213 |  5.416 | -5.032 | -3.646 |  2.374 | 4.487664 |  3.548 | Up   |\n",
       "| 1067 | 2010 |  3.548 | -1.213 |  5.416 | -5.032 | -3.646 | 4.580286 | -0.096 | Down |\n",
       "| 1068 | 2010 | -0.096 |  3.548 | -1.213 |  5.416 | -5.032 | 4.271320 |  1.819 | Up   |\n",
       "| 1069 | 2010 |  1.819 | -0.096 |  3.548 | -1.213 |  5.416 | 3.963460 | -3.779 | Down |\n",
       "| 1070 | 2010 | -3.779 |  1.819 | -0.096 |  3.548 | -1.213 | 3.906558 | -0.700 | Down |\n",
       "| 1071 | 2010 | -0.700 | -3.779 |  1.819 | -0.096 |  3.548 | 3.777406 | -0.663 | Down |\n",
       "| 1072 | 2010 | -0.663 | -0.700 | -3.779 |  1.819 | -0.096 | 3.951328 |  3.750 | Up   |\n",
       "| 1073 | 2010 |  3.750 | -0.663 | -0.700 | -3.779 |  1.819 | 3.718470 |  0.456 | Up   |\n",
       "| 1074 | 2010 |  0.456 |  3.750 | -0.663 | -0.700 | -3.779 | 3.195238 |  1.446 | Up   |\n",
       "| 1075 | 2010 |  1.446 |  0.456 |  3.750 | -0.663 | -0.700 | 3.972432 |  2.050 | Up   |\n",
       "| 1076 | 2010 |  2.050 |  1.446 |  0.456 |  3.750 | -0.663 | 3.884522 | -0.212 | Down |\n",
       "| 1077 | 2010 | -0.212 |  2.050 |  1.446 |  0.456 |  3.750 | 4.037410 |  1.650 | Up   |\n",
       "| 1078 | 2010 |  1.650 | -0.212 |  2.050 |  1.446 |  0.456 | 3.905616 |  0.948 | Up   |\n",
       "| 1079 | 2010 |  0.948 |  1.650 | -0.212 |  2.050 |  1.446 | 4.449160 |  0.586 | Up   |\n",
       "| 1080 | 2010 |  0.586 |  0.948 |  1.650 | -0.212 |  2.050 | 4.576282 |  0.015 | Up   |\n",
       "| 1081 | 2010 |  0.015 |  0.586 |  0.948 |  1.650 | -0.212 | 4.116414 |  3.599 | Up   |\n",
       "| 1082 | 2010 |  3.599 |  0.015 |  0.586 |  0.948 |  1.650 | 4.798758 | -2.173 | Down |\n",
       "| 1083 | 2010 | -2.173 |  3.599 |  0.015 |  0.586 |  0.948 | 4.298262 |  0.043 | Up   |\n",
       "| 1084 | 2010 |  0.043 | -2.173 |  3.599 |  0.015 |  0.586 | 4.177436 | -0.861 | Down |\n",
       "| 1085 | 2010 | -0.861 |  0.043 | -2.173 |  3.599 |  0.015 | 3.205160 |  2.969 | Up   |\n",
       "| 1086 | 2010 |  2.969 | -0.861 |  0.043 | -2.173 |  3.599 | 4.242568 |  1.281 | Up   |\n",
       "| 1087 | 2010 |  1.281 |  2.969 | -0.861 |  0.043 | -2.173 | 4.835082 |  0.283 | Up   |\n",
       "| 1088 | 2010 |  0.283 |  1.281 |  2.969 | -0.861 |  0.043 | 4.454044 |  1.034 | Up   |\n",
       "| 1089 | 2010 |  1.034 |  0.283 |  1.281 |  2.969 | -0.861 | 2.707105 |  0.069 | Up   |\n",
       "\n"
      ],
      "text/plain": [
       "     Year Lag1   Lag2   Lag3   Lag4   Lag5   Volume    Today  Direction\n",
       "1    1990  0.816  1.572 -3.936 -0.229 -3.484 0.1549760 -0.270 Down     \n",
       "2    1990 -0.270  0.816  1.572 -3.936 -0.229 0.1485740 -2.576 Down     \n",
       "3    1990 -2.576 -0.270  0.816  1.572 -3.936 0.1598375  3.514 Up       \n",
       "4    1990  3.514 -2.576 -0.270  0.816  1.572 0.1616300  0.712 Up       \n",
       "5    1990  0.712  3.514 -2.576 -0.270  0.816 0.1537280  1.178 Up       \n",
       "6    1990  1.178  0.712  3.514 -2.576 -0.270 0.1544440 -1.372 Down     \n",
       "7    1990 -1.372  1.178  0.712  3.514 -2.576 0.1517220  0.807 Up       \n",
       "8    1990  0.807 -1.372  1.178  0.712  3.514 0.1323100  0.041 Up       \n",
       "9    1990  0.041  0.807 -1.372  1.178  0.712 0.1439720  1.253 Up       \n",
       "10   1990  1.253  0.041  0.807 -1.372  1.178 0.1336350 -2.678 Down     \n",
       "11   1990 -2.678  1.253  0.041  0.807 -1.372 0.1490240 -1.793 Down     \n",
       "12   1990 -1.793 -2.678  1.253  0.041  0.807 0.1357900  2.820 Up       \n",
       "13   1990  2.820 -1.793 -2.678  1.253  0.041 0.1398980  4.022 Up       \n",
       "14   1990  4.022  2.820 -1.793 -2.678  1.253 0.1643420  0.750 Up       \n",
       "15   1990  0.750  4.022  2.820 -1.793 -2.678 0.1756480 -0.017 Down     \n",
       "16   1990 -0.017  0.750  4.022  2.820 -1.793 0.1634700  2.420 Up       \n",
       "17   1990  2.420 -0.017  0.750  4.022  2.820 0.1726250 -1.225 Down     \n",
       "18   1990 -1.225  2.420 -0.017  0.750  4.022 0.1684460  1.171 Up       \n",
       "19   1990  1.171 -1.225  2.420 -0.017  0.750 0.1552920 -2.061 Down     \n",
       "20   1990 -2.061  1.171 -1.225  2.420 -0.017 0.1433920  0.729 Up       \n",
       "21   1990  0.729 -2.061  1.171 -1.225  2.420 0.1405540  0.112 Up       \n",
       "22   1990  0.112  0.729 -2.061  1.171 -1.225 0.1250750  2.480 Up       \n",
       "23   1990  2.480  0.112  0.729 -2.061  1.171 0.1716040 -1.552 Down     \n",
       "24   1990 -1.552  2.480  0.112  0.729 -2.061 0.1669560 -2.259 Down     \n",
       "25   1990 -2.259 -1.552  2.480  0.112  0.729 0.1717180 -2.428 Down     \n",
       "26   1990 -2.428 -2.259 -1.552  2.480  0.112 0.2098160 -2.708 Down     \n",
       "27   1990 -2.708 -2.428 -2.259 -1.552  2.480 0.1927060 -2.292 Down     \n",
       "28   1990 -2.292 -2.708 -2.428 -2.259 -1.552 0.1482520 -4.978 Down     \n",
       "29   1990 -4.978 -2.292 -2.708 -2.428 -2.259 0.1898580  3.547 Up       \n",
       "30   1990  3.547 -4.978 -2.292 -2.708 -2.428 0.1278840  0.260 Up       \n",
       "<U+22EE>    <U+22EE> <U+22EE> <U+22EE> <U+22EE> <U+22EE> <U+22EE> <U+22EE>  <U+22EE> <U+22EE> \n",
       "1060 2010 -2.252  0.158 -4.226  2.232 -6.388 5.368597   2.509 Up       \n",
       "1061 2010  2.509 -2.252  0.158 -4.226  2.232 5.369514   2.374 Up       \n",
       "1062 2010  2.374  2.509 -2.252  0.158 -4.226 4.637208  -3.646 Down     \n",
       "1063 2010 -3.646  2.374  2.509 -2.252  0.158 4.699712  -5.032 Down     \n",
       "1064 2010 -5.032 -3.646  2.374  2.509 -2.252 5.100892   5.416 Up       \n",
       "1065 2010  5.416 -5.032 -3.646  2.374  2.509 4.419372  -1.213 Down     \n",
       "1066 2010 -1.213  5.416 -5.032 -3.646  2.374 4.487664   3.548 Up       \n",
       "1067 2010  3.548 -1.213  5.416 -5.032 -3.646 4.580286  -0.096 Down     \n",
       "1068 2010 -0.096  3.548 -1.213  5.416 -5.032 4.271320   1.819 Up       \n",
       "1069 2010  1.819 -0.096  3.548 -1.213  5.416 3.963460  -3.779 Down     \n",
       "1070 2010 -3.779  1.819 -0.096  3.548 -1.213 3.906558  -0.700 Down     \n",
       "1071 2010 -0.700 -3.779  1.819 -0.096  3.548 3.777406  -0.663 Down     \n",
       "1072 2010 -0.663 -0.700 -3.779  1.819 -0.096 3.951328   3.750 Up       \n",
       "1073 2010  3.750 -0.663 -0.700 -3.779  1.819 3.718470   0.456 Up       \n",
       "1074 2010  0.456  3.750 -0.663 -0.700 -3.779 3.195238   1.446 Up       \n",
       "1075 2010  1.446  0.456  3.750 -0.663 -0.700 3.972432   2.050 Up       \n",
       "1076 2010  2.050  1.446  0.456  3.750 -0.663 3.884522  -0.212 Down     \n",
       "1077 2010 -0.212  2.050  1.446  0.456  3.750 4.037410   1.650 Up       \n",
       "1078 2010  1.650 -0.212  2.050  1.446  0.456 3.905616   0.948 Up       \n",
       "1079 2010  0.948  1.650 -0.212  2.050  1.446 4.449160   0.586 Up       \n",
       "1080 2010  0.586  0.948  1.650 -0.212  2.050 4.576282   0.015 Up       \n",
       "1081 2010  0.015  0.586  0.948  1.650 -0.212 4.116414   3.599 Up       \n",
       "1082 2010  3.599  0.015  0.586  0.948  1.650 4.798758  -2.173 Down     \n",
       "1083 2010 -2.173  3.599  0.015  0.586  0.948 4.298262   0.043 Up       \n",
       "1084 2010  0.043 -2.173  3.599  0.015  0.586 4.177436  -0.861 Down     \n",
       "1085 2010 -0.861  0.043 -2.173  3.599  0.015 3.205160   2.969 Up       \n",
       "1086 2010  2.969 -0.861  0.043 -2.173  3.599 4.242568   1.281 Up       \n",
       "1087 2010  1.281  2.969 -0.861  0.043 -2.173 4.835082   0.283 Up       \n",
       "1088 2010  0.283  1.281  2.969 -0.861  0.043 4.454044   1.034 Up       \n",
       "1089 2010  1.034  0.283  1.281  2.969 -0.861 2.707105   0.069 Up       "
      ]
     },
     "metadata": {},
     "output_type": "display_data"
    },
    {
     "data": {
      "text/html": [
       "<style>\n",
       ".list-inline {list-style: none; margin:0; padding: 0}\n",
       ".list-inline>li {display: inline-block}\n",
       ".list-inline>li:not(:last-child)::after {content: \"\\00b7\"; padding: 0 .5ex}\n",
       "</style>\n",
       "<ol class=list-inline><li>Down</li><li>Down</li><li>Down</li><li>Down</li><li>Up</li><li>Down</li><li>Down</li><li>Down</li><li>Down</li><li>Up</li><li>Up</li><li>Up</li><li>Up</li><li>Up</li><li>Up</li><li>Down</li><li>Up</li><li>Up</li><li>Down</li><li>Up</li><li>Up</li><li>Up</li><li>Up</li><li>Down</li><li>Down</li><li>Down</li><li>Down</li><li>Up</li><li>Up</li><li>Up</li><li>Up</li><li>Down</li><li>Up</li><li>Up</li><li>Down</li><li>Up</li><li>Up</li><li>Down</li><li>Down</li><li>Up</li><li>Up</li><li>Down</li><li>Down</li><li>Up</li><li>Up</li><li>Down</li><li>Up</li><li>Up</li><li>Up</li><li>Down</li><li>Up</li><li>Down</li><li>Up</li><li>Down</li><li>Down</li><li>Down</li><li>Down</li><li>Up</li><li>Up</li><li>Down</li><li>Up</li><li>Up</li><li>Up</li><li>Up</li><li>Up</li><li>Up</li><li>Down</li><li>Up</li><li>Down</li><li>Down</li><li>Up</li><li>Down</li><li>Up</li><li>Down</li><li>Up</li><li>Up</li><li>Down</li><li>Down</li><li>Up</li><li>Down</li><li>Up</li><li>Down</li><li>Up</li><li>Down</li><li>Down</li><li>Down</li><li>Up</li><li>Up</li><li>Up</li><li>Up</li><li>Down</li><li>Up</li><li>Up</li><li>Up</li><li>Up</li><li>Up</li><li>Down</li><li>Up</li><li>Down</li><li>Up</li><li>Up</li><li>Up</li><li>Up</li><li>Up</li></ol>\n",
       "\n",
       "<details>\n",
       "\t<summary style=display:list-item;cursor:pointer>\n",
       "\t\t<strong>Levels</strong>:\n",
       "\t</summary>\n",
       "\t<style>\n",
       "\t.list-inline {list-style: none; margin:0; padding: 0}\n",
       "\t.list-inline>li {display: inline-block}\n",
       "\t.list-inline>li:not(:last-child)::after {content: \"\\00b7\"; padding: 0 .5ex}\n",
       "\t</style>\n",
       "\t<ol class=list-inline><li>'Down'</li><li>'Up'</li></ol>\n",
       "</details>"
      ],
      "text/latex": [
       "\\begin{enumerate*}\n",
       "\\item Down\n",
       "\\item Down\n",
       "\\item Down\n",
       "\\item Down\n",
       "\\item Up\n",
       "\\item Down\n",
       "\\item Down\n",
       "\\item Down\n",
       "\\item Down\n",
       "\\item Up\n",
       "\\item Up\n",
       "\\item Up\n",
       "\\item Up\n",
       "\\item Up\n",
       "\\item Up\n",
       "\\item Down\n",
       "\\item Up\n",
       "\\item Up\n",
       "\\item Down\n",
       "\\item Up\n",
       "\\item Up\n",
       "\\item Up\n",
       "\\item Up\n",
       "\\item Down\n",
       "\\item Down\n",
       "\\item Down\n",
       "\\item Down\n",
       "\\item Up\n",
       "\\item Up\n",
       "\\item Up\n",
       "\\item Up\n",
       "\\item Down\n",
       "\\item Up\n",
       "\\item Up\n",
       "\\item Down\n",
       "\\item Up\n",
       "\\item Up\n",
       "\\item Down\n",
       "\\item Down\n",
       "\\item Up\n",
       "\\item Up\n",
       "\\item Down\n",
       "\\item Down\n",
       "\\item Up\n",
       "\\item Up\n",
       "\\item Down\n",
       "\\item Up\n",
       "\\item Up\n",
       "\\item Up\n",
       "\\item Down\n",
       "\\item Up\n",
       "\\item Down\n",
       "\\item Up\n",
       "\\item Down\n",
       "\\item Down\n",
       "\\item Down\n",
       "\\item Down\n",
       "\\item Up\n",
       "\\item Up\n",
       "\\item Down\n",
       "\\item Up\n",
       "\\item Up\n",
       "\\item Up\n",
       "\\item Up\n",
       "\\item Up\n",
       "\\item Up\n",
       "\\item Down\n",
       "\\item Up\n",
       "\\item Down\n",
       "\\item Down\n",
       "\\item Up\n",
       "\\item Down\n",
       "\\item Up\n",
       "\\item Down\n",
       "\\item Up\n",
       "\\item Up\n",
       "\\item Down\n",
       "\\item Down\n",
       "\\item Up\n",
       "\\item Down\n",
       "\\item Up\n",
       "\\item Down\n",
       "\\item Up\n",
       "\\item Down\n",
       "\\item Down\n",
       "\\item Down\n",
       "\\item Up\n",
       "\\item Up\n",
       "\\item Up\n",
       "\\item Up\n",
       "\\item Down\n",
       "\\item Up\n",
       "\\item Up\n",
       "\\item Up\n",
       "\\item Up\n",
       "\\item Up\n",
       "\\item Down\n",
       "\\item Up\n",
       "\\item Down\n",
       "\\item Up\n",
       "\\item Up\n",
       "\\item Up\n",
       "\\item Up\n",
       "\\item Up\n",
       "\\end{enumerate*}\n",
       "\n",
       "\\emph{Levels}: \\begin{enumerate*}\n",
       "\\item 'Down'\n",
       "\\item 'Up'\n",
       "\\end{enumerate*}\n"
      ],
      "text/markdown": [
       "1. Down\n",
       "2. Down\n",
       "3. Down\n",
       "4. Down\n",
       "5. Up\n",
       "6. Down\n",
       "7. Down\n",
       "8. Down\n",
       "9. Down\n",
       "10. Up\n",
       "11. Up\n",
       "12. Up\n",
       "13. Up\n",
       "14. Up\n",
       "15. Up\n",
       "16. Down\n",
       "17. Up\n",
       "18. Up\n",
       "19. Down\n",
       "20. Up\n",
       "21. Up\n",
       "22. Up\n",
       "23. Up\n",
       "24. Down\n",
       "25. Down\n",
       "26. Down\n",
       "27. Down\n",
       "28. Up\n",
       "29. Up\n",
       "30. Up\n",
       "31. Up\n",
       "32. Down\n",
       "33. Up\n",
       "34. Up\n",
       "35. Down\n",
       "36. Up\n",
       "37. Up\n",
       "38. Down\n",
       "39. Down\n",
       "40. Up\n",
       "41. Up\n",
       "42. Down\n",
       "43. Down\n",
       "44. Up\n",
       "45. Up\n",
       "46. Down\n",
       "47. Up\n",
       "48. Up\n",
       "49. Up\n",
       "50. Down\n",
       "51. Up\n",
       "52. Down\n",
       "53. Up\n",
       "54. Down\n",
       "55. Down\n",
       "56. Down\n",
       "57. Down\n",
       "58. Up\n",
       "59. Up\n",
       "60. Down\n",
       "61. Up\n",
       "62. Up\n",
       "63. Up\n",
       "64. Up\n",
       "65. Up\n",
       "66. Up\n",
       "67. Down\n",
       "68. Up\n",
       "69. Down\n",
       "70. Down\n",
       "71. Up\n",
       "72. Down\n",
       "73. Up\n",
       "74. Down\n",
       "75. Up\n",
       "76. Up\n",
       "77. Down\n",
       "78. Down\n",
       "79. Up\n",
       "80. Down\n",
       "81. Up\n",
       "82. Down\n",
       "83. Up\n",
       "84. Down\n",
       "85. Down\n",
       "86. Down\n",
       "87. Up\n",
       "88. Up\n",
       "89. Up\n",
       "90. Up\n",
       "91. Down\n",
       "92. Up\n",
       "93. Up\n",
       "94. Up\n",
       "95. Up\n",
       "96. Up\n",
       "97. Down\n",
       "98. Up\n",
       "99. Down\n",
       "100. Up\n",
       "101. Up\n",
       "102. Up\n",
       "103. Up\n",
       "104. Up\n",
       "\n",
       "\n",
       "\n",
       "**Levels**: 1. 'Down'\n",
       "2. 'Up'\n",
       "\n",
       "\n"
      ],
      "text/plain": [
       "  [1] Down Down Down Down Up   Down Down Down Down Up   Up   Up   Up   Up   Up  \n",
       " [16] Down Up   Up   Down Up   Up   Up   Up   Down Down Down Down Up   Up   Up  \n",
       " [31] Up   Down Up   Up   Down Up   Up   Down Down Up   Up   Down Down Up   Up  \n",
       " [46] Down Up   Up   Up   Down Up   Down Up   Down Down Down Down Up   Up   Down\n",
       " [61] Up   Up   Up   Up   Up   Up   Down Up   Down Down Up   Down Up   Down Up  \n",
       " [76] Up   Down Down Up   Down Up   Down Up   Down Down Down Up   Up   Up   Up  \n",
       " [91] Down Up   Up   Up   Up   Up   Down Up   Down Up   Up   Up   Up   Up  \n",
       "Levels: Down Up"
      ]
     },
     "metadata": {},
     "output_type": "display_data"
    },
    {
     "data": {
      "text/plain": [
       "\n",
       "Call:  glm(formula = Direction ~ Lag2, family = binomial, data = Weekly, \n",
       "    subset = train)\n",
       "\n",
       "Coefficients:\n",
       "(Intercept)         Lag2  \n",
       "     0.2033       0.0581  \n",
       "\n",
       "Degrees of Freedom: 984 Total (i.e. Null);  983 Residual\n",
       "Null Deviance:\t    1355 \n",
       "Residual Deviance: 1351 \tAIC: 1355"
      ]
     },
     "metadata": {},
     "output_type": "display_data"
    }
   ],
   "source": [
    "#select only the years from 1990 to 2008\n",
    "train = (Year < 2009)\n",
    "\n",
    "Weekly_2009 = Weekly[!train,]\n",
    "Weekly\n",
    "Direction_2009 = Direction[!train]\n",
    "Direction_2009\n",
    "\n",
    "#fit the logistig regression\n",
    "glm.fits2 = glm(Direction ~ Lag2, data = Weekly, family=  binomial, subset = train)\n",
    "glm.fits2\n"
   ]
  },
  {
   "cell_type": "code",
   "execution_count": 11,
   "id": "e036da2c",
   "metadata": {},
   "outputs": [
    {
     "data": {
      "text/plain": [
       "         Direction_2009\n",
       "glm.pred2 Down Up\n",
       "     Down    9  5\n",
       "     up     34 56"
      ]
     },
     "metadata": {},
     "output_type": "display_data"
    },
    {
     "data": {
      "text/html": [
       "<span style=white-space:pre-wrap>'Accuracy is  0.625'</span>"
      ],
      "text/latex": [
       "'Accuracy is  0.625'"
      ],
      "text/markdown": [
       "<span style=white-space:pre-wrap>'Accuracy is  0.625'</span>"
      ],
      "text/plain": [
       "[1] \"Accuracy is  0.625\""
      ]
     },
     "metadata": {},
     "output_type": "display_data"
    }
   ],
   "source": [
    "#perform a confusion matrix\n",
    "\n",
    "glm.probs2 = predict(glm.fits2, Weekly_2009, type = \"response\")\n",
    "\n",
    "#classify UP and DOWN according to its probability\n",
    "glm.pred2 = rep('Down', length(glm.probs2))\n",
    "glm.pred2[glm.probs2 > 0.5] = 'up'\n",
    "\n",
    "#display the table confusion matrix\n",
    "table(glm.pred2, Direction_2009)\n",
    "accuracy2 = (9+56)/(9+56+34+5)\n",
    "accuracy2 = paste0(\"Accuracy is  \", accuracy2)\n",
    "accuracy2"
   ]
  },
  {
   "cell_type": "markdown",
   "id": "d08081f8",
   "metadata": {},
   "source": [
    "##### e)"
   ]
  },
  {
   "cell_type": "code",
   "execution_count": 12,
   "id": "8f32f7ce",
   "metadata": {},
   "outputs": [
    {
     "data": {
      "text/plain": [
       "      Direction_2009\n",
       "       Down Up\n",
       "  Down    9  5\n",
       "  Up     34 56"
      ]
     },
     "metadata": {},
     "output_type": "display_data"
    },
    {
     "data": {
      "text/html": [
       "<span style=white-space:pre-wrap>'Accuracy is  0.625'</span>"
      ],
      "text/latex": [
       "'Accuracy is  0.625'"
      ],
      "text/markdown": [
       "<span style=white-space:pre-wrap>'Accuracy is  0.625'</span>"
      ],
      "text/plain": [
       "[1] \"Accuracy is  0.625\""
      ]
     },
     "metadata": {},
     "output_type": "display_data"
    }
   ],
   "source": [
    "library(MASS)\n",
    "lda.fit = lda(Direction ~ Lag2, data = Weekly, subset = train)\n",
    "\n",
    "pred.lda = predict(lda.fit, Weekly_2009)\n",
    "\n",
    "\n",
    "table(pred.lda$class, Direction_2009)\n",
    "accuracy3 = (9+56)/(9+5+34+56)\n",
    "accuracy3 = paste0(\"Accuracy is  \", accuracy3)\n",
    "accuracy3"
   ]
  },
  {
   "cell_type": "markdown",
   "id": "07c7ee0d",
   "metadata": {},
   "source": [
    "##### f)"
   ]
  },
  {
   "cell_type": "code",
   "execution_count": 13,
   "id": "07e5c1cd",
   "metadata": {},
   "outputs": [
    {
     "data": {
      "text/plain": [
       "      Direction_2009\n",
       "       Down Up\n",
       "  Down    0  0\n",
       "  Up     43 61"
      ]
     },
     "metadata": {},
     "output_type": "display_data"
    },
    {
     "data": {
      "text/html": [
       "<span style=white-space:pre-wrap>'Accuracy is  0.586538461538462'</span>"
      ],
      "text/latex": [
       "'Accuracy is  0.586538461538462'"
      ],
      "text/markdown": [
       "<span style=white-space:pre-wrap>'Accuracy is  0.586538461538462'</span>"
      ],
      "text/plain": [
       "[1] \"Accuracy is  0.586538461538462\""
      ]
     },
     "metadata": {},
     "output_type": "display_data"
    }
   ],
   "source": [
    "qda.fit = qda(Direction ~ Lag2, data = Weekly, subset = train)\n",
    "\n",
    "pred.qda = predict(qda.fit, Weekly_2009)\n",
    "\n",
    "table(pred.qda$class, Direction_2009)\n",
    "accuracy4 = (0+61)/(0+0+43+61)\n",
    "accuracy4 = paste0(\"Accuracy is  \", accuracy4)\n",
    "accuracy4"
   ]
  },
  {
   "cell_type": "markdown",
   "id": "f4a1c255",
   "metadata": {},
   "source": [
    "##### g)"
   ]
  },
  {
   "cell_type": "code",
   "execution_count": 14,
   "id": "1f7a025a",
   "metadata": {},
   "outputs": [],
   "source": [
    "library(class)\n",
    "train.X = as.matrix(Lag2[train])\n",
    "test.X = as.matrix(Lag2[!train])\n",
    "train.Direction = Direction[train]\n",
    "\n"
   ]
  },
  {
   "cell_type": "code",
   "execution_count": 15,
   "id": "c8b74b1c",
   "metadata": {},
   "outputs": [
    {
     "data": {
      "text/plain": [
       "        Direction_2009\n",
       "knn.pred Down Up\n",
       "    Down   21 30\n",
       "    Up     22 31"
      ]
     },
     "metadata": {},
     "output_type": "display_data"
    },
    {
     "data": {
      "text/html": [
       "<span style=white-space:pre-wrap>'Accuracy is  Accuracy is  0.561065197428834'</span>"
      ],
      "text/latex": [
       "'Accuracy is  Accuracy is  0.561065197428834'"
      ],
      "text/markdown": [
       "<span style=white-space:pre-wrap>'Accuracy is  Accuracy is  0.561065197428834'</span>"
      ],
      "text/plain": [
       "[1] \"Accuracy is  Accuracy is  0.561065197428834\""
      ]
     },
     "metadata": {},
     "output_type": "display_data"
    }
   ],
   "source": [
    "\n",
    "knn.pred = knn(train.X, test.X, train.Direction, k=1)\n",
    "\n",
    "table(knn.pred, Direction_2009)\n",
    "accuracy5 = (21+31)/(21+30+22+31)\n",
    "accuracy5 = paste0(\"Accuracy is  \", accuracy)\n",
    "accuracy5"
   ]
  },
  {
   "cell_type": "markdown",
   "id": "c2f81579",
   "metadata": {},
   "source": [
    "##### h)"
   ]
  },
  {
   "cell_type": "markdown",
   "id": "22b6e59a",
   "metadata": {},
   "source": [
    "Logistic and LDA have the higher Accuracy rate so the minimum error rate. "
   ]
  },
  {
   "cell_type": "markdown",
   "id": "54732e6b",
   "metadata": {},
   "source": [
    "#### Ex 11 (chapter 4)"
   ]
  },
  {
   "cell_type": "markdown",
   "id": "2f8d30d4",
   "metadata": {},
   "source": [
    "##### a)"
   ]
  },
  {
   "cell_type": "code",
   "execution_count": 18,
   "id": "cdca5faa",
   "metadata": {},
   "outputs": [
    {
     "name": "stderr",
     "output_type": "stream",
     "text": [
      "The following objects are masked from Auto (pos = 3):\n",
      "\n",
      "    acceleration, cylinders, displacement, horsepower, mpg, name,\n",
      "    origin, weight, year\n",
      "\n",
      "\n",
      "The following objects are masked from Auto (pos = 4):\n",
      "\n",
      "    acceleration, cylinders, displacement, horsepower, mpg, name,\n",
      "    origin, weight, year\n",
      "\n",
      "\n"
     ]
    },
    {
     "data": {
      "text/html": [
       "<table class=\"dataframe\">\n",
       "<caption>A data.frame: 392 × 10</caption>\n",
       "<thead>\n",
       "\t<tr><th></th><th scope=col>mpg</th><th scope=col>cylinders</th><th scope=col>displacement</th><th scope=col>horsepower</th><th scope=col>weight</th><th scope=col>acceleration</th><th scope=col>year</th><th scope=col>origin</th><th scope=col>name</th><th scope=col>mpg01</th></tr>\n",
       "\t<tr><th></th><th scope=col>&lt;dbl&gt;</th><th scope=col>&lt;dbl&gt;</th><th scope=col>&lt;dbl&gt;</th><th scope=col>&lt;dbl&gt;</th><th scope=col>&lt;dbl&gt;</th><th scope=col>&lt;dbl&gt;</th><th scope=col>&lt;dbl&gt;</th><th scope=col>&lt;dbl&gt;</th><th scope=col>&lt;fct&gt;</th><th scope=col>&lt;dbl&gt;</th></tr>\n",
       "</thead>\n",
       "<tbody>\n",
       "\t<tr><th scope=row>1</th><td>18</td><td>8</td><td>307</td><td>130</td><td>3504</td><td>12.0</td><td>70</td><td>1</td><td>chevrolet chevelle malibu   </td><td>0</td></tr>\n",
       "\t<tr><th scope=row>2</th><td>15</td><td>8</td><td>350</td><td>165</td><td>3693</td><td>11.5</td><td>70</td><td>1</td><td>buick skylark 320           </td><td>0</td></tr>\n",
       "\t<tr><th scope=row>3</th><td>18</td><td>8</td><td>318</td><td>150</td><td>3436</td><td>11.0</td><td>70</td><td>1</td><td>plymouth satellite          </td><td>0</td></tr>\n",
       "\t<tr><th scope=row>4</th><td>16</td><td>8</td><td>304</td><td>150</td><td>3433</td><td>12.0</td><td>70</td><td>1</td><td>amc rebel sst               </td><td>0</td></tr>\n",
       "\t<tr><th scope=row>5</th><td>17</td><td>8</td><td>302</td><td>140</td><td>3449</td><td>10.5</td><td>70</td><td>1</td><td>ford torino                 </td><td>0</td></tr>\n",
       "\t<tr><th scope=row>6</th><td>15</td><td>8</td><td>429</td><td>198</td><td>4341</td><td>10.0</td><td>70</td><td>1</td><td>ford galaxie 500            </td><td>0</td></tr>\n",
       "\t<tr><th scope=row>7</th><td>14</td><td>8</td><td>454</td><td>220</td><td>4354</td><td> 9.0</td><td>70</td><td>1</td><td>chevrolet impala            </td><td>0</td></tr>\n",
       "\t<tr><th scope=row>8</th><td>14</td><td>8</td><td>440</td><td>215</td><td>4312</td><td> 8.5</td><td>70</td><td>1</td><td>plymouth fury iii           </td><td>0</td></tr>\n",
       "\t<tr><th scope=row>9</th><td>14</td><td>8</td><td>455</td><td>225</td><td>4425</td><td>10.0</td><td>70</td><td>1</td><td>pontiac catalina            </td><td>0</td></tr>\n",
       "\t<tr><th scope=row>10</th><td>15</td><td>8</td><td>390</td><td>190</td><td>3850</td><td> 8.5</td><td>70</td><td>1</td><td>amc ambassador dpl          </td><td>0</td></tr>\n",
       "\t<tr><th scope=row>11</th><td>15</td><td>8</td><td>383</td><td>170</td><td>3563</td><td>10.0</td><td>70</td><td>1</td><td>dodge challenger se         </td><td>0</td></tr>\n",
       "\t<tr><th scope=row>12</th><td>14</td><td>8</td><td>340</td><td>160</td><td>3609</td><td> 8.0</td><td>70</td><td>1</td><td>plymouth 'cuda 340          </td><td>0</td></tr>\n",
       "\t<tr><th scope=row>13</th><td>15</td><td>8</td><td>400</td><td>150</td><td>3761</td><td> 9.5</td><td>70</td><td>1</td><td>chevrolet monte carlo       </td><td>0</td></tr>\n",
       "\t<tr><th scope=row>14</th><td>14</td><td>8</td><td>455</td><td>225</td><td>3086</td><td>10.0</td><td>70</td><td>1</td><td>buick estate wagon (sw)     </td><td>0</td></tr>\n",
       "\t<tr><th scope=row>15</th><td>24</td><td>4</td><td>113</td><td> 95</td><td>2372</td><td>15.0</td><td>70</td><td>3</td><td>toyota corona mark ii       </td><td>1</td></tr>\n",
       "\t<tr><th scope=row>16</th><td>22</td><td>6</td><td>198</td><td> 95</td><td>2833</td><td>15.5</td><td>70</td><td>1</td><td>plymouth duster             </td><td>0</td></tr>\n",
       "\t<tr><th scope=row>17</th><td>18</td><td>6</td><td>199</td><td> 97</td><td>2774</td><td>15.5</td><td>70</td><td>1</td><td>amc hornet                  </td><td>0</td></tr>\n",
       "\t<tr><th scope=row>18</th><td>21</td><td>6</td><td>200</td><td> 85</td><td>2587</td><td>16.0</td><td>70</td><td>1</td><td>ford maverick               </td><td>0</td></tr>\n",
       "\t<tr><th scope=row>19</th><td>27</td><td>4</td><td> 97</td><td> 88</td><td>2130</td><td>14.5</td><td>70</td><td>3</td><td>datsun pl510                </td><td>1</td></tr>\n",
       "\t<tr><th scope=row>20</th><td>26</td><td>4</td><td> 97</td><td> 46</td><td>1835</td><td>20.5</td><td>70</td><td>2</td><td>volkswagen 1131 deluxe sedan</td><td>1</td></tr>\n",
       "\t<tr><th scope=row>21</th><td>25</td><td>4</td><td>110</td><td> 87</td><td>2672</td><td>17.5</td><td>70</td><td>2</td><td>peugeot 504                 </td><td>1</td></tr>\n",
       "\t<tr><th scope=row>22</th><td>24</td><td>4</td><td>107</td><td> 90</td><td>2430</td><td>14.5</td><td>70</td><td>2</td><td>audi 100 ls                 </td><td>1</td></tr>\n",
       "\t<tr><th scope=row>23</th><td>25</td><td>4</td><td>104</td><td> 95</td><td>2375</td><td>17.5</td><td>70</td><td>2</td><td>saab 99e                    </td><td>1</td></tr>\n",
       "\t<tr><th scope=row>24</th><td>26</td><td>4</td><td>121</td><td>113</td><td>2234</td><td>12.5</td><td>70</td><td>2</td><td>bmw 2002                    </td><td>1</td></tr>\n",
       "\t<tr><th scope=row>25</th><td>21</td><td>6</td><td>199</td><td> 90</td><td>2648</td><td>15.0</td><td>70</td><td>1</td><td>amc gremlin                 </td><td>0</td></tr>\n",
       "\t<tr><th scope=row>26</th><td>10</td><td>8</td><td>360</td><td>215</td><td>4615</td><td>14.0</td><td>70</td><td>1</td><td>ford f250                   </td><td>0</td></tr>\n",
       "\t<tr><th scope=row>27</th><td>10</td><td>8</td><td>307</td><td>200</td><td>4376</td><td>15.0</td><td>70</td><td>1</td><td>chevy c20                   </td><td>0</td></tr>\n",
       "\t<tr><th scope=row>28</th><td>11</td><td>8</td><td>318</td><td>210</td><td>4382</td><td>13.5</td><td>70</td><td>1</td><td>dodge d200                  </td><td>0</td></tr>\n",
       "\t<tr><th scope=row>29</th><td> 9</td><td>8</td><td>304</td><td>193</td><td>4732</td><td>18.5</td><td>70</td><td>1</td><td>hi 1200d                    </td><td>0</td></tr>\n",
       "\t<tr><th scope=row>30</th><td>27</td><td>4</td><td> 97</td><td> 88</td><td>2130</td><td>14.5</td><td>71</td><td>3</td><td>datsun pl510                </td><td>1</td></tr>\n",
       "\t<tr><th scope=row>⋮</th><td>⋮</td><td>⋮</td><td>⋮</td><td>⋮</td><td>⋮</td><td>⋮</td><td>⋮</td><td>⋮</td><td>⋮</td><td>⋮</td></tr>\n",
       "\t<tr><th scope=row>368</th><td>28</td><td>4</td><td>112</td><td> 88</td><td>2605</td><td>19.6</td><td>82</td><td>1</td><td>chevrolet cavalier               </td><td>1</td></tr>\n",
       "\t<tr><th scope=row>369</th><td>27</td><td>4</td><td>112</td><td> 88</td><td>2640</td><td>18.6</td><td>82</td><td>1</td><td>chevrolet cavalier wagon         </td><td>1</td></tr>\n",
       "\t<tr><th scope=row>370</th><td>34</td><td>4</td><td>112</td><td> 88</td><td>2395</td><td>18.0</td><td>82</td><td>1</td><td>chevrolet cavalier 2-door        </td><td>1</td></tr>\n",
       "\t<tr><th scope=row>371</th><td>31</td><td>4</td><td>112</td><td> 85</td><td>2575</td><td>16.2</td><td>82</td><td>1</td><td>pontiac j2000 se hatchback       </td><td>1</td></tr>\n",
       "\t<tr><th scope=row>372</th><td>29</td><td>4</td><td>135</td><td> 84</td><td>2525</td><td>16.0</td><td>82</td><td>1</td><td>dodge aries se                   </td><td>1</td></tr>\n",
       "\t<tr><th scope=row>373</th><td>27</td><td>4</td><td>151</td><td> 90</td><td>2735</td><td>18.0</td><td>82</td><td>1</td><td>pontiac phoenix                  </td><td>1</td></tr>\n",
       "\t<tr><th scope=row>374</th><td>24</td><td>4</td><td>140</td><td> 92</td><td>2865</td><td>16.4</td><td>82</td><td>1</td><td>ford fairmont futura             </td><td>1</td></tr>\n",
       "\t<tr><th scope=row>375</th><td>36</td><td>4</td><td>105</td><td> 74</td><td>1980</td><td>15.3</td><td>82</td><td>2</td><td>volkswagen rabbit l              </td><td>1</td></tr>\n",
       "\t<tr><th scope=row>376</th><td>37</td><td>4</td><td> 91</td><td> 68</td><td>2025</td><td>18.2</td><td>82</td><td>3</td><td>mazda glc custom l               </td><td>1</td></tr>\n",
       "\t<tr><th scope=row>377</th><td>31</td><td>4</td><td> 91</td><td> 68</td><td>1970</td><td>17.6</td><td>82</td><td>3</td><td>mazda glc custom                 </td><td>1</td></tr>\n",
       "\t<tr><th scope=row>378</th><td>38</td><td>4</td><td>105</td><td> 63</td><td>2125</td><td>14.7</td><td>82</td><td>1</td><td>plymouth horizon miser           </td><td>1</td></tr>\n",
       "\t<tr><th scope=row>379</th><td>36</td><td>4</td><td> 98</td><td> 70</td><td>2125</td><td>17.3</td><td>82</td><td>1</td><td>mercury lynx l                   </td><td>1</td></tr>\n",
       "\t<tr><th scope=row>380</th><td>36</td><td>4</td><td>120</td><td> 88</td><td>2160</td><td>14.5</td><td>82</td><td>3</td><td>nissan stanza xe                 </td><td>1</td></tr>\n",
       "\t<tr><th scope=row>381</th><td>36</td><td>4</td><td>107</td><td> 75</td><td>2205</td><td>14.5</td><td>82</td><td>3</td><td>honda accord                     </td><td>1</td></tr>\n",
       "\t<tr><th scope=row>382</th><td>34</td><td>4</td><td>108</td><td> 70</td><td>2245</td><td>16.9</td><td>82</td><td>3</td><td>toyota corolla                   </td><td>1</td></tr>\n",
       "\t<tr><th scope=row>383</th><td>38</td><td>4</td><td> 91</td><td> 67</td><td>1965</td><td>15.0</td><td>82</td><td>3</td><td>honda civic                      </td><td>1</td></tr>\n",
       "\t<tr><th scope=row>384</th><td>32</td><td>4</td><td> 91</td><td> 67</td><td>1965</td><td>15.7</td><td>82</td><td>3</td><td>honda civic (auto)               </td><td>1</td></tr>\n",
       "\t<tr><th scope=row>385</th><td>38</td><td>4</td><td> 91</td><td> 67</td><td>1995</td><td>16.2</td><td>82</td><td>3</td><td>datsun 310 gx                    </td><td>1</td></tr>\n",
       "\t<tr><th scope=row>386</th><td>25</td><td>6</td><td>181</td><td>110</td><td>2945</td><td>16.4</td><td>82</td><td>1</td><td>buick century limited            </td><td>1</td></tr>\n",
       "\t<tr><th scope=row>387</th><td>38</td><td>6</td><td>262</td><td> 85</td><td>3015</td><td>17.0</td><td>82</td><td>1</td><td>oldsmobile cutlass ciera (diesel)</td><td>1</td></tr>\n",
       "\t<tr><th scope=row>388</th><td>26</td><td>4</td><td>156</td><td> 92</td><td>2585</td><td>14.5</td><td>82</td><td>1</td><td>chrysler lebaron medallion       </td><td>1</td></tr>\n",
       "\t<tr><th scope=row>389</th><td>22</td><td>6</td><td>232</td><td>112</td><td>2835</td><td>14.7</td><td>82</td><td>1</td><td>ford granada l                   </td><td>0</td></tr>\n",
       "\t<tr><th scope=row>390</th><td>32</td><td>4</td><td>144</td><td> 96</td><td>2665</td><td>13.9</td><td>82</td><td>3</td><td>toyota celica gt                 </td><td>1</td></tr>\n",
       "\t<tr><th scope=row>391</th><td>36</td><td>4</td><td>135</td><td> 84</td><td>2370</td><td>13.0</td><td>82</td><td>1</td><td>dodge charger 2.2                </td><td>1</td></tr>\n",
       "\t<tr><th scope=row>392</th><td>27</td><td>4</td><td>151</td><td> 90</td><td>2950</td><td>17.3</td><td>82</td><td>1</td><td>chevrolet camaro                 </td><td>1</td></tr>\n",
       "\t<tr><th scope=row>393</th><td>27</td><td>4</td><td>140</td><td> 86</td><td>2790</td><td>15.6</td><td>82</td><td>1</td><td>ford mustang gl                  </td><td>1</td></tr>\n",
       "\t<tr><th scope=row>394</th><td>44</td><td>4</td><td> 97</td><td> 52</td><td>2130</td><td>24.6</td><td>82</td><td>2</td><td>vw pickup                        </td><td>1</td></tr>\n",
       "\t<tr><th scope=row>395</th><td>32</td><td>4</td><td>135</td><td> 84</td><td>2295</td><td>11.6</td><td>82</td><td>1</td><td>dodge rampage                    </td><td>1</td></tr>\n",
       "\t<tr><th scope=row>396</th><td>28</td><td>4</td><td>120</td><td> 79</td><td>2625</td><td>18.6</td><td>82</td><td>1</td><td>ford ranger                      </td><td>1</td></tr>\n",
       "\t<tr><th scope=row>397</th><td>31</td><td>4</td><td>119</td><td> 82</td><td>2720</td><td>19.4</td><td>82</td><td>1</td><td>chevy s-10                       </td><td>1</td></tr>\n",
       "</tbody>\n",
       "</table>\n"
      ],
      "text/latex": [
       "A data.frame: 392 × 10\n",
       "\\begin{tabular}{r|llllllllll}\n",
       "  & mpg & cylinders & displacement & horsepower & weight & acceleration & year & origin & name & mpg01\\\\\n",
       "  & <dbl> & <dbl> & <dbl> & <dbl> & <dbl> & <dbl> & <dbl> & <dbl> & <fct> & <dbl>\\\\\n",
       "\\hline\n",
       "\t1 & 18 & 8 & 307 & 130 & 3504 & 12.0 & 70 & 1 & chevrolet chevelle malibu    & 0\\\\\n",
       "\t2 & 15 & 8 & 350 & 165 & 3693 & 11.5 & 70 & 1 & buick skylark 320            & 0\\\\\n",
       "\t3 & 18 & 8 & 318 & 150 & 3436 & 11.0 & 70 & 1 & plymouth satellite           & 0\\\\\n",
       "\t4 & 16 & 8 & 304 & 150 & 3433 & 12.0 & 70 & 1 & amc rebel sst                & 0\\\\\n",
       "\t5 & 17 & 8 & 302 & 140 & 3449 & 10.5 & 70 & 1 & ford torino                  & 0\\\\\n",
       "\t6 & 15 & 8 & 429 & 198 & 4341 & 10.0 & 70 & 1 & ford galaxie 500             & 0\\\\\n",
       "\t7 & 14 & 8 & 454 & 220 & 4354 &  9.0 & 70 & 1 & chevrolet impala             & 0\\\\\n",
       "\t8 & 14 & 8 & 440 & 215 & 4312 &  8.5 & 70 & 1 & plymouth fury iii            & 0\\\\\n",
       "\t9 & 14 & 8 & 455 & 225 & 4425 & 10.0 & 70 & 1 & pontiac catalina             & 0\\\\\n",
       "\t10 & 15 & 8 & 390 & 190 & 3850 &  8.5 & 70 & 1 & amc ambassador dpl           & 0\\\\\n",
       "\t11 & 15 & 8 & 383 & 170 & 3563 & 10.0 & 70 & 1 & dodge challenger se          & 0\\\\\n",
       "\t12 & 14 & 8 & 340 & 160 & 3609 &  8.0 & 70 & 1 & plymouth 'cuda 340           & 0\\\\\n",
       "\t13 & 15 & 8 & 400 & 150 & 3761 &  9.5 & 70 & 1 & chevrolet monte carlo        & 0\\\\\n",
       "\t14 & 14 & 8 & 455 & 225 & 3086 & 10.0 & 70 & 1 & buick estate wagon (sw)      & 0\\\\\n",
       "\t15 & 24 & 4 & 113 &  95 & 2372 & 15.0 & 70 & 3 & toyota corona mark ii        & 1\\\\\n",
       "\t16 & 22 & 6 & 198 &  95 & 2833 & 15.5 & 70 & 1 & plymouth duster              & 0\\\\\n",
       "\t17 & 18 & 6 & 199 &  97 & 2774 & 15.5 & 70 & 1 & amc hornet                   & 0\\\\\n",
       "\t18 & 21 & 6 & 200 &  85 & 2587 & 16.0 & 70 & 1 & ford maverick                & 0\\\\\n",
       "\t19 & 27 & 4 &  97 &  88 & 2130 & 14.5 & 70 & 3 & datsun pl510                 & 1\\\\\n",
       "\t20 & 26 & 4 &  97 &  46 & 1835 & 20.5 & 70 & 2 & volkswagen 1131 deluxe sedan & 1\\\\\n",
       "\t21 & 25 & 4 & 110 &  87 & 2672 & 17.5 & 70 & 2 & peugeot 504                  & 1\\\\\n",
       "\t22 & 24 & 4 & 107 &  90 & 2430 & 14.5 & 70 & 2 & audi 100 ls                  & 1\\\\\n",
       "\t23 & 25 & 4 & 104 &  95 & 2375 & 17.5 & 70 & 2 & saab 99e                     & 1\\\\\n",
       "\t24 & 26 & 4 & 121 & 113 & 2234 & 12.5 & 70 & 2 & bmw 2002                     & 1\\\\\n",
       "\t25 & 21 & 6 & 199 &  90 & 2648 & 15.0 & 70 & 1 & amc gremlin                  & 0\\\\\n",
       "\t26 & 10 & 8 & 360 & 215 & 4615 & 14.0 & 70 & 1 & ford f250                    & 0\\\\\n",
       "\t27 & 10 & 8 & 307 & 200 & 4376 & 15.0 & 70 & 1 & chevy c20                    & 0\\\\\n",
       "\t28 & 11 & 8 & 318 & 210 & 4382 & 13.5 & 70 & 1 & dodge d200                   & 0\\\\\n",
       "\t29 &  9 & 8 & 304 & 193 & 4732 & 18.5 & 70 & 1 & hi 1200d                     & 0\\\\\n",
       "\t30 & 27 & 4 &  97 &  88 & 2130 & 14.5 & 71 & 3 & datsun pl510                 & 1\\\\\n",
       "\t⋮ & ⋮ & ⋮ & ⋮ & ⋮ & ⋮ & ⋮ & ⋮ & ⋮ & ⋮ & ⋮\\\\\n",
       "\t368 & 28 & 4 & 112 &  88 & 2605 & 19.6 & 82 & 1 & chevrolet cavalier                & 1\\\\\n",
       "\t369 & 27 & 4 & 112 &  88 & 2640 & 18.6 & 82 & 1 & chevrolet cavalier wagon          & 1\\\\\n",
       "\t370 & 34 & 4 & 112 &  88 & 2395 & 18.0 & 82 & 1 & chevrolet cavalier 2-door         & 1\\\\\n",
       "\t371 & 31 & 4 & 112 &  85 & 2575 & 16.2 & 82 & 1 & pontiac j2000 se hatchback        & 1\\\\\n",
       "\t372 & 29 & 4 & 135 &  84 & 2525 & 16.0 & 82 & 1 & dodge aries se                    & 1\\\\\n",
       "\t373 & 27 & 4 & 151 &  90 & 2735 & 18.0 & 82 & 1 & pontiac phoenix                   & 1\\\\\n",
       "\t374 & 24 & 4 & 140 &  92 & 2865 & 16.4 & 82 & 1 & ford fairmont futura              & 1\\\\\n",
       "\t375 & 36 & 4 & 105 &  74 & 1980 & 15.3 & 82 & 2 & volkswagen rabbit l               & 1\\\\\n",
       "\t376 & 37 & 4 &  91 &  68 & 2025 & 18.2 & 82 & 3 & mazda glc custom l                & 1\\\\\n",
       "\t377 & 31 & 4 &  91 &  68 & 1970 & 17.6 & 82 & 3 & mazda glc custom                  & 1\\\\\n",
       "\t378 & 38 & 4 & 105 &  63 & 2125 & 14.7 & 82 & 1 & plymouth horizon miser            & 1\\\\\n",
       "\t379 & 36 & 4 &  98 &  70 & 2125 & 17.3 & 82 & 1 & mercury lynx l                    & 1\\\\\n",
       "\t380 & 36 & 4 & 120 &  88 & 2160 & 14.5 & 82 & 3 & nissan stanza xe                  & 1\\\\\n",
       "\t381 & 36 & 4 & 107 &  75 & 2205 & 14.5 & 82 & 3 & honda accord                      & 1\\\\\n",
       "\t382 & 34 & 4 & 108 &  70 & 2245 & 16.9 & 82 & 3 & toyota corolla                    & 1\\\\\n",
       "\t383 & 38 & 4 &  91 &  67 & 1965 & 15.0 & 82 & 3 & honda civic                       & 1\\\\\n",
       "\t384 & 32 & 4 &  91 &  67 & 1965 & 15.7 & 82 & 3 & honda civic (auto)                & 1\\\\\n",
       "\t385 & 38 & 4 &  91 &  67 & 1995 & 16.2 & 82 & 3 & datsun 310 gx                     & 1\\\\\n",
       "\t386 & 25 & 6 & 181 & 110 & 2945 & 16.4 & 82 & 1 & buick century limited             & 1\\\\\n",
       "\t387 & 38 & 6 & 262 &  85 & 3015 & 17.0 & 82 & 1 & oldsmobile cutlass ciera (diesel) & 1\\\\\n",
       "\t388 & 26 & 4 & 156 &  92 & 2585 & 14.5 & 82 & 1 & chrysler lebaron medallion        & 1\\\\\n",
       "\t389 & 22 & 6 & 232 & 112 & 2835 & 14.7 & 82 & 1 & ford granada l                    & 0\\\\\n",
       "\t390 & 32 & 4 & 144 &  96 & 2665 & 13.9 & 82 & 3 & toyota celica gt                  & 1\\\\\n",
       "\t391 & 36 & 4 & 135 &  84 & 2370 & 13.0 & 82 & 1 & dodge charger 2.2                 & 1\\\\\n",
       "\t392 & 27 & 4 & 151 &  90 & 2950 & 17.3 & 82 & 1 & chevrolet camaro                  & 1\\\\\n",
       "\t393 & 27 & 4 & 140 &  86 & 2790 & 15.6 & 82 & 1 & ford mustang gl                   & 1\\\\\n",
       "\t394 & 44 & 4 &  97 &  52 & 2130 & 24.6 & 82 & 2 & vw pickup                         & 1\\\\\n",
       "\t395 & 32 & 4 & 135 &  84 & 2295 & 11.6 & 82 & 1 & dodge rampage                     & 1\\\\\n",
       "\t396 & 28 & 4 & 120 &  79 & 2625 & 18.6 & 82 & 1 & ford ranger                       & 1\\\\\n",
       "\t397 & 31 & 4 & 119 &  82 & 2720 & 19.4 & 82 & 1 & chevy s-10                        & 1\\\\\n",
       "\\end{tabular}\n"
      ],
      "text/markdown": [
       "\n",
       "A data.frame: 392 × 10\n",
       "\n",
       "| <!--/--> | mpg &lt;dbl&gt; | cylinders &lt;dbl&gt; | displacement &lt;dbl&gt; | horsepower &lt;dbl&gt; | weight &lt;dbl&gt; | acceleration &lt;dbl&gt; | year &lt;dbl&gt; | origin &lt;dbl&gt; | name &lt;fct&gt; | mpg01 &lt;dbl&gt; |\n",
       "|---|---|---|---|---|---|---|---|---|---|---|\n",
       "| 1 | 18 | 8 | 307 | 130 | 3504 | 12.0 | 70 | 1 | chevrolet chevelle malibu    | 0 |\n",
       "| 2 | 15 | 8 | 350 | 165 | 3693 | 11.5 | 70 | 1 | buick skylark 320            | 0 |\n",
       "| 3 | 18 | 8 | 318 | 150 | 3436 | 11.0 | 70 | 1 | plymouth satellite           | 0 |\n",
       "| 4 | 16 | 8 | 304 | 150 | 3433 | 12.0 | 70 | 1 | amc rebel sst                | 0 |\n",
       "| 5 | 17 | 8 | 302 | 140 | 3449 | 10.5 | 70 | 1 | ford torino                  | 0 |\n",
       "| 6 | 15 | 8 | 429 | 198 | 4341 | 10.0 | 70 | 1 | ford galaxie 500             | 0 |\n",
       "| 7 | 14 | 8 | 454 | 220 | 4354 |  9.0 | 70 | 1 | chevrolet impala             | 0 |\n",
       "| 8 | 14 | 8 | 440 | 215 | 4312 |  8.5 | 70 | 1 | plymouth fury iii            | 0 |\n",
       "| 9 | 14 | 8 | 455 | 225 | 4425 | 10.0 | 70 | 1 | pontiac catalina             | 0 |\n",
       "| 10 | 15 | 8 | 390 | 190 | 3850 |  8.5 | 70 | 1 | amc ambassador dpl           | 0 |\n",
       "| 11 | 15 | 8 | 383 | 170 | 3563 | 10.0 | 70 | 1 | dodge challenger se          | 0 |\n",
       "| 12 | 14 | 8 | 340 | 160 | 3609 |  8.0 | 70 | 1 | plymouth 'cuda 340           | 0 |\n",
       "| 13 | 15 | 8 | 400 | 150 | 3761 |  9.5 | 70 | 1 | chevrolet monte carlo        | 0 |\n",
       "| 14 | 14 | 8 | 455 | 225 | 3086 | 10.0 | 70 | 1 | buick estate wagon (sw)      | 0 |\n",
       "| 15 | 24 | 4 | 113 |  95 | 2372 | 15.0 | 70 | 3 | toyota corona mark ii        | 1 |\n",
       "| 16 | 22 | 6 | 198 |  95 | 2833 | 15.5 | 70 | 1 | plymouth duster              | 0 |\n",
       "| 17 | 18 | 6 | 199 |  97 | 2774 | 15.5 | 70 | 1 | amc hornet                   | 0 |\n",
       "| 18 | 21 | 6 | 200 |  85 | 2587 | 16.0 | 70 | 1 | ford maverick                | 0 |\n",
       "| 19 | 27 | 4 |  97 |  88 | 2130 | 14.5 | 70 | 3 | datsun pl510                 | 1 |\n",
       "| 20 | 26 | 4 |  97 |  46 | 1835 | 20.5 | 70 | 2 | volkswagen 1131 deluxe sedan | 1 |\n",
       "| 21 | 25 | 4 | 110 |  87 | 2672 | 17.5 | 70 | 2 | peugeot 504                  | 1 |\n",
       "| 22 | 24 | 4 | 107 |  90 | 2430 | 14.5 | 70 | 2 | audi 100 ls                  | 1 |\n",
       "| 23 | 25 | 4 | 104 |  95 | 2375 | 17.5 | 70 | 2 | saab 99e                     | 1 |\n",
       "| 24 | 26 | 4 | 121 | 113 | 2234 | 12.5 | 70 | 2 | bmw 2002                     | 1 |\n",
       "| 25 | 21 | 6 | 199 |  90 | 2648 | 15.0 | 70 | 1 | amc gremlin                  | 0 |\n",
       "| 26 | 10 | 8 | 360 | 215 | 4615 | 14.0 | 70 | 1 | ford f250                    | 0 |\n",
       "| 27 | 10 | 8 | 307 | 200 | 4376 | 15.0 | 70 | 1 | chevy c20                    | 0 |\n",
       "| 28 | 11 | 8 | 318 | 210 | 4382 | 13.5 | 70 | 1 | dodge d200                   | 0 |\n",
       "| 29 |  9 | 8 | 304 | 193 | 4732 | 18.5 | 70 | 1 | hi 1200d                     | 0 |\n",
       "| 30 | 27 | 4 |  97 |  88 | 2130 | 14.5 | 71 | 3 | datsun pl510                 | 1 |\n",
       "| ⋮ | ⋮ | ⋮ | ⋮ | ⋮ | ⋮ | ⋮ | ⋮ | ⋮ | ⋮ | ⋮ |\n",
       "| 368 | 28 | 4 | 112 |  88 | 2605 | 19.6 | 82 | 1 | chevrolet cavalier                | 1 |\n",
       "| 369 | 27 | 4 | 112 |  88 | 2640 | 18.6 | 82 | 1 | chevrolet cavalier wagon          | 1 |\n",
       "| 370 | 34 | 4 | 112 |  88 | 2395 | 18.0 | 82 | 1 | chevrolet cavalier 2-door         | 1 |\n",
       "| 371 | 31 | 4 | 112 |  85 | 2575 | 16.2 | 82 | 1 | pontiac j2000 se hatchback        | 1 |\n",
       "| 372 | 29 | 4 | 135 |  84 | 2525 | 16.0 | 82 | 1 | dodge aries se                    | 1 |\n",
       "| 373 | 27 | 4 | 151 |  90 | 2735 | 18.0 | 82 | 1 | pontiac phoenix                   | 1 |\n",
       "| 374 | 24 | 4 | 140 |  92 | 2865 | 16.4 | 82 | 1 | ford fairmont futura              | 1 |\n",
       "| 375 | 36 | 4 | 105 |  74 | 1980 | 15.3 | 82 | 2 | volkswagen rabbit l               | 1 |\n",
       "| 376 | 37 | 4 |  91 |  68 | 2025 | 18.2 | 82 | 3 | mazda glc custom l                | 1 |\n",
       "| 377 | 31 | 4 |  91 |  68 | 1970 | 17.6 | 82 | 3 | mazda glc custom                  | 1 |\n",
       "| 378 | 38 | 4 | 105 |  63 | 2125 | 14.7 | 82 | 1 | plymouth horizon miser            | 1 |\n",
       "| 379 | 36 | 4 |  98 |  70 | 2125 | 17.3 | 82 | 1 | mercury lynx l                    | 1 |\n",
       "| 380 | 36 | 4 | 120 |  88 | 2160 | 14.5 | 82 | 3 | nissan stanza xe                  | 1 |\n",
       "| 381 | 36 | 4 | 107 |  75 | 2205 | 14.5 | 82 | 3 | honda accord                      | 1 |\n",
       "| 382 | 34 | 4 | 108 |  70 | 2245 | 16.9 | 82 | 3 | toyota corolla                    | 1 |\n",
       "| 383 | 38 | 4 |  91 |  67 | 1965 | 15.0 | 82 | 3 | honda civic                       | 1 |\n",
       "| 384 | 32 | 4 |  91 |  67 | 1965 | 15.7 | 82 | 3 | honda civic (auto)                | 1 |\n",
       "| 385 | 38 | 4 |  91 |  67 | 1995 | 16.2 | 82 | 3 | datsun 310 gx                     | 1 |\n",
       "| 386 | 25 | 6 | 181 | 110 | 2945 | 16.4 | 82 | 1 | buick century limited             | 1 |\n",
       "| 387 | 38 | 6 | 262 |  85 | 3015 | 17.0 | 82 | 1 | oldsmobile cutlass ciera (diesel) | 1 |\n",
       "| 388 | 26 | 4 | 156 |  92 | 2585 | 14.5 | 82 | 1 | chrysler lebaron medallion        | 1 |\n",
       "| 389 | 22 | 6 | 232 | 112 | 2835 | 14.7 | 82 | 1 | ford granada l                    | 0 |\n",
       "| 390 | 32 | 4 | 144 |  96 | 2665 | 13.9 | 82 | 3 | toyota celica gt                  | 1 |\n",
       "| 391 | 36 | 4 | 135 |  84 | 2370 | 13.0 | 82 | 1 | dodge charger 2.2                 | 1 |\n",
       "| 392 | 27 | 4 | 151 |  90 | 2950 | 17.3 | 82 | 1 | chevrolet camaro                  | 1 |\n",
       "| 393 | 27 | 4 | 140 |  86 | 2790 | 15.6 | 82 | 1 | ford mustang gl                   | 1 |\n",
       "| 394 | 44 | 4 |  97 |  52 | 2130 | 24.6 | 82 | 2 | vw pickup                         | 1 |\n",
       "| 395 | 32 | 4 | 135 |  84 | 2295 | 11.6 | 82 | 1 | dodge rampage                     | 1 |\n",
       "| 396 | 28 | 4 | 120 |  79 | 2625 | 18.6 | 82 | 1 | ford ranger                       | 1 |\n",
       "| 397 | 31 | 4 | 119 |  82 | 2720 | 19.4 | 82 | 1 | chevy s-10                        | 1 |\n",
       "\n"
      ],
      "text/plain": [
       "    mpg cylinders displacement horsepower weight acceleration year origin\n",
       "1   18  8         307          130        3504   12.0         70   1     \n",
       "2   15  8         350          165        3693   11.5         70   1     \n",
       "3   18  8         318          150        3436   11.0         70   1     \n",
       "4   16  8         304          150        3433   12.0         70   1     \n",
       "5   17  8         302          140        3449   10.5         70   1     \n",
       "6   15  8         429          198        4341   10.0         70   1     \n",
       "7   14  8         454          220        4354    9.0         70   1     \n",
       "8   14  8         440          215        4312    8.5         70   1     \n",
       "9   14  8         455          225        4425   10.0         70   1     \n",
       "10  15  8         390          190        3850    8.5         70   1     \n",
       "11  15  8         383          170        3563   10.0         70   1     \n",
       "12  14  8         340          160        3609    8.0         70   1     \n",
       "13  15  8         400          150        3761    9.5         70   1     \n",
       "14  14  8         455          225        3086   10.0         70   1     \n",
       "15  24  4         113           95        2372   15.0         70   3     \n",
       "16  22  6         198           95        2833   15.5         70   1     \n",
       "17  18  6         199           97        2774   15.5         70   1     \n",
       "18  21  6         200           85        2587   16.0         70   1     \n",
       "19  27  4          97           88        2130   14.5         70   3     \n",
       "20  26  4          97           46        1835   20.5         70   2     \n",
       "21  25  4         110           87        2672   17.5         70   2     \n",
       "22  24  4         107           90        2430   14.5         70   2     \n",
       "23  25  4         104           95        2375   17.5         70   2     \n",
       "24  26  4         121          113        2234   12.5         70   2     \n",
       "25  21  6         199           90        2648   15.0         70   1     \n",
       "26  10  8         360          215        4615   14.0         70   1     \n",
       "27  10  8         307          200        4376   15.0         70   1     \n",
       "28  11  8         318          210        4382   13.5         70   1     \n",
       "29   9  8         304          193        4732   18.5         70   1     \n",
       "30  27  4          97           88        2130   14.5         71   3     \n",
       "<U+22EE>   <U+22EE> <U+22EE>  <U+22EE>     <U+22EE>   <U+22EE> <U+22EE>     <U+22EE> <U+22EE>\n",
       "368 28  4         112           88        2605   19.6         82   1     \n",
       "369 27  4         112           88        2640   18.6         82   1     \n",
       "370 34  4         112           88        2395   18.0         82   1     \n",
       "371 31  4         112           85        2575   16.2         82   1     \n",
       "372 29  4         135           84        2525   16.0         82   1     \n",
       "373 27  4         151           90        2735   18.0         82   1     \n",
       "374 24  4         140           92        2865   16.4         82   1     \n",
       "375 36  4         105           74        1980   15.3         82   2     \n",
       "376 37  4          91           68        2025   18.2         82   3     \n",
       "377 31  4          91           68        1970   17.6         82   3     \n",
       "378 38  4         105           63        2125   14.7         82   1     \n",
       "379 36  4          98           70        2125   17.3         82   1     \n",
       "380 36  4         120           88        2160   14.5         82   3     \n",
       "381 36  4         107           75        2205   14.5         82   3     \n",
       "382 34  4         108           70        2245   16.9         82   3     \n",
       "383 38  4          91           67        1965   15.0         82   3     \n",
       "384 32  4          91           67        1965   15.7         82   3     \n",
       "385 38  4          91           67        1995   16.2         82   3     \n",
       "386 25  6         181          110        2945   16.4         82   1     \n",
       "387 38  6         262           85        3015   17.0         82   1     \n",
       "388 26  4         156           92        2585   14.5         82   1     \n",
       "389 22  6         232          112        2835   14.7         82   1     \n",
       "390 32  4         144           96        2665   13.9         82   3     \n",
       "391 36  4         135           84        2370   13.0         82   1     \n",
       "392 27  4         151           90        2950   17.3         82   1     \n",
       "393 27  4         140           86        2790   15.6         82   1     \n",
       "394 44  4          97           52        2130   24.6         82   2     \n",
       "395 32  4         135           84        2295   11.6         82   1     \n",
       "396 28  4         120           79        2625   18.6         82   1     \n",
       "397 31  4         119           82        2720   19.4         82   1     \n",
       "    name                              mpg01\n",
       "1   chevrolet chevelle malibu         0    \n",
       "2   buick skylark 320                 0    \n",
       "3   plymouth satellite                0    \n",
       "4   amc rebel sst                     0    \n",
       "5   ford torino                       0    \n",
       "6   ford galaxie 500                  0    \n",
       "7   chevrolet impala                  0    \n",
       "8   plymouth fury iii                 0    \n",
       "9   pontiac catalina                  0    \n",
       "10  amc ambassador dpl                0    \n",
       "11  dodge challenger se               0    \n",
       "12  plymouth 'cuda 340                0    \n",
       "13  chevrolet monte carlo             0    \n",
       "14  buick estate wagon (sw)           0    \n",
       "15  toyota corona mark ii             1    \n",
       "16  plymouth duster                   0    \n",
       "17  amc hornet                        0    \n",
       "18  ford maverick                     0    \n",
       "19  datsun pl510                      1    \n",
       "20  volkswagen 1131 deluxe sedan      1    \n",
       "21  peugeot 504                       1    \n",
       "22  audi 100 ls                       1    \n",
       "23  saab 99e                          1    \n",
       "24  bmw 2002                          1    \n",
       "25  amc gremlin                       0    \n",
       "26  ford f250                         0    \n",
       "27  chevy c20                         0    \n",
       "28  dodge d200                        0    \n",
       "29  hi 1200d                          0    \n",
       "30  datsun pl510                      1    \n",
       "<U+22EE>   <U+22EE>                          <U+22EE>\n",
       "368 chevrolet cavalier                1    \n",
       "369 chevrolet cavalier wagon          1    \n",
       "370 chevrolet cavalier 2-door         1    \n",
       "371 pontiac j2000 se hatchback        1    \n",
       "372 dodge aries se                    1    \n",
       "373 pontiac phoenix                   1    \n",
       "374 ford fairmont futura              1    \n",
       "375 volkswagen rabbit l               1    \n",
       "376 mazda glc custom l                1    \n",
       "377 mazda glc custom                  1    \n",
       "378 plymouth horizon miser            1    \n",
       "379 mercury lynx l                    1    \n",
       "380 nissan stanza xe                  1    \n",
       "381 honda accord                      1    \n",
       "382 toyota corolla                    1    \n",
       "383 honda civic                       1    \n",
       "384 honda civic (auto)                1    \n",
       "385 datsun 310 gx                     1    \n",
       "386 buick century limited             1    \n",
       "387 oldsmobile cutlass ciera (diesel) 1    \n",
       "388 chrysler lebaron medallion        1    \n",
       "389 ford granada l                    0    \n",
       "390 toyota celica gt                  1    \n",
       "391 dodge charger 2.2                 1    \n",
       "392 chevrolet camaro                  1    \n",
       "393 ford mustang gl                   1    \n",
       "394 vw pickup                         1    \n",
       "395 dodge rampage                     1    \n",
       "396 ford ranger                       1    \n",
       "397 chevy s-10                        1    "
      ]
     },
     "metadata": {},
     "output_type": "display_data"
    }
   ],
   "source": [
    "attach(Auto)\n",
    "mpg01 = rep(0, length(mpg))\n",
    "mpg01[mpg > median(mpg)] = 1\n",
    "Auto = data.frame(Auto, mpg01)\n",
    "Auto\n"
   ]
  },
  {
   "cell_type": "markdown",
   "id": "405b67a9",
   "metadata": {},
   "source": [
    "##### b)"
   ]
  },
  {
   "cell_type": "code",
   "execution_count": 19,
   "id": "d1eac1bd",
   "metadata": {},
   "outputs": [
    {
     "data": {
      "image/png": "[encoded data removed]",
      "text/plain": [
       "plot without title"
      ]
     },
     "metadata": {
      "image/png": {
       "height": 420,
       "width": 420
      }
     },
     "output_type": "display_data"
    }
   ],
   "source": [
    "pairs(Auto)"
   ]
  },
  {
   "cell_type": "code",
   "execution_count": 20,
   "id": "18ce49d9",
   "metadata": {
    "scrolled": true
   },
   "outputs": [
    {
     "data": {
      "text/html": [
       "<table class=\"dataframe\">\n",
       "<caption>A matrix: 9 × 9 of type dbl</caption>\n",
       "<thead>\n",
       "\t<tr><th></th><th scope=col>mpg</th><th scope=col>cylinders</th><th scope=col>displacement</th><th scope=col>horsepower</th><th scope=col>weight</th><th scope=col>acceleration</th><th scope=col>year</th><th scope=col>origin</th><th scope=col>mpg01</th></tr>\n",
       "</thead>\n",
       "<tbody>\n",
       "\t<tr><th scope=row>mpg</th><td> 1.0000000</td><td>-0.7776175</td><td>-0.8051269</td><td>-0.7784268</td><td>-0.8322442</td><td> 0.4233285</td><td> 0.5805410</td><td> 0.5652088</td><td> 0.8369392</td></tr>\n",
       "\t<tr><th scope=row>cylinders</th><td>-0.7776175</td><td> 1.0000000</td><td> 0.9508233</td><td> 0.8429834</td><td> 0.8975273</td><td>-0.5046834</td><td>-0.3456474</td><td>-0.5689316</td><td>-0.7591939</td></tr>\n",
       "\t<tr><th scope=row>displacement</th><td>-0.8051269</td><td> 0.9508233</td><td> 1.0000000</td><td> 0.8972570</td><td> 0.9329944</td><td>-0.5438005</td><td>-0.3698552</td><td>-0.6145351</td><td>-0.7534766</td></tr>\n",
       "\t<tr><th scope=row>horsepower</th><td>-0.7784268</td><td> 0.8429834</td><td> 0.8972570</td><td> 1.0000000</td><td> 0.8645377</td><td>-0.6891955</td><td>-0.4163615</td><td>-0.4551715</td><td>-0.6670526</td></tr>\n",
       "\t<tr><th scope=row>weight</th><td>-0.8322442</td><td> 0.8975273</td><td> 0.9329944</td><td> 0.8645377</td><td> 1.0000000</td><td>-0.4168392</td><td>-0.3091199</td><td>-0.5850054</td><td>-0.7577566</td></tr>\n",
       "\t<tr><th scope=row>acceleration</th><td> 0.4233285</td><td>-0.5046834</td><td>-0.5438005</td><td>-0.6891955</td><td>-0.4168392</td><td> 1.0000000</td><td> 0.2903161</td><td> 0.2127458</td><td> 0.3468215</td></tr>\n",
       "\t<tr><th scope=row>year</th><td> 0.5805410</td><td>-0.3456474</td><td>-0.3698552</td><td>-0.4163615</td><td>-0.3091199</td><td> 0.2903161</td><td> 1.0000000</td><td> 0.1815277</td><td> 0.4299042</td></tr>\n",
       "\t<tr><th scope=row>origin</th><td> 0.5652088</td><td>-0.5689316</td><td>-0.6145351</td><td>-0.4551715</td><td>-0.5850054</td><td> 0.2127458</td><td> 0.1815277</td><td> 1.0000000</td><td> 0.5136984</td></tr>\n",
       "\t<tr><th scope=row>mpg01</th><td> 0.8369392</td><td>-0.7591939</td><td>-0.7534766</td><td>-0.6670526</td><td>-0.7577566</td><td> 0.3468215</td><td> 0.4299042</td><td> 0.5136984</td><td> 1.0000000</td></tr>\n",
       "</tbody>\n",
       "</table>\n"
      ],
      "text/latex": [
       "A matrix: 9 × 9 of type dbl\n",
       "\\begin{tabular}{r|lllllllll}\n",
       "  & mpg & cylinders & displacement & horsepower & weight & acceleration & year & origin & mpg01\\\\\n",
       "\\hline\n",
       "\tmpg &  1.0000000 & -0.7776175 & -0.8051269 & -0.7784268 & -0.8322442 &  0.4233285 &  0.5805410 &  0.5652088 &  0.8369392\\\\\n",
       "\tcylinders & -0.7776175 &  1.0000000 &  0.9508233 &  0.8429834 &  0.8975273 & -0.5046834 & -0.3456474 & -0.5689316 & -0.7591939\\\\\n",
       "\tdisplacement & -0.8051269 &  0.9508233 &  1.0000000 &  0.8972570 &  0.9329944 & -0.5438005 & -0.3698552 & -0.6145351 & -0.7534766\\\\\n",
       "\thorsepower & -0.7784268 &  0.8429834 &  0.8972570 &  1.0000000 &  0.8645377 & -0.6891955 & -0.4163615 & -0.4551715 & -0.6670526\\\\\n",
       "\tweight & -0.8322442 &  0.8975273 &  0.9329944 &  0.8645377 &  1.0000000 & -0.4168392 & -0.3091199 & -0.5850054 & -0.7577566\\\\\n",
       "\tacceleration &  0.4233285 & -0.5046834 & -0.5438005 & -0.6891955 & -0.4168392 &  1.0000000 &  0.2903161 &  0.2127458 &  0.3468215\\\\\n",
       "\tyear &  0.5805410 & -0.3456474 & -0.3698552 & -0.4163615 & -0.3091199 &  0.2903161 &  1.0000000 &  0.1815277 &  0.4299042\\\\\n",
       "\torigin &  0.5652088 & -0.5689316 & -0.6145351 & -0.4551715 & -0.5850054 &  0.2127458 &  0.1815277 &  1.0000000 &  0.5136984\\\\\n",
       "\tmpg01 &  0.8369392 & -0.7591939 & -0.7534766 & -0.6670526 & -0.7577566 &  0.3468215 &  0.4299042 &  0.5136984 &  1.0000000\\\\\n",
       "\\end{tabular}\n"
      ],
      "text/markdown": [
       "\n",
       "A matrix: 9 × 9 of type dbl\n",
       "\n",
       "| <!--/--> | mpg | cylinders | displacement | horsepower | weight | acceleration | year | origin | mpg01 |\n",
       "|---|---|---|---|---|---|---|---|---|---|\n",
       "| mpg |  1.0000000 | -0.7776175 | -0.8051269 | -0.7784268 | -0.8322442 |  0.4233285 |  0.5805410 |  0.5652088 |  0.8369392 |\n",
       "| cylinders | -0.7776175 |  1.0000000 |  0.9508233 |  0.8429834 |  0.8975273 | -0.5046834 | -0.3456474 | -0.5689316 | -0.7591939 |\n",
       "| displacement | -0.8051269 |  0.9508233 |  1.0000000 |  0.8972570 |  0.9329944 | -0.5438005 | -0.3698552 | -0.6145351 | -0.7534766 |\n",
       "| horsepower | -0.7784268 |  0.8429834 |  0.8972570 |  1.0000000 |  0.8645377 | -0.6891955 | -0.4163615 | -0.4551715 | -0.6670526 |\n",
       "| weight | -0.8322442 |  0.8975273 |  0.9329944 |  0.8645377 |  1.0000000 | -0.4168392 | -0.3091199 | -0.5850054 | -0.7577566 |\n",
       "| acceleration |  0.4233285 | -0.5046834 | -0.5438005 | -0.6891955 | -0.4168392 |  1.0000000 |  0.2903161 |  0.2127458 |  0.3468215 |\n",
       "| year |  0.5805410 | -0.3456474 | -0.3698552 | -0.4163615 | -0.3091199 |  0.2903161 |  1.0000000 |  0.1815277 |  0.4299042 |\n",
       "| origin |  0.5652088 | -0.5689316 | -0.6145351 | -0.4551715 | -0.5850054 |  0.2127458 |  0.1815277 |  1.0000000 |  0.5136984 |\n",
       "| mpg01 |  0.8369392 | -0.7591939 | -0.7534766 | -0.6670526 | -0.7577566 |  0.3468215 |  0.4299042 |  0.5136984 |  1.0000000 |\n",
       "\n"
      ],
      "text/plain": [
       "             mpg        cylinders  displacement horsepower weight    \n",
       "mpg           1.0000000 -0.7776175 -0.8051269   -0.7784268 -0.8322442\n",
       "cylinders    -0.7776175  1.0000000  0.9508233    0.8429834  0.8975273\n",
       "displacement -0.8051269  0.9508233  1.0000000    0.8972570  0.9329944\n",
       "horsepower   -0.7784268  0.8429834  0.8972570    1.0000000  0.8645377\n",
       "weight       -0.8322442  0.8975273  0.9329944    0.8645377  1.0000000\n",
       "acceleration  0.4233285 -0.5046834 -0.5438005   -0.6891955 -0.4168392\n",
       "year          0.5805410 -0.3456474 -0.3698552   -0.4163615 -0.3091199\n",
       "origin        0.5652088 -0.5689316 -0.6145351   -0.4551715 -0.5850054\n",
       "mpg01         0.8369392 -0.7591939 -0.7534766   -0.6670526 -0.7577566\n",
       "             acceleration year       origin     mpg01     \n",
       "mpg           0.4233285    0.5805410  0.5652088  0.8369392\n",
       "cylinders    -0.5046834   -0.3456474 -0.5689316 -0.7591939\n",
       "displacement -0.5438005   -0.3698552 -0.6145351 -0.7534766\n",
       "horsepower   -0.6891955   -0.4163615 -0.4551715 -0.6670526\n",
       "weight       -0.4168392   -0.3091199 -0.5850054 -0.7577566\n",
       "acceleration  1.0000000    0.2903161  0.2127458  0.3468215\n",
       "year          0.2903161    1.0000000  0.1815277  0.4299042\n",
       "origin        0.2127458    0.1815277  1.0000000  0.5136984\n",
       "mpg01         0.3468215    0.4299042  0.5136984  1.0000000"
      ]
     },
     "metadata": {},
     "output_type": "display_data"
    }
   ],
   "source": [
    "cor(Auto[,-9])"
   ]
  },
  {
   "cell_type": "code",
   "execution_count": 21,
   "id": "51c4a44b",
   "metadata": {},
   "outputs": [
    {
     "data": {
      "image/png": "[encoded data removed]",
      "text/plain": [
       "Plot with title \"distribution Cylinders vs. mpg01\""
      ]
     },
     "metadata": {
      "image/png": {
       "height": 420,
       "width": 420
      }
     },
     "output_type": "display_data"
    }
   ],
   "source": [
    "boxplot(cylinders~mpg01, data = Auto, main = \"distribution Cylinders vs. mpg01\")\n"
   ]
  },
  {
   "cell_type": "code",
   "execution_count": 22,
   "id": "c4a62e51",
   "metadata": {},
   "outputs": [
    {
     "data": {
      "image/png": "[encoded data removed]",
      "text/plain": [
       "Plot with title \"distribution Displacement vs. mpg01\""
      ]
     },
     "metadata": {
      "image/png": {
       "height": 420,
       "width": 420
      }
     },
     "output_type": "display_data"
    }
   ],
   "source": [
    "boxplot(displacement~mpg01, data = Auto, main = \"distribution Displacement vs. mpg01\")"
   ]
  },
  {
   "cell_type": "code",
   "execution_count": 23,
   "id": "6492e291",
   "metadata": {},
   "outputs": [
    {
     "data": {
      "image/png": "[encoded data removed]",
      "text/plain": [
       "Plot with title \"distribution horsepower vs. mpg01\""
      ]
     },
     "metadata": {
      "image/png": {
       "height": 420,
       "width": 420
      }
     },
     "output_type": "display_data"
    }
   ],
   "source": [
    "boxplot(horsepower~mpg01, data = Auto, main = \"distribution horsepower vs. mpg01\")"
   ]
  },
  {
   "cell_type": "code",
   "execution_count": 24,
   "id": "6467a47e",
   "metadata": {
    "scrolled": true
   },
   "outputs": [
    {
     "data": {
      "image/png": "[encoded data removed]",
      "text/plain": [
       "Plot with title \"distribution weight vs. mpg01\""
      ]
     },
     "metadata": {
      "image/png": {
       "height": 420,
       "width": 420
      }
     },
     "output_type": "display_data"
    }
   ],
   "source": [
    "boxplot(weight~mpg01, data = Auto, main = \"distribution weight vs. mpg01\")"
   ]
  },
  {
   "cell_type": "markdown",
   "id": "cf8c66ff",
   "metadata": {},
   "source": [
    "We can find that there is association with mpg01 and several other predictors like cylinders, displacement, weight or Horsepower"
   ]
  },
  {
   "cell_type": "markdown",
   "id": "6377367a",
   "metadata": {},
   "source": [
    "##### c)"
   ]
  },
  {
   "cell_type": "code",
   "execution_count": 26,
   "id": "19f4ca7e",
   "metadata": {},
   "outputs": [],
   "source": [
    "#split data \n",
    "train = (year %% 2 == 0)\n",
    "\n",
    "Auto.train = Auto[train,]\n",
    "Auto.test = Auto[!train,]\n",
    "\n",
    "mpg01.test = mpg01[!train]"
   ]
  },
  {
   "cell_type": "markdown",
   "id": "05652776",
   "metadata": {},
   "source": [
    "##### d)"
   ]
  },
  {
   "cell_type": "code",
   "execution_count": 30,
   "id": "1ff8ab69",
   "metadata": {},
   "outputs": [
    {
     "data": {
      "text/plain": [
       "   mpg01.test\n",
       "     0  1\n",
       "  0 86 10\n",
       "  1 14 72"
      ]
     },
     "metadata": {},
     "output_type": "display_data"
    }
   ],
   "source": [
    "lda.fit = lda(mpg01 ~ cylinders + weight + displacement, data = Auto, subset = train)\n",
    "\n",
    "pred.lda2 = predict(lda.fit, Auto.test)\n",
    "table(pred.lda2$class, mpg01.test)"
   ]
  },
  {
   "cell_type": "code",
   "execution_count": 33,
   "id": "9b8c008f",
   "metadata": {},
   "outputs": [
    {
     "data": {
      "text/html": [
       "<span style=white-space:pre-wrap>'Accuracy is  Accuracy is  0.561065197428834'</span>"
      ],
      "text/latex": [
       "'Accuracy is  Accuracy is  0.561065197428834'"
      ],
      "text/markdown": [
       "<span style=white-space:pre-wrap>'Accuracy is  Accuracy is  0.561065197428834'</span>"
      ],
      "text/plain": [
       "[1] \"Accuracy is  Accuracy is  0.561065197428834\""
      ]
     },
     "metadata": {},
     "output_type": "display_data"
    }
   ],
   "source": [
    "accuracy6 = (86+72)/(86+10+14+72)\n",
    "accuracy6 = paste0(\"Accuracy is  \", accuracy)\n",
    "accuracy6\n"
   ]
  },
  {
   "cell_type": "code",
   "execution_count": 34,
   "id": "6f989eab",
   "metadata": {
    "scrolled": true
   },
   "outputs": [
    {
     "data": {
      "text/html": [
       "0.131868131868132"
      ],
      "text/latex": [
       "0.131868131868132"
      ],
      "text/markdown": [
       "0.131868131868132"
      ],
      "text/plain": [
       "[1] 0.1318681"
      ]
     },
     "metadata": {},
     "output_type": "display_data"
    }
   ],
   "source": [
    "mean(pred.lda2$class != mpg01.test)"
   ]
  },
  {
   "cell_type": "markdown",
   "id": "302747cd",
   "metadata": {},
   "source": [
    "Test error rate of 13%"
   ]
  },
  {
   "cell_type": "markdown",
   "id": "5d00c6f3",
   "metadata": {},
   "source": [
    "##### e)"
   ]
  },
  {
   "cell_type": "code",
   "execution_count": 37,
   "id": "6e2e5f15",
   "metadata": {},
   "outputs": [
    {
     "data": {
      "text/plain": [
       "   mpg01.test\n",
       "     0  1\n",
       "  0 89 13\n",
       "  1 11 69"
      ]
     },
     "metadata": {},
     "output_type": "display_data"
    }
   ],
   "source": [
    "qda.fits2 = qda(mpg01 ~ cylinders + horsepower + weight + displacement, data = Auto, subset = train)\n",
    "pred.qda2 = predict(qda.fits2, Auto.test)\n",
    "table(pred.qda2$class, mpg01.test)"
   ]
  },
  {
   "cell_type": "code",
   "execution_count": 39,
   "id": "6a327069",
   "metadata": {},
   "outputs": [
    {
     "data": {
      "text/html": [
       "0.131868131868132"
      ],
      "text/latex": [
       "0.131868131868132"
      ],
      "text/markdown": [
       "0.131868131868132"
      ],
      "text/plain": [
       "[1] 0.1318681"
      ]
     },
     "metadata": {},
     "output_type": "display_data"
    }
   ],
   "source": [
    "mean(pred.qda2$class != mpg01.test)"
   ]
  },
  {
   "cell_type": "markdown",
   "id": "c62295b6",
   "metadata": {},
   "source": [
    "##### f)"
   ]
  },
  {
   "cell_type": "code",
   "execution_count": 48,
   "id": "f595dafe",
   "metadata": {},
   "outputs": [
    {
     "data": {
      "text/plain": [
       "         mpg01.test\n",
       "glm.pred3  0  1\n",
       "        0 86  9\n",
       "        1 14 73"
      ]
     },
     "metadata": {},
     "output_type": "display_data"
    }
   ],
   "source": [
    "glm.fit3 = glm(mpg01 ~ cylinders + horsepower + weight + displacement, data = Auto, subset = train)\n",
    "\n",
    "probs = predict(glm.fit3, Auto.test, type = \"response\")\n",
    "\n",
    "\n",
    "\n",
    "glm.pred3 = rep(0, length(probs))\n",
    "glm.pred3[probs > 0.5] = 1\n",
    "\n",
    "table(glm.pred3, mpg01.test)"
   ]
  },
  {
   "cell_type": "code",
   "execution_count": 49,
   "id": "3254b966",
   "metadata": {},
   "outputs": [
    {
     "data": {
      "text/html": [
       "0.126373626373626"
      ],
      "text/latex": [
       "0.126373626373626"
      ],
      "text/markdown": [
       "0.126373626373626"
      ],
      "text/plain": [
       "[1] 0.1263736"
      ]
     },
     "metadata": {},
     "output_type": "display_data"
    }
   ],
   "source": [
    "mean(glm.pred3 != mpg01.test)"
   ]
  },
  {
   "cell_type": "markdown",
   "id": "b0c65235",
   "metadata": {},
   "source": [
    "##### g)"
   ]
  },
  {
   "cell_type": "code",
   "execution_count": 56,
   "id": "604c2c37",
   "metadata": {},
   "outputs": [
    {
     "ename": "ERROR",
     "evalue": "Error in knn(train.X, test.X, train.mpg01, k = 1): no missing values are allowed\n",
     "output_type": "error",
     "traceback": [
      "Error in knn(train.X, test.X, train.mpg01, k = 1): no missing values are allowed\nTraceback:\n",
      "1. knn(train.X, test.X, train.mpg01, k = 1)",
      "2. stop(\"no missing values are allowed\")"
     ]
    }
   ],
   "source": [
    "library(class)\n",
    "train.X = cbind(cylinders, weight, displacement, horsepower)[train,]\n",
    "test.X = cbind(cylinders, weight, displacement, horsepower)[!train,]\n",
    "train.mpg01 = mpg01[train]\n",
    "\n",
    "set.seed(1)\n",
    "knn.pred2 = knn(train.X, test.X, train.mpg01, k=1)\n",
    "\n",
    "# table(knn.pred, Direction_2009)\n"
   ]
  }
 ],
 "metadata": {
  "kernelspec": {
   "display_name": "R",
   "language": "R",
   "name": "ir"
  },
  "language_info": {
   "codemirror_mode": "r",
   "file_extension": ".r",
   "mimetype": "text/x-r-source",
   "name": "R",
   "pygments_lexer": "r",
   "version": "3.6.1"
  }
 },
 "nbformat": 4,
 "nbformat_minor": 5
}
