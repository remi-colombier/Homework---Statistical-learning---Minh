{
 "cells": [
  {
   "cell_type": "markdown",
   "id": "998e6de4",
   "metadata": {},
   "source": [
    "# Homework | Section 4 - Tree-based Methods"
   ]
  },
  {
   "cell_type": "markdown",
   "id": "71073465",
   "metadata": {},
   "source": [
    "### Exercice 8 (p.332, Chap.8)"
   ]
  },
  {
   "cell_type": "markdown",
   "id": "2ea8c166",
   "metadata": {},
   "source": [
    "###### a) "
   ]
  },
  {
   "cell_type": "code",
   "execution_count": 11,
   "id": "3d3d264a",
   "metadata": {},
   "outputs": [],
   "source": [
    "#install the library\n",
    "library(ISLR)\n",
    "library(tree)\n",
    "\n",
    "#set a seed to obtain same results \n",
    "set.seed(123)"
   ]
  },
  {
   "cell_type": "code",
   "execution_count": 41,
   "id": "d75893b5",
   "metadata": {},
   "outputs": [
    {
     "data": {
      "text/html": [
       "400"
      ],
      "text/latex": [
       "400"
      ],
      "text/markdown": [
       "400"
      ],
      "text/plain": [
       "[1] 400"
      ]
     },
     "metadata": {},
     "output_type": "display_data"
    }
   ],
   "source": [
    "nrow(Carseats)"
   ]
  },
  {
   "cell_type": "code",
   "execution_count": 60,
   "id": "87f94ac3",
   "metadata": {},
   "outputs": [
    {
     "data": {
      "text/html": [
       "<style>\n",
       ".list-inline {list-style: none; margin:0; padding: 0}\n",
       ".list-inline>li {display: inline-block}\n",
       ".list-inline>li:not(:last-child)::after {content: \"\\00b7\"; padding: 0 .5ex}\n",
       "</style>\n",
       "<ol class=list-inline><li>200</li><li>11</li></ol>\n"
      ],
      "text/latex": [
       "\\begin{enumerate*}\n",
       "\\item 200\n",
       "\\item 11\n",
       "\\end{enumerate*}\n"
      ],
      "text/markdown": [
       "1. 200\n",
       "2. 11\n",
       "\n",
       "\n"
      ],
      "text/plain": [
       "[1] 200  11"
      ]
     },
     "metadata": {},
     "output_type": "display_data"
    },
    {
     "data": {
      "text/html": [
       "<style>\n",
       ".list-inline {list-style: none; margin:0; padding: 0}\n",
       ".list-inline>li {display: inline-block}\n",
       ".list-inline>li:not(:last-child)::after {content: \"\\00b7\"; padding: 0 .5ex}\n",
       "</style>\n",
       "<ol class=list-inline><li>200</li><li>11</li></ol>\n"
      ],
      "text/latex": [
       "\\begin{enumerate*}\n",
       "\\item 200\n",
       "\\item 11\n",
       "\\end{enumerate*}\n"
      ],
      "text/markdown": [
       "1. 200\n",
       "2. 11\n",
       "\n",
       "\n"
      ],
      "text/plain": [
       "[1] 200  11"
      ]
     },
     "metadata": {},
     "output_type": "display_data"
    }
   ],
   "source": [
    "#Split the data into train/test set\n",
    "train_index = sample(1:nrow(Carseats),200, replace = FALSE)\n",
    "train = Carseats[train_index,]\n",
    "dim(train)\n",
    "test = Carseats[-train_index,]\n",
    "dim(test)"
   ]
  },
  {
   "cell_type": "markdown",
   "id": "3b9c2791",
   "metadata": {},
   "source": [
    "###### b) "
   ]
  },
  {
   "cell_type": "code",
   "execution_count": 63,
   "id": "7b00420b",
   "metadata": {},
   "outputs": [
    {
     "data": {
      "text/html": [
       "4.39535740766638"
      ],
      "text/latex": [
       "4.39535740766638"
      ],
      "text/markdown": [
       "4.39535740766638"
      ],
      "text/plain": [
       "[1] 4.395357"
      ]
     },
     "metadata": {},
     "output_type": "display_data"
    },
    {
     "data": {
      "image/png": "[encoded data removed]",
      "text/plain": [
       "plot without title"
      ]
     },
     "metadata": {
      "image/png": {
       "height": 420,
       "width": 420
      }
     },
     "output_type": "display_data"
    }
   ],
   "source": [
    "set.seed(123)\n",
    "#fit regression trees\n",
    "carseats.tree <- tree(Sales ~ ., data = Carseats, subset = train_index)\n",
    "plot(carseats.tree)\n",
    "\n",
    "#add the label\n",
    "text(tree.carseats, pretty = 0)\n",
    "\n",
    "#predict with test set\n",
    "pred_tree = predict(carseats.tree, Carseats[-train_index,])\n",
    "\n",
    "#compute RMSE\n",
    "mean((Carseats[-train_index, 'Sales'] - pred_tree)^2)"
   ]
  },
  {
   "cell_type": "markdown",
   "id": "dd48bb27",
   "metadata": {},
   "source": [
    "So here we have a RMSE of 4.39"
   ]
  },
  {
   "cell_type": "markdown",
   "id": "950b55a6",
   "metadata": {},
   "source": [
    "###### c) "
   ]
  },
  {
   "cell_type": "code",
   "execution_count": 71,
   "id": "f4095268",
   "metadata": {},
   "outputs": [
    {
     "data": {
      "text/plain": [
       "node), split, n, deviance, yval\n",
       "      * denotes terminal node\n",
       "\n",
       "  1) root 200 1439.000  7.430  \n",
       "    2) ShelveLoc: Bad,Medium 162  920.300  6.855  \n",
       "      4) Price < 101.5 39  151.700  8.658  \n",
       "        8) ShelveLoc: Bad 13   38.950  7.151  \n",
       "         16) Income < 49 5   14.410  5.700 *\n",
       "         17) Income > 49 8    7.434  8.058 *\n",
       "        9) ShelveLoc: Medium 26   68.470  9.411  \n",
       "         18) Age < 52 10   10.120 10.430 *\n",
       "         19) Age > 52 16   41.420  8.773 *\n",
       "      5) Price > 101.5 123  601.600  6.283  \n",
       "       10) ShelveLoc: Bad 33  144.100  4.817  \n",
       "         20) Age < 61.5 20   94.660  5.616  \n",
       "           40) Population < 230 9   39.670  4.450 *\n",
       "           41) Population > 230 11   32.740  6.570 *\n",
       "         21) Age > 61.5 13   17.080  3.588 *\n",
       "       11) ShelveLoc: Medium 90  360.500  6.821  \n",
       "         22) Age < 49.5 35   79.530  7.871  \n",
       "           44) Education < 16.5 25   46.910  8.363 *\n",
       "           45) Education > 16.5 10   11.440  6.641 *\n",
       "         23) Age > 49.5 55  217.800  6.153  \n",
       "           46) Price < 130.5 39  115.200  6.742  \n",
       "             92) CompPrice < 121.5 16   22.130  5.532 *\n",
       "             93) CompPrice > 121.5 23   53.330  7.584  \n",
       "              186) Advertising < 7 11   18.100  6.625 *\n",
       "              187) Advertising > 7 12   15.860  8.462 *\n",
       "           47) Price > 130.5 16   56.110  4.717  \n",
       "             94) Income < 72 10   26.390  3.887 *\n",
       "             95) Income > 72 6   11.350  6.100 *\n",
       "    3) ShelveLoc: Good 38  237.000  9.882  \n",
       "      6) Price < 109.5 12   19.160 12.020 *\n",
       "      7) Price > 109.5 26  137.300  8.893  \n",
       "       14) Price < 144 21   76.040  9.513  \n",
       "         28) CompPrice < 132.5 14   24.210  8.521 *\n",
       "         29) CompPrice > 132.5 7   10.450 11.500 *\n",
       "       15) Price > 144 5   19.220  6.286 *"
      ]
     },
     "metadata": {},
     "output_type": "display_data"
    }
   ],
   "source": [
    "carseats.tree"
   ]
  },
  {
   "cell_type": "code",
   "execution_count": 77,
   "id": "ae5e8b3b",
   "metadata": {
    "scrolled": true
   },
   "outputs": [
    {
     "data": {
      "text/html": [
       "<style>\n",
       ".list-inline {list-style: none; margin:0; padding: 0}\n",
       ".list-inline>li {display: inline-block}\n",
       ".list-inline>li:not(:last-child)::after {content: \"\\00b7\"; padding: 0 .5ex}\n",
       "</style>\n",
       "<ol class=list-inline><li>'size'</li><li>'dev'</li><li>'k'</li><li>'method'</li></ol>\n"
      ],
      "text/latex": [
       "\\begin{enumerate*}\n",
       "\\item 'size'\n",
       "\\item 'dev'\n",
       "\\item 'k'\n",
       "\\item 'method'\n",
       "\\end{enumerate*}\n"
      ],
      "text/markdown": [
       "1. 'size'\n",
       "2. 'dev'\n",
       "3. 'k'\n",
       "4. 'method'\n",
       "\n",
       "\n"
      ],
      "text/plain": [
       "[1] \"size\"   \"dev\"    \"k\"      \"method\""
      ]
     },
     "metadata": {},
     "output_type": "display_data"
    },
    {
     "data": {
      "text/plain": [
       "$size\n",
       " [1] 18 17 16 15 14 13 12 11 10  9  8  7  6  5  4  3  2  1\n",
       "\n",
       "$dev\n",
       " [1] 1031.879 1018.558 1018.558 1009.770 1034.843 1053.537 1057.967 1051.468\n",
       " [9] 1137.244 1120.642 1158.929 1156.106 1161.057 1216.548 1223.958 1207.253\n",
       "[17] 1242.554 1473.414\n",
       "\n",
       "$k\n",
       " [1]      -Inf  16.93456  17.10094  18.36513  19.36805  21.17568  22.24728\n",
       " [8]  32.41359  39.73324  41.38229  42.06332  44.28093  46.53155  63.12600\n",
       "[15]  80.51350  96.97503 166.93502 281.96185\n",
       "\n",
       "$method\n",
       "[1] \"deviance\"\n",
       "\n",
       "attr(,\"class\")\n",
       "[1] \"prune\"         \"tree.sequence\""
      ]
     },
     "metadata": {},
     "output_type": "display_data"
    }
   ],
   "source": [
    "set.seed(123)\n",
    "#Build a prune tree to see if result would improve \n",
    "\n",
    "train = sample(1:nrow(Carseats), 200)\n",
    "carseats.test = Carseats[-train,]\n",
    "cv.carseats = cv.tree(carseats.tree, FUN = prune.tree)\n",
    "#\n",
    "names(cv.carseats)\n",
    "cv.carseats"
   ]
  },
  {
   "cell_type": "code",
   "execution_count": 81,
   "id": "42dee273",
   "metadata": {},
   "outputs": [
    {
     "data": {
      "text/html": [
       "4"
      ],
      "text/latex": [
       "4"
      ],
      "text/markdown": [
       "4"
      ],
      "text/plain": [
       "[1] 4"
      ]
     },
     "metadata": {},
     "output_type": "display_data"
    },
    {
     "data": {
      "text/html": [
       "15"
      ],
      "text/latex": [
       "15"
      ],
      "text/markdown": [
       "15"
      ],
      "text/plain": [
       "[1] 15"
      ]
     },
     "metadata": {},
     "output_type": "display_data"
    }
   ],
   "source": [
    "#search for the min dev\n",
    "tree.min = which.min(cv.carseats$dev)\n",
    "tree.min\n",
    "#assign to the best number of node \n",
    "best_node_number = cv.carseats$size[tree.min]\n",
    "best_node_number"
   ]
  },
  {
   "cell_type": "code",
   "execution_count": 89,
   "id": "f0d1733d",
   "metadata": {},
   "outputs": [
    {
     "data": {
      "text/html": [
       "4.59161771546871"
      ],
      "text/latex": [
       "4.59161771546871"
      ],
      "text/markdown": [
       "4.59161771546871"
      ],
      "text/plain": [
       "[1] 4.591618"
      ]
     },
     "metadata": {},
     "output_type": "display_data"
    }
   ],
   "source": [
    "#apply the prune tree model\n",
    "prune.carseats = prune.tree(carseats.tree, best = best_node_number)\n",
    "\n",
    "#predict with the test set \n",
    "prune.pred = predict(prune.carseats, Carseats[-train_index,])\n",
    "\n",
    "#Compute RMSE\n",
    "mean((Carseats[-train_index, 'Sales'] - prune.pred) ^ 2)"
   ]
  },
  {
   "cell_type": "markdown",
   "id": "afead1c7",
   "metadata": {},
   "source": [
    "We can see that Test MSE is higher for pruning tree than for complete tree"
   ]
  },
  {
   "cell_type": "markdown",
   "id": "41da9d14",
   "metadata": {},
   "source": [
    "###### d)"
   ]
  },
  {
   "cell_type": "code",
   "execution_count": 92,
   "id": "270843e6",
   "metadata": {},
   "outputs": [
    {
     "name": "stderr",
     "output_type": "stream",
     "text": [
      "Warning message:\n",
      "\"package 'randomForest' is in use and will not be installed\"\n"
     ]
    }
   ],
   "source": [
    "install.packages(\"randomForest\")\n",
    "library(randomForest)"
   ]
  },
  {
   "cell_type": "code",
   "execution_count": 97,
   "id": "5389f740",
   "metadata": {},
   "outputs": [
    {
     "data": {
      "text/html": [
       "11"
      ],
      "text/latex": [
       "11"
      ],
      "text/markdown": [
       "11"
      ],
      "text/plain": [
       "[1] 11"
      ]
     },
     "metadata": {},
     "output_type": "display_data"
    }
   ],
   "source": [
    "#show number of columns in dataset\n",
    "ncol(Carseats)"
   ]
  },
  {
   "cell_type": "code",
   "execution_count": 99,
   "id": "930f5afd",
   "metadata": {},
   "outputs": [
    {
     "name": "stderr",
     "output_type": "stream",
     "text": [
      "Warning message:\n",
      "\"package 'randomForest' is in use and will not be installed\"\n"
     ]
    },
    {
     "data": {
      "text/plain": [
       "\n",
       "Call:\n",
       " randomForest(formula = Sales ~ ., data = Carseats, mtry = 11 -      1, importance = TRUE, subset = train) \n",
       "               Type of random forest: regression\n",
       "                     Number of trees: 500\n",
       "No. of variables tried at each split: 10\n",
       "\n",
       "          Mean of squared residuals: 2.912487\n",
       "                    % Var explained: 59.53"
      ]
     },
     "metadata": {},
     "output_type": "display_data"
    }
   ],
   "source": [
    "#import library\n",
    "install.packages(\"randomForest\")\n",
    "library(randomForest)\n",
    "set.seed(123)\n",
    "\n",
    "#perform bagging\n",
    "bag.carseats = randomForest(Sales~., data = Carseats, subset = train, mtry = 11 - 1, importance = TRUE)\n",
    "bag.carseats"
   ]
  },
  {
   "cell_type": "code",
   "execution_count": 104,
   "id": "5fcec3a4",
   "metadata": {},
   "outputs": [
    {
     "data": {
      "text/html": [
       "2.76143978767696"
      ],
      "text/latex": [
       "2.76143978767696"
      ],
      "text/markdown": [
       "2.76143978767696"
      ],
      "text/plain": [
       "[1] 2.76144"
      ]
     },
     "metadata": {},
     "output_type": "display_data"
    },
    {
     "data": {
      "image/png": "[encoded data removed]",
      "text/plain": [
       "plot without title"
      ]
     },
     "metadata": {
      "image/png": {
       "height": 420,
       "width": 420
      }
     },
     "output_type": "display_data"
    }
   ],
   "source": [
    "#how the model perform with bagging in the test set\n",
    "pred.bag = predict(bag.carseats, newdata = Carseats[-train,])\n",
    "plot(pred.bag, Carseats[-train, \"Sales\"])\n",
    "mean((pred.bag - Carseats[-train, 'Sales']) ^2)"
   ]
  },
  {
   "cell_type": "code",
   "execution_count": 105,
   "id": "f49730e5",
   "metadata": {},
   "outputs": [
    {
     "data": {
      "text/html": [
       "<table class=\"dataframe\">\n",
       "<caption>A matrix: 10 × 2 of type dbl</caption>\n",
       "<thead>\n",
       "\t<tr><th></th><th scope=col>%IncMSE</th><th scope=col>IncNodePurity</th></tr>\n",
       "</thead>\n",
       "<tbody>\n",
       "\t<tr><th scope=row>CompPrice</th><td>20.3414969</td><td>158.911610</td></tr>\n",
       "\t<tr><th scope=row>Income</th><td> 6.6237140</td><td> 90.369331</td></tr>\n",
       "\t<tr><th scope=row>Advertising</th><td> 5.7777253</td><td> 72.793558</td></tr>\n",
       "\t<tr><th scope=row>Population</th><td>-2.2001506</td><td> 55.786278</td></tr>\n",
       "\t<tr><th scope=row>Price</th><td>44.3578602</td><td>380.255094</td></tr>\n",
       "\t<tr><th scope=row>ShelveLoc</th><td>48.3345635</td><td>387.886972</td></tr>\n",
       "\t<tr><th scope=row>Age</th><td>18.6296851</td><td>187.107660</td></tr>\n",
       "\t<tr><th scope=row>Education</th><td> 2.6619834</td><td> 55.987493</td></tr>\n",
       "\t<tr><th scope=row>Urban</th><td> 0.9276070</td><td>  8.152320</td></tr>\n",
       "\t<tr><th scope=row>US</th><td> 0.4202302</td><td>  5.900097</td></tr>\n",
       "</tbody>\n",
       "</table>\n"
      ],
      "text/latex": [
       "A matrix: 10 × 2 of type dbl\n",
       "\\begin{tabular}{r|ll}\n",
       "  & \\%IncMSE & IncNodePurity\\\\\n",
       "\\hline\n",
       "\tCompPrice & 20.3414969 & 158.911610\\\\\n",
       "\tIncome &  6.6237140 &  90.369331\\\\\n",
       "\tAdvertising &  5.7777253 &  72.793558\\\\\n",
       "\tPopulation & -2.2001506 &  55.786278\\\\\n",
       "\tPrice & 44.3578602 & 380.255094\\\\\n",
       "\tShelveLoc & 48.3345635 & 387.886972\\\\\n",
       "\tAge & 18.6296851 & 187.107660\\\\\n",
       "\tEducation &  2.6619834 &  55.987493\\\\\n",
       "\tUrban &  0.9276070 &   8.152320\\\\\n",
       "\tUS &  0.4202302 &   5.900097\\\\\n",
       "\\end{tabular}\n"
      ],
      "text/markdown": [
       "\n",
       "A matrix: 10 × 2 of type dbl\n",
       "\n",
       "| <!--/--> | %IncMSE | IncNodePurity |\n",
       "|---|---|---|\n",
       "| CompPrice | 20.3414969 | 158.911610 |\n",
       "| Income |  6.6237140 |  90.369331 |\n",
       "| Advertising |  5.7777253 |  72.793558 |\n",
       "| Population | -2.2001506 |  55.786278 |\n",
       "| Price | 44.3578602 | 380.255094 |\n",
       "| ShelveLoc | 48.3345635 | 387.886972 |\n",
       "| Age | 18.6296851 | 187.107660 |\n",
       "| Education |  2.6619834 |  55.987493 |\n",
       "| Urban |  0.9276070 |   8.152320 |\n",
       "| US |  0.4202302 |   5.900097 |\n",
       "\n"
      ],
      "text/plain": [
       "            %IncMSE    IncNodePurity\n",
       "CompPrice   20.3414969 158.911610   \n",
       "Income       6.6237140  90.369331   \n",
       "Advertising  5.7777253  72.793558   \n",
       "Population  -2.2001506  55.786278   \n",
       "Price       44.3578602 380.255094   \n",
       "ShelveLoc   48.3345635 387.886972   \n",
       "Age         18.6296851 187.107660   \n",
       "Education    2.6619834  55.987493   \n",
       "Urban        0.9276070   8.152320   \n",
       "US           0.4202302   5.900097   "
      ]
     },
     "metadata": {},
     "output_type": "display_data"
    }
   ],
   "source": [
    "importance(bag.carseats)"
   ]
  },
  {
   "cell_type": "markdown",
   "id": "29a75856",
   "metadata": {},
   "source": [
    "The table above show us that the two most important predictors are Price and ShelveLoc"
   ]
  },
  {
   "cell_type": "markdown",
   "id": "68a920b8",
   "metadata": {},
   "source": [
    "###### e)"
   ]
  },
  {
   "cell_type": "code",
   "execution_count": 110,
   "id": "a24ce92e",
   "metadata": {},
   "outputs": [
    {
     "data": {
      "text/html": [
       "3.59987804565116"
      ],
      "text/latex": [
       "3.59987804565116"
      ],
      "text/markdown": [
       "3.59987804565116"
      ],
      "text/plain": [
       "[1] 3.599878"
      ]
     },
     "metadata": {},
     "output_type": "display_data"
    },
    {
     "data": {
      "text/html": [
       "<table class=\"dataframe\">\n",
       "<caption>A matrix: 10 × 2 of type dbl</caption>\n",
       "<thead>\n",
       "\t<tr><th></th><th scope=col>%IncMSE</th><th scope=col>IncNodePurity</th></tr>\n",
       "</thead>\n",
       "<tbody>\n",
       "\t<tr><th scope=row>CompPrice</th><td>12.9444816</td><td>147.49611</td></tr>\n",
       "\t<tr><th scope=row>Income</th><td> 6.6084589</td><td>117.96789</td></tr>\n",
       "\t<tr><th scope=row>Advertising</th><td> 6.9069604</td><td>106.17380</td></tr>\n",
       "\t<tr><th scope=row>Population</th><td> 0.3357170</td><td>101.95501</td></tr>\n",
       "\t<tr><th scope=row>Price</th><td>32.5771325</td><td>294.35373</td></tr>\n",
       "\t<tr><th scope=row>ShelveLoc</th><td>32.5675741</td><td>281.79803</td></tr>\n",
       "\t<tr><th scope=row>Age</th><td>19.8491857</td><td>208.92522</td></tr>\n",
       "\t<tr><th scope=row>Education</th><td> 2.0641098</td><td> 74.37193</td></tr>\n",
       "\t<tr><th scope=row>Urban</th><td> 0.1844567</td><td> 15.49980</td></tr>\n",
       "\t<tr><th scope=row>US</th><td> 1.1194444</td><td> 14.48457</td></tr>\n",
       "</tbody>\n",
       "</table>\n"
      ],
      "text/latex": [
       "A matrix: 10 × 2 of type dbl\n",
       "\\begin{tabular}{r|ll}\n",
       "  & \\%IncMSE & IncNodePurity\\\\\n",
       "\\hline\n",
       "\tCompPrice & 12.9444816 & 147.49611\\\\\n",
       "\tIncome &  6.6084589 & 117.96789\\\\\n",
       "\tAdvertising &  6.9069604 & 106.17380\\\\\n",
       "\tPopulation &  0.3357170 & 101.95501\\\\\n",
       "\tPrice & 32.5771325 & 294.35373\\\\\n",
       "\tShelveLoc & 32.5675741 & 281.79803\\\\\n",
       "\tAge & 19.8491857 & 208.92522\\\\\n",
       "\tEducation &  2.0641098 &  74.37193\\\\\n",
       "\tUrban &  0.1844567 &  15.49980\\\\\n",
       "\tUS &  1.1194444 &  14.48457\\\\\n",
       "\\end{tabular}\n"
      ],
      "text/markdown": [
       "\n",
       "A matrix: 10 × 2 of type dbl\n",
       "\n",
       "| <!--/--> | %IncMSE | IncNodePurity |\n",
       "|---|---|---|\n",
       "| CompPrice | 12.9444816 | 147.49611 |\n",
       "| Income |  6.6084589 | 117.96789 |\n",
       "| Advertising |  6.9069604 | 106.17380 |\n",
       "| Population |  0.3357170 | 101.95501 |\n",
       "| Price | 32.5771325 | 294.35373 |\n",
       "| ShelveLoc | 32.5675741 | 281.79803 |\n",
       "| Age | 19.8491857 | 208.92522 |\n",
       "| Education |  2.0641098 |  74.37193 |\n",
       "| Urban |  0.1844567 |  15.49980 |\n",
       "| US |  1.1194444 |  14.48457 |\n",
       "\n"
      ],
      "text/plain": [
       "            %IncMSE    IncNodePurity\n",
       "CompPrice   12.9444816 147.49611    \n",
       "Income       6.6084589 117.96789    \n",
       "Advertising  6.9069604 106.17380    \n",
       "Population   0.3357170 101.95501    \n",
       "Price       32.5771325 294.35373    \n",
       "ShelveLoc   32.5675741 281.79803    \n",
       "Age         19.8491857 208.92522    \n",
       "Education    2.0641098  74.37193    \n",
       "Urban        0.1844567  15.49980    \n",
       "US           1.1194444  14.48457    "
      ]
     },
     "metadata": {},
     "output_type": "display_data"
    }
   ],
   "source": [
    "#fit random forest model\n",
    "randomForest.carseats = randomForest(Sales ~., data = Carseats, subset = train, importance = TRUE)\n",
    "\n",
    "#predict \n",
    "predict_rf = predict(randomForest.carseats, Carseats[-train,])\n",
    "mean((predict_rf - Carseats[-train, 'Sales'])^2)\n",
    "\n",
    "#show importance\n",
    "importance(randomForest.carseats)"
   ]
  },
  {
   "cell_type": "markdown",
   "id": "a89a4cd4",
   "metadata": {},
   "source": [
    "We have the same important predictors for randomforest as for bagging which are Price and ShelveLoc"
   ]
  },
  {
   "cell_type": "markdown",
   "id": "2f224e5e",
   "metadata": {},
   "source": [
    "### Exercice 9 (p.332, Chap.8)"
   ]
  },
  {
   "cell_type": "markdown",
   "id": "948058e4",
   "metadata": {},
   "source": [
    "###### a) "
   ]
  },
  {
   "cell_type": "code",
   "execution_count": 148,
   "id": "9add7516",
   "metadata": {},
   "outputs": [],
   "source": [
    "#create train/test set\n",
    "\n",
    "library(ISLR)\n",
    "library(tree)\n",
    "set.seed(1)\n",
    "\n",
    "train = sample(1:nrow(OJ), 800)\n",
    "test = -train\n",
    "OJ.train = Carseats[train,]\n",
    "OJ.test = Carseats[-train,]\n"
   ]
  },
  {
   "cell_type": "markdown",
   "id": "b604683b",
   "metadata": {},
   "source": [
    "###### b)"
   ]
  },
  {
   "cell_type": "code",
   "execution_count": 149,
   "id": "c1b4fa5b",
   "metadata": {},
   "outputs": [
    {
     "data": {
      "text/plain": [
       "\n",
       "Classification tree:\n",
       "tree(formula = Purchase ~ ., data = OJ, subset = train)\n",
       "Variables actually used in tree construction:\n",
       "[1] \"LoyalCH\"       \"PriceDiff\"     \"SpecialCH\"     \"ListPriceDiff\"\n",
       "[5] \"PctDiscMM\"    \n",
       "Number of terminal nodes:  9 \n",
       "Residual mean deviance:  0.7432 = 587.8 / 791 \n",
       "Misclassification error rate: 0.1588 = 127 / 800 "
      ]
     },
     "metadata": {},
     "output_type": "display_data"
    }
   ],
   "source": [
    "#fit the model\n",
    "OJ.tree = tree(Purchase ~., data = OJ, subset = train)\n",
    "summary(OJ.tree)"
   ]
  },
  {
   "cell_type": "markdown",
   "id": "56858892",
   "metadata": {},
   "source": [
    "All the information above answer question b) "
   ]
  },
  {
   "cell_type": "markdown",
   "id": "c126bbb3",
   "metadata": {},
   "source": [
    "###### c) "
   ]
  },
  {
   "cell_type": "code",
   "execution_count": 150,
   "id": "46690f94",
   "metadata": {},
   "outputs": [
    {
     "data": {
      "text/plain": [
       "node), split, n, deviance, yval, (yprob)\n",
       "      * denotes terminal node\n",
       "\n",
       " 1) root 800 1073.00 CH ( 0.60625 0.39375 )  \n",
       "   2) LoyalCH < 0.5036 365  441.60 MM ( 0.29315 0.70685 )  \n",
       "     4) LoyalCH < 0.280875 177  140.50 MM ( 0.13559 0.86441 )  \n",
       "       8) LoyalCH < 0.0356415 59   10.14 MM ( 0.01695 0.98305 ) *\n",
       "       9) LoyalCH > 0.0356415 118  116.40 MM ( 0.19492 0.80508 ) *\n",
       "     5) LoyalCH > 0.280875 188  258.00 MM ( 0.44149 0.55851 )  \n",
       "      10) PriceDiff < 0.05 79   84.79 MM ( 0.22785 0.77215 )  \n",
       "        20) SpecialCH < 0.5 64   51.98 MM ( 0.14062 0.85938 ) *\n",
       "        21) SpecialCH > 0.5 15   20.19 CH ( 0.60000 0.40000 ) *\n",
       "      11) PriceDiff > 0.05 109  147.00 CH ( 0.59633 0.40367 ) *\n",
       "   3) LoyalCH > 0.5036 435  337.90 CH ( 0.86897 0.13103 )  \n",
       "     6) LoyalCH < 0.764572 174  201.00 CH ( 0.73563 0.26437 )  \n",
       "      12) ListPriceDiff < 0.235 72   99.81 MM ( 0.50000 0.50000 )  \n",
       "        24) PctDiscMM < 0.196197 55   73.14 CH ( 0.61818 0.38182 ) *\n",
       "        25) PctDiscMM > 0.196197 17   12.32 MM ( 0.11765 0.88235 ) *\n",
       "      13) ListPriceDiff > 0.235 102   65.43 CH ( 0.90196 0.09804 ) *\n",
       "     7) LoyalCH > 0.764572 261   91.20 CH ( 0.95785 0.04215 ) *"
      ]
     },
     "metadata": {},
     "output_type": "display_data"
    }
   ],
   "source": [
    "OJ.tree"
   ]
  },
  {
   "cell_type": "markdown",
   "id": "6e1576e8",
   "metadata": {},
   "source": [
    "###### d)"
   ]
  },
  {
   "cell_type": "code",
   "execution_count": 151,
   "id": "0bfcf9e6",
   "metadata": {
    "scrolled": true
   },
   "outputs": [
    {
     "data": {
      "image/png": "[encoded data removed]",
      "text/plain": [
       "plot without title"
      ]
     },
     "metadata": {
      "image/png": {
       "height": 420,
       "width": 420
      }
     },
     "output_type": "display_data"
    }
   ],
   "source": [
    "#plot the tree and add the text to the tree\n",
    "plot(OJ.tree)\n",
    "text(OJ.tree)"
   ]
  },
  {
   "cell_type": "markdown",
   "id": "ee8678c6",
   "metadata": {},
   "source": [
    "###### e)"
   ]
  },
  {
   "cell_type": "code",
   "execution_count": 152,
   "id": "8fc8732c",
   "metadata": {},
   "outputs": [],
   "source": [
    "#predict response on test set \n",
    "OJ.pred = predict(OJ.tree, OJ[test,], type = 'class')\n"
   ]
  },
  {
   "cell_type": "code",
   "execution_count": 153,
   "id": "798f3089",
   "metadata": {},
   "outputs": [
    {
     "data": {
      "text/html": [
       "105"
      ],
      "text/latex": [
       "105"
      ],
      "text/markdown": [
       "105"
      ],
      "text/plain": [
       "[1] 105"
      ]
     },
     "metadata": {},
     "output_type": "display_data"
    }
   ],
   "source": [
    "nrow(OJ.test)"
   ]
  },
  {
   "cell_type": "markdown",
   "id": "2c3b38e3",
   "metadata": {},
   "source": [
    "###### f) "
   ]
  },
  {
   "cell_type": "code",
   "execution_count": 154,
   "id": "fe9ff4c0",
   "metadata": {},
   "outputs": [
    {
     "data": {
      "text/plain": [
       "$size\n",
       "[1] 9 8 7 4 2 1\n",
       "\n",
       "$dev\n",
       "[1] 150 150 149 158 172 315\n",
       "\n",
       "$k\n",
       "[1]       -Inf   0.000000   3.000000   4.333333  10.500000 151.000000\n",
       "\n",
       "$method\n",
       "[1] \"misclass\"\n",
       "\n",
       "attr(,\"class\")\n",
       "[1] \"prune\"         \"tree.sequence\""
      ]
     },
     "metadata": {},
     "output_type": "display_data"
    }
   ],
   "source": [
    "#apply cv.tree\n",
    "OJ.cv <- cv.tree(OJ.tree, FUN = prune.misclass)\n",
    "OJ.cv"
   ]
  },
  {
   "cell_type": "markdown",
   "id": "06141c87",
   "metadata": {},
   "source": [
    "Optimal number of tree is 7 since it has the lowest deviance value"
   ]
  },
  {
   "cell_type": "markdown",
   "id": "6fa84ac5",
   "metadata": {},
   "source": [
    "###### g)"
   ]
  },
  {
   "cell_type": "code",
   "execution_count": 157,
   "id": "a18a9a25",
   "metadata": {},
   "outputs": [
    {
     "data": {
      "image/png": "[encoded data removed]",
      "text/plain": [
       "plot without title"
      ]
     },
     "metadata": {
      "image/png": {
       "height": 420,
       "width": 420
      }
     },
     "output_type": "display_data"
    }
   ],
   "source": [
    "#plot with tree size and cross validated errors\n",
    "plot(OJ.cv$size, OJ.cv$dev, xlab=\"nb of tree\", ylab=\"CV error rate\", type = \"b\")"
   ]
  },
  {
   "cell_type": "markdown",
   "id": "c9585865",
   "metadata": {},
   "source": [
    "###### i)"
   ]
  },
  {
   "cell_type": "code",
   "execution_count": 165,
   "id": "98cb7854",
   "metadata": {},
   "outputs": [
    {
     "data": {
      "image/png": "[encoded data removed]",
      "text/plain": [
       "plot without title"
      ]
     },
     "metadata": {
      "image/png": {
       "height": 420,
       "width": 420
      }
     },
     "output_type": "display_data"
    }
   ],
   "source": [
    "#apply the prune tree model\n",
    "prune.OJ = prune.misclass(OJ.tree, best = 7)\n",
    "\n",
    "plot(prune.OJ)\n",
    "text(prune.OJ)"
   ]
  },
  {
   "cell_type": "markdown",
   "id": "5fbd3cd9",
   "metadata": {},
   "source": [
    "###### j)"
   ]
  },
  {
   "cell_type": "code",
   "execution_count": 168,
   "id": "d460c8eb",
   "metadata": {},
   "outputs": [
    {
     "data": {
      "text/plain": [
       "\n",
       "Classification tree:\n",
       "tree(formula = Purchase ~ ., data = OJ, subset = train)\n",
       "Variables actually used in tree construction:\n",
       "[1] \"LoyalCH\"       \"PriceDiff\"     \"SpecialCH\"     \"ListPriceDiff\"\n",
       "[5] \"PctDiscMM\"    \n",
       "Number of terminal nodes:  9 \n",
       "Residual mean deviance:  0.7432 = 587.8 / 791 \n",
       "Misclassification error rate: 0.1588 = 127 / 800 "
      ]
     },
     "metadata": {},
     "output_type": "display_data"
    }
   ],
   "source": [
    "summary(OJ.tree)"
   ]
  },
  {
   "cell_type": "code",
   "execution_count": 167,
   "id": "c2eb7033",
   "metadata": {},
   "outputs": [
    {
     "data": {
      "text/plain": [
       "\n",
       "Classification tree:\n",
       "snip.tree(tree = OJ.tree, nodes = c(4L, 10L))\n",
       "Variables actually used in tree construction:\n",
       "[1] \"LoyalCH\"       \"PriceDiff\"     \"ListPriceDiff\" \"PctDiscMM\"    \n",
       "Number of terminal nodes:  7 \n",
       "Residual mean deviance:  0.7748 = 614.4 / 793 \n",
       "Misclassification error rate: 0.1625 = 130 / 800 "
      ]
     },
     "metadata": {},
     "output_type": "display_data"
    }
   ],
   "source": [
    "summary(prune.OJ)"
   ]
  },
  {
   "cell_type": "markdown",
   "id": "350bbbaa",
   "metadata": {},
   "source": [
    "Training error rate is higher for pruned tree "
   ]
  },
  {
   "cell_type": "markdown",
   "id": "9b776a97",
   "metadata": {},
   "source": [
    "### Exercice 10 (p.332, Chap.8)"
   ]
  },
  {
   "cell_type": "markdown",
   "id": "9195b910",
   "metadata": {},
   "source": [
    "###### a)"
   ]
  },
  {
   "cell_type": "code",
   "execution_count": 175,
   "id": "2469fc14",
   "metadata": {},
   "outputs": [],
   "source": [
    "#remove observation when salary is unknown\n",
    "Hitters = na.omit(Hitters)\n",
    "\n",
    "#log transform  Salary\n",
    "Hitters$Salary = log(Hitters$Salary)"
   ]
  },
  {
   "cell_type": "markdown",
   "id": "bf7eb01e",
   "metadata": {},
   "source": [
    "###### b)"
   ]
  },
  {
   "cell_type": "code",
   "execution_count": 178,
   "id": "5f59f46f",
   "metadata": {},
   "outputs": [],
   "source": [
    "#create training/test set\n",
    "\n",
    "hitters.train = Hitters[1:200,]\n",
    "hitters.test = Hitters[-(1:200),]"
   ]
  },
  {
   "cell_type": "markdown",
   "id": "1933878f",
   "metadata": {},
   "source": [
    "###### c)"
   ]
  },
  {
   "cell_type": "code",
   "execution_count": 184,
   "id": "633e9e5f",
   "metadata": {},
   "outputs": [
    {
     "data": {
      "text/plain": [
       "gbm(formula = Salary ~ ., distribution = \"gaussian\", data = Hitters, \n",
       "    n.trees = 1000, interaction.depth = 4)\n",
       "A gradient boosted model with gaussian loss function.\n",
       "1000 iterations were performed.\n",
       "There were 19 predictors of which 19 had non-zero influence."
      ]
     },
     "metadata": {},
     "output_type": "display_data"
    }
   ],
   "source": [
    "#install.packages(\"gbm\")\n",
    "library(gbm)\n",
    "set.seed(1)\n",
    "boost.hitters= gbm(Salary ~., data = Hitters, distribution= \"gaussian\", n.trees=1000, interaction.depth = 4)\n",
    "boost.hitters"
   ]
  },
  {
   "cell_type": "code",
   "execution_count": 185,
   "id": "47c0784a",
   "metadata": {},
   "outputs": [
    {
     "data": {
      "text/html": [
       "<table class=\"dataframe\">\n",
       "<caption>A data.frame: 19 × 2</caption>\n",
       "<thead>\n",
       "\t<tr><th></th><th scope=col>var</th><th scope=col>rel.inf</th></tr>\n",
       "\t<tr><th></th><th scope=col>&lt;chr&gt;</th><th scope=col>&lt;dbl&gt;</th></tr>\n",
       "</thead>\n",
       "<tbody>\n",
       "\t<tr><th scope=row>CAtBat</th><td>CAtBat   </td><td>15.6743818</td></tr>\n",
       "\t<tr><th scope=row>CHits</th><td>CHits    </td><td>15.3928676</td></tr>\n",
       "\t<tr><th scope=row>CRBI</th><td>CRBI     </td><td> 8.7404730</td></tr>\n",
       "\t<tr><th scope=row>CWalks</th><td>CWalks   </td><td> 8.4563692</td></tr>\n",
       "\t<tr><th scope=row>PutOuts</th><td>PutOuts  </td><td> 5.9991581</td></tr>\n",
       "\t<tr><th scope=row>Walks</th><td>Walks    </td><td> 5.8010442</td></tr>\n",
       "\t<tr><th scope=row>CHmRun</th><td>CHmRun   </td><td> 5.7201852</td></tr>\n",
       "\t<tr><th scope=row>AtBat</th><td>AtBat    </td><td> 4.8549428</td></tr>\n",
       "\t<tr><th scope=row>RBI</th><td>RBI      </td><td> 4.2614485</td></tr>\n",
       "\t<tr><th scope=row>Hits</th><td>Hits     </td><td> 4.1595867</td></tr>\n",
       "\t<tr><th scope=row>CRuns</th><td>CRuns    </td><td> 4.0116640</td></tr>\n",
       "\t<tr><th scope=row>HmRun</th><td>HmRun    </td><td> 3.7662977</td></tr>\n",
       "\t<tr><th scope=row>Assists</th><td>Assists  </td><td> 3.4759965</td></tr>\n",
       "\t<tr><th scope=row>Years</th><td>Years    </td><td> 3.1108998</td></tr>\n",
       "\t<tr><th scope=row>Errors</th><td>Errors   </td><td> 2.9572872</td></tr>\n",
       "\t<tr><th scope=row>Runs</th><td>Runs     </td><td> 2.3072714</td></tr>\n",
       "\t<tr><th scope=row>Division</th><td>Division </td><td> 0.5585309</td></tr>\n",
       "\t<tr><th scope=row>NewLeague</th><td>NewLeague</td><td> 0.4270637</td></tr>\n",
       "\t<tr><th scope=row>League</th><td>League   </td><td> 0.3245318</td></tr>\n",
       "</tbody>\n",
       "</table>\n"
      ],
      "text/latex": [
       "A data.frame: 19 × 2\n",
       "\\begin{tabular}{r|ll}\n",
       "  & var & rel.inf\\\\\n",
       "  & <chr> & <dbl>\\\\\n",
       "\\hline\n",
       "\tCAtBat & CAtBat    & 15.6743818\\\\\n",
       "\tCHits & CHits     & 15.3928676\\\\\n",
       "\tCRBI & CRBI      &  8.7404730\\\\\n",
       "\tCWalks & CWalks    &  8.4563692\\\\\n",
       "\tPutOuts & PutOuts   &  5.9991581\\\\\n",
       "\tWalks & Walks     &  5.8010442\\\\\n",
       "\tCHmRun & CHmRun    &  5.7201852\\\\\n",
       "\tAtBat & AtBat     &  4.8549428\\\\\n",
       "\tRBI & RBI       &  4.2614485\\\\\n",
       "\tHits & Hits      &  4.1595867\\\\\n",
       "\tCRuns & CRuns     &  4.0116640\\\\\n",
       "\tHmRun & HmRun     &  3.7662977\\\\\n",
       "\tAssists & Assists   &  3.4759965\\\\\n",
       "\tYears & Years     &  3.1108998\\\\\n",
       "\tErrors & Errors    &  2.9572872\\\\\n",
       "\tRuns & Runs      &  2.3072714\\\\\n",
       "\tDivision & Division  &  0.5585309\\\\\n",
       "\tNewLeague & NewLeague &  0.4270637\\\\\n",
       "\tLeague & League    &  0.3245318\\\\\n",
       "\\end{tabular}\n"
      ],
      "text/markdown": [
       "\n",
       "A data.frame: 19 × 2\n",
       "\n",
       "| <!--/--> | var &lt;chr&gt; | rel.inf &lt;dbl&gt; |\n",
       "|---|---|---|\n",
       "| CAtBat | CAtBat    | 15.6743818 |\n",
       "| CHits | CHits     | 15.3928676 |\n",
       "| CRBI | CRBI      |  8.7404730 |\n",
       "| CWalks | CWalks    |  8.4563692 |\n",
       "| PutOuts | PutOuts   |  5.9991581 |\n",
       "| Walks | Walks     |  5.8010442 |\n",
       "| CHmRun | CHmRun    |  5.7201852 |\n",
       "| AtBat | AtBat     |  4.8549428 |\n",
       "| RBI | RBI       |  4.2614485 |\n",
       "| Hits | Hits      |  4.1595867 |\n",
       "| CRuns | CRuns     |  4.0116640 |\n",
       "| HmRun | HmRun     |  3.7662977 |\n",
       "| Assists | Assists   |  3.4759965 |\n",
       "| Years | Years     |  3.1108998 |\n",
       "| Errors | Errors    |  2.9572872 |\n",
       "| Runs | Runs      |  2.3072714 |\n",
       "| Division | Division  |  0.5585309 |\n",
       "| NewLeague | NewLeague |  0.4270637 |\n",
       "| League | League    |  0.3245318 |\n",
       "\n"
      ],
      "text/plain": [
       "          var       rel.inf   \n",
       "CAtBat    CAtBat    15.6743818\n",
       "CHits     CHits     15.3928676\n",
       "CRBI      CRBI       8.7404730\n",
       "CWalks    CWalks     8.4563692\n",
       "PutOuts   PutOuts    5.9991581\n",
       "Walks     Walks      5.8010442\n",
       "CHmRun    CHmRun     5.7201852\n",
       "AtBat     AtBat      4.8549428\n",
       "RBI       RBI        4.2614485\n",
       "Hits      Hits       4.1595867\n",
       "CRuns     CRuns      4.0116640\n",
       "HmRun     HmRun      3.7662977\n",
       "Assists   Assists    3.4759965\n",
       "Years     Years      3.1108998\n",
       "Errors    Errors     2.9572872\n",
       "Runs      Runs       2.3072714\n",
       "Division  Division   0.5585309\n",
       "NewLeague NewLeague  0.4270637\n",
       "League    League     0.3245318"
      ]
     },
     "metadata": {},
     "output_type": "display_data"
    },
    {
     "data": {
      "image/png": "[encoded data removed]",
      "text/plain": [
       "plot without title"
      ]
     },
     "metadata": {
      "image/png": {
       "height": 420,
       "width": 420
      }
     },
     "output_type": "display_data"
    }
   ],
   "source": [
    "summary(boost.hitters)"
   ]
  },
  {
   "cell_type": "code",
   "execution_count": 188,
   "id": "42e53cc4",
   "metadata": {},
   "outputs": [
    {
     "data": {
      "image/png": "[encoded data removed]",
      "text/plain": [
       "plot without title"
      ]
     },
     "metadata": {
      "image/png": {
       "height": 420,
       "width": 420
      }
     },
     "output_type": "display_data"
    },
    {
     "data": {
      "image/png": "[encoded data removed]",
      "text/plain": [
       "plot without title"
      ]
     },
     "metadata": {
      "image/png": {
       "height": 420,
       "width": 420
      }
     },
     "output_type": "display_data"
    }
   ],
   "source": [
    "par(mfrow = c(1,2)) \n",
    "plot(boost.hitters, i = \"CAtBat\")\n",
    "plot(boost.hitters, i = \"CHits\")"
   ]
  },
  {
   "cell_type": "code",
   "execution_count": 192,
   "id": "008862b9",
   "metadata": {},
   "outputs": [
    {
     "name": "stderr",
     "output_type": "stream",
     "text": [
      "Warning message in Ops.factor(left, right):\n",
      "\"'-' not meaningful for factors\"\n",
      "Warning message in Ops.factor(left, right):\n",
      "\"'-' not meaningful for factors\"\n",
      "Warning message in Ops.factor(left, right):\n",
      "\"'-' not meaningful for factors\"\n",
      "Warning message in mean.default((pred.boost - hitters.test)^2):\n",
      "\"argument is not numeric or logical: returning NA\"\n"
     ]
    },
    {
     "data": {
      "text/html": [
       "&lt;NA&gt;"
      ],
      "text/latex": [
       "<NA>"
      ],
      "text/markdown": [
       "&lt;NA&gt;"
      ],
      "text/plain": [
       "[1] NA"
      ]
     },
     "metadata": {},
     "output_type": "display_data"
    }
   ],
   "source": [
    "pred.boost = predict(boost.hitters, newdata = hitters.test, n.trees = 1000)\n",
    "mean((pred.boost - hitters.test)^2)"
   ]
  },
  {
   "cell_type": "markdown",
   "id": "d94b3d00",
   "metadata": {},
   "source": [
    " ###  Exercise 3 (p.332, Chap.8)"
   ]
  },
  {
   "cell_type": "markdown",
   "id": "4cead135",
   "metadata": {},
   "source": [
    "### Exercice 5 (p.332, Chap.8)"
   ]
  },
  {
   "cell_type": "code",
   "execution_count": null,
   "id": "47802235",
   "metadata": {},
   "outputs": [],
   "source": []
  }
 ],
 "metadata": {
  "kernelspec": {
   "display_name": "R",
   "language": "R",
   "name": "ir"
  },
  "language_info": {
   "codemirror_mode": "r",
   "file_extension": ".r",
   "mimetype": "text/x-r-source",
   "name": "R",
   "pygments_lexer": "r",
   "version": "4.0.5"
  }
 },
 "nbformat": 4,
 "nbformat_minor": 5
}
