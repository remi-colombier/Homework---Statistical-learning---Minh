{
 "cells": [
  {
   "cell_type": "markdown",
   "id": "ca86f509",
   "metadata": {},
   "source": [
    "# Homework chapter 5,6,7 - Rémi Colombier"
   ]
  },
  {
   "cell_type": "markdown",
   "id": "e655bbf1",
   "metadata": {},
   "source": [
    " ### Exercise 3 (p.198, Chap.5)"
   ]
  },
  {
   "cell_type": "markdown",
   "id": "5989a2c2",
   "metadata": {},
   "source": [
    "###### (a) Explain how k-fold cross-validation is implemented."
   ]
  },
  {
   "cell_type": "markdown",
   "id": "c8f0d1f5",
   "metadata": {},
   "source": [
    "Cross validation is used to measure the effectiveness of a machine learning model.\n",
    "This will be done by randomly dividing the unseen dataset into multiple \"k\" samples to estimate how the model performs when making predictions on data unseen in the training dataset. For example when K = 8, then we speak of 8-fold cross validation. The first fold is considered as the validation set, and the model is fit on the K-1 fold.\n",
    "\n"
   ]
  },
  {
   "cell_type": "markdown",
   "id": "f5d34232",
   "metadata": {},
   "source": [
    "###### (b) What are the advantages and disadvantages of k-fold cross\u0002validation relative to: The validation set approach? and LOOCV ? "
   ]
  },
  {
   "cell_type": "markdown",
   "id": "33701df7",
   "metadata": {},
   "source": [
    "In fact LOOCV is a special case of k-fold cross validation in which k = n number of observation. The advantage of k-fold CV is that it is faster with 5, 10 folds than n fold (especially when n is very large).\n",
    "\n",
    "As for the validation set, Cross Validation has much less bias because we evaluate the model on k-1 folds so the model is fit on almost the entire database, while validation set the model is fit on half of the given and test on the other half.\n",
    "\n",
    "K-fold CV has much less variability in error estimates. The validation set overestimates the test error."
   ]
  },
  {
   "cell_type": "markdown",
   "id": "ddafe7c9",
   "metadata": {},
   "source": [
    "### Exercice 8 (p.200, Chap.5)"
   ]
  },
  {
   "cell_type": "code",
   "execution_count": 2,
   "id": "7db847a3",
   "metadata": {},
   "outputs": [],
   "source": [
    "set.seed(1)\n",
    "x=rnorm(100)\n",
    "y=x-2*x^2+rnorm (100)"
   ]
  },
  {
   "cell_type": "markdown",
   "id": "858f1c91",
   "metadata": {},
   "source": [
    "a) We have n = 100 observation and n = 2 predictors"
   ]
  },
  {
   "cell_type": "code",
   "execution_count": 4,
   "id": "db43202b",
   "metadata": {},
   "outputs": [
    {
     "data": {
      "image/png": "[encoded data removed]",
      "text/plain": [
       "plot without title"
      ]
     },
     "metadata": {
      "image/png": {
       "height": 420,
       "width": 420
      }
     },
     "output_type": "display_data"
    }
   ],
   "source": [
    "plot(x,y)"
   ]
  },
  {
   "cell_type": "markdown",
   "id": "95521644",
   "metadata": {},
   "source": [
    "b) We have a bell curve depicting the normal distribution"
   ]
  },
  {
   "cell_type": "markdown",
   "id": "4c8c6731",
   "metadata": {},
   "source": [
    "##### c) "
   ]
  },
  {
   "cell_type": "code",
   "execution_count": 27,
   "id": "c55ff1c9",
   "metadata": {},
   "outputs": [],
   "source": [
    "set.seed(123)\n",
    "library(boot)\n",
    "data = data.frame(x,y)"
   ]
  },
  {
   "cell_type": "code",
   "execution_count": 28,
   "id": "af553cb5",
   "metadata": {},
   "outputs": [
    {
     "data": {
      "text/html": [
       "7.28816160667281"
      ],
      "text/latex": [
       "7.28816160667281"
      ],
      "text/markdown": [
       "7.28816160667281"
      ],
      "text/plain": [
       "[1] 7.288162"
      ]
     },
     "metadata": {},
     "output_type": "display_data"
    }
   ],
   "source": [
    "linear = glm(y~poly(x,1), data = data, family = gaussian)\n",
    "cv.glm(data, linear)$delta[1]"
   ]
  },
  {
   "cell_type": "code",
   "execution_count": 29,
   "id": "5497c27f",
   "metadata": {},
   "outputs": [
    {
     "data": {
      "text/html": [
       "0.937423637615552"
      ],
      "text/latex": [
       "0.937423637615552"
      ],
      "text/markdown": [
       "0.937423637615552"
      ],
      "text/plain": [
       "[1] 0.9374236"
      ]
     },
     "metadata": {},
     "output_type": "display_data"
    }
   ],
   "source": [
    "quadratic = glm(y~poly(x,2), data = data, family = gaussian)\n",
    "cv.glm(data, quadratic)$delta[1]"
   ]
  },
  {
   "cell_type": "code",
   "execution_count": 30,
   "id": "58b6d305",
   "metadata": {},
   "outputs": [
    {
     "data": {
      "text/html": [
       "0.956621830108939"
      ],
      "text/latex": [
       "0.956621830108939"
      ],
      "text/markdown": [
       "0.956621830108939"
      ],
      "text/plain": [
       "[1] 0.9566218"
      ]
     },
     "metadata": {},
     "output_type": "display_data"
    }
   ],
   "source": [
    "cubic = glm(y~poly(x, 3), data = data, family = gaussian)\n",
    "cv.glm(data, cubic)$delta[1]"
   ]
  },
  {
   "cell_type": "code",
   "execution_count": 31,
   "id": "9502a599",
   "metadata": {},
   "outputs": [
    {
     "data": {
      "text/html": [
       "0.953904892744804"
      ],
      "text/latex": [
       "0.953904892744804"
      ],
      "text/markdown": [
       "0.953904892744804"
      ],
      "text/plain": [
       "[1] 0.9539049"
      ]
     },
     "metadata": {},
     "output_type": "display_data"
    }
   ],
   "source": [
    "quartic = glm(y~poly(x, 4), data = data, family = gaussian)\n",
    "cv.glm(data, quartic)$delta[1]"
   ]
  },
  {
   "cell_type": "markdown",
   "id": "8efb43e8",
   "metadata": {},
   "source": [
    "##### d)"
   ]
  },
  {
   "cell_type": "code",
   "execution_count": 32,
   "id": "e5c2ac93",
   "metadata": {},
   "outputs": [
    {
     "data": {
      "text/html": [
       "7.28816160667281"
      ],
      "text/latex": [
       "7.28816160667281"
      ],
      "text/markdown": [
       "7.28816160667281"
      ],
      "text/plain": [
       "[1] 7.288162"
      ]
     },
     "metadata": {},
     "output_type": "display_data"
    },
    {
     "data": {
      "text/html": [
       "0.937423637615551"
      ],
      "text/latex": [
       "0.937423637615551"
      ],
      "text/markdown": [
       "0.937423637615551"
      ],
      "text/plain": [
       "[1] 0.9374236"
      ]
     },
     "metadata": {},
     "output_type": "display_data"
    },
    {
     "data": {
      "text/html": [
       "0.95662183010894"
      ],
      "text/latex": [
       "0.95662183010894"
      ],
      "text/markdown": [
       "0.95662183010894"
      ],
      "text/plain": [
       "[1] 0.9566218"
      ]
     },
     "metadata": {},
     "output_type": "display_data"
    },
    {
     "data": {
      "text/html": [
       "0.953904892744804"
      ],
      "text/latex": [
       "0.953904892744804"
      ],
      "text/markdown": [
       "0.953904892744804"
      ],
      "text/plain": [
       "[1] 0.9539049"
      ]
     },
     "metadata": {},
     "output_type": "display_data"
    }
   ],
   "source": [
    "set.seed(321)\n",
    "linear2 = glm(y~poly(x,1), data = data, family = gaussian)\n",
    "cv.glm(data, linear)$delta[1]\n",
    "\n",
    "quadratic2 = glm(y~poly(x,2), data = data, family = gaussian)\n",
    "cv.glm(data, quadratic)$delta[1]\n",
    "\n",
    "cubic2 = glm(y~poly(x, 3), data = data, family = gaussian)\n",
    "cv.glm(data, cubic)$delta[1]\n",
    "\n",
    "quartic2 = glm(y~poly(x, 4), data = data, family = gaussian)\n",
    "cv.glm(data, quartic)$delta[1]"
   ]
  },
  {
   "cell_type": "markdown",
   "id": "3fa3f974",
   "metadata": {},
   "source": [
    "Results are exactly the same since LOOCV use all train/validation splits."
   ]
  },
  {
   "cell_type": "markdown",
   "id": "a5e6b9cf",
   "metadata": {},
   "source": [
    "###### e)"
   ]
  },
  {
   "cell_type": "markdown",
   "id": "0038eb9e",
   "metadata": {},
   "source": [
    "The quadratic model has the smallest LOOCV errors. And it seems fair since it is not unerfitting and not overfitting.\n",
    "For example higher order polynomial means more flexible model which will fit your training data better but maybe too much better and that would lead to overfitting. "
   ]
  },
  {
   "cell_type": "markdown",
   "id": "9a2e4f11",
   "metadata": {},
   "source": [
    "###### f) "
   ]
  },
  {
   "cell_type": "code",
   "execution_count": 42,
   "id": "73eac6df",
   "metadata": {},
   "outputs": [
    {
     "data": {
      "text/plain": [
       "\n",
       "Call:\n",
       "glm(formula = y ~ poly(x, 1), family = gaussian, data = data)\n",
       "\n",
       "Deviance Residuals: \n",
       "    Min       1Q   Median       3Q      Max  \n",
       "-9.5161  -0.6800   0.6812   1.5491   3.8183  \n",
       "\n",
       "Coefficients:\n",
       "            Estimate Std. Error t value Pr(>|t|)    \n",
       "(Intercept)   -1.550      0.260  -5.961 3.95e-08 ***\n",
       "poly(x, 1)     6.189      2.600   2.380   0.0192 *  \n",
       "---\n",
       "Signif. codes:  0 '***' 0.001 '**' 0.01 '*' 0.05 '.' 0.1 ' ' 1\n",
       "\n",
       "(Dispersion parameter for gaussian family taken to be 6.760719)\n",
       "\n",
       "    Null deviance: 700.85  on 99  degrees of freedom\n",
       "Residual deviance: 662.55  on 98  degrees of freedom\n",
       "AIC: 478.88\n",
       "\n",
       "Number of Fisher Scoring iterations: 2\n"
      ]
     },
     "metadata": {},
     "output_type": "display_data"
    },
    {
     "data": {
      "text/plain": [
       "\n",
       "Call:\n",
       "glm(formula = y ~ poly(x, 2), family = gaussian, data = data)\n",
       "\n",
       "Deviance Residuals: \n",
       "    Min       1Q   Median       3Q      Max  \n",
       "-1.9650  -0.6254  -0.1288   0.5803   2.2700  \n",
       "\n",
       "Coefficients:\n",
       "            Estimate Std. Error t value Pr(>|t|)    \n",
       "(Intercept)  -1.5500     0.0958  -16.18  < 2e-16 ***\n",
       "poly(x, 2)1   6.1888     0.9580    6.46 4.18e-09 ***\n",
       "poly(x, 2)2 -23.9483     0.9580  -25.00  < 2e-16 ***\n",
       "---\n",
       "Signif. codes:  0 '***' 0.001 '**' 0.01 '*' 0.05 '.' 0.1 ' ' 1\n",
       "\n",
       "(Dispersion parameter for gaussian family taken to be 0.9178258)\n",
       "\n",
       "    Null deviance: 700.852  on 99  degrees of freedom\n",
       "Residual deviance:  89.029  on 97  degrees of freedom\n",
       "AIC: 280.17\n",
       "\n",
       "Number of Fisher Scoring iterations: 2\n"
      ]
     },
     "metadata": {},
     "output_type": "display_data"
    },
    {
     "data": {
      "text/plain": [
       "\n",
       "Call:\n",
       "glm(formula = y ~ poly(x, 3), family = gaussian, data = data)\n",
       "\n",
       "Deviance Residuals: \n",
       "    Min       1Q   Median       3Q      Max  \n",
       "-1.9765  -0.6302  -0.1227   0.5545   2.2843  \n",
       "\n",
       "Coefficients:\n",
       "             Estimate Std. Error t value Pr(>|t|)    \n",
       "(Intercept)  -1.55002    0.09626 -16.102  < 2e-16 ***\n",
       "poly(x, 3)1   6.18883    0.96263   6.429 4.97e-09 ***\n",
       "poly(x, 3)2 -23.94830    0.96263 -24.878  < 2e-16 ***\n",
       "poly(x, 3)3   0.26411    0.96263   0.274    0.784    \n",
       "---\n",
       "Signif. codes:  0 '***' 0.001 '**' 0.01 '*' 0.05 '.' 0.1 ' ' 1\n",
       "\n",
       "(Dispersion parameter for gaussian family taken to be 0.9266599)\n",
       "\n",
       "    Null deviance: 700.852  on 99  degrees of freedom\n",
       "Residual deviance:  88.959  on 96  degrees of freedom\n",
       "AIC: 282.09\n",
       "\n",
       "Number of Fisher Scoring iterations: 2\n"
      ]
     },
     "metadata": {},
     "output_type": "display_data"
    },
    {
     "data": {
      "text/plain": [
       "\n",
       "Call:\n",
       "glm(formula = y ~ poly(x, 4), family = gaussian, data = data)\n",
       "\n",
       "Deviance Residuals: \n",
       "    Min       1Q   Median       3Q      Max  \n",
       "-2.0550  -0.6212  -0.1567   0.5952   2.2267  \n",
       "\n",
       "Coefficients:\n",
       "             Estimate Std. Error t value Pr(>|t|)    \n",
       "(Intercept)  -1.55002    0.09591 -16.162  < 2e-16 ***\n",
       "poly(x, 4)1   6.18883    0.95905   6.453 4.59e-09 ***\n",
       "poly(x, 4)2 -23.94830    0.95905 -24.971  < 2e-16 ***\n",
       "poly(x, 4)3   0.26411    0.95905   0.275    0.784    \n",
       "poly(x, 4)4   1.25710    0.95905   1.311    0.193    \n",
       "---\n",
       "Signif. codes:  0 '***' 0.001 '**' 0.01 '*' 0.05 '.' 0.1 ' ' 1\n",
       "\n",
       "(Dispersion parameter for gaussian family taken to be 0.9197797)\n",
       "\n",
       "    Null deviance: 700.852  on 99  degrees of freedom\n",
       "Residual deviance:  87.379  on 95  degrees of freedom\n",
       "AIC: 282.3\n",
       "\n",
       "Number of Fisher Scoring iterations: 2\n"
      ]
     },
     "metadata": {},
     "output_type": "display_data"
    }
   ],
   "source": [
    "summary(linear)\n",
    "summary(quadratic)\n",
    "summary(cubic)\n",
    "summary(quartic)\n"
   ]
  },
  {
   "cell_type": "markdown",
   "id": "563d918e",
   "metadata": {},
   "source": [
    "Only quadratics is statistically significant since its p-value is below 5%"
   ]
  },
  {
   "cell_type": "markdown",
   "id": "309095fb",
   "metadata": {},
   "source": [
    "### Exercice 1 (p.259, Chap.6)"
   ]
  },
  {
   "cell_type": "markdown",
   "id": "da3f275e",
   "metadata": {},
   "source": [
    "1. We perform best subset, forward stepwise, and backward stepwise\n",
    "selection on a single data set. For each approach, we obtain p + 1\n",
    "models, containing 0, 1, 2,...,p predictors. Explain your answers:\n"
   ]
  },
  {
   "cell_type": "markdown",
   "id": "cf1a2de4",
   "metadata": {},
   "source": [
    "a) Which of the three models with k predictors has the smallest\n",
    "training RSS?"
   ]
  },
  {
   "cell_type": "markdown",
   "id": "dd5572c0",
   "metadata": {},
   "source": [
    "It's the best subset selection since its looks for all possible models with k predictors with choosing the smallest RSS\n",
    "Otherwises the others models will have lower RSS with starting with k-1 predictors or starting with k+1 predictors."
   ]
  },
  {
   "cell_type": "markdown",
   "id": "dcbd83ad",
   "metadata": {},
   "source": [
    "b) Which of the three models with k predictors has the smallest\n",
    "test RSS?"
   ]
  },
  {
   "cell_type": "markdown",
   "id": "45c315be",
   "metadata": {},
   "source": [
    "We can not say which model is the best since all the model car perform well on having the samallest test RSS "
   ]
  },
  {
   "cell_type": "markdown",
   "id": "23b4260b",
   "metadata": {},
   "source": [
    "c) TRUE or FALSE"
   ]
  },
  {
   "cell_type": "markdown",
   "id": "c4d40668",
   "metadata": {},
   "source": [
    "i. TRUE since the model with k+1 predictors is obtained by adding 1 predictors to the model with k predictors \n"
   ]
  },
  {
   "cell_type": "markdown",
   "id": "841ec501",
   "metadata": {},
   "source": [
    "ii. TRUE since the model with k predictors is obtained by remowing one predictors from the model with k+1 predictors "
   ]
  },
  {
   "cell_type": "markdown",
   "id": "1726d494",
   "metadata": {},
   "source": [
    "iii. FALSE no link between model obtained from forward and backward selection"
   ]
  },
  {
   "cell_type": "markdown",
   "id": "4861e5a7",
   "metadata": {},
   "source": [
    "iv. same as above"
   ]
  },
  {
   "cell_type": "markdown",
   "id": "b8339b6b",
   "metadata": {},
   "source": [
    "v. FALSE "
   ]
  },
  {
   "cell_type": "markdown",
   "id": "92204065",
   "metadata": {},
   "source": [
    "### Exercice 9 (p.263, Chap.6)"
   ]
  },
  {
   "cell_type": "markdown",
   "id": "4baac8ab",
   "metadata": {},
   "source": [
    "a) split the data"
   ]
  },
  {
   "cell_type": "code",
   "execution_count": 67,
   "id": "7eac3b2c",
   "metadata": {},
   "outputs": [],
   "source": [
    "library(ISLR)\n",
    "set.seed(123)\n",
    "train = sample(1:dim(College)[1], dim(College)[1]/2)\n",
    "test = -train\n",
    "college.train = College[train,]\n",
    "college.test = College[test, ]"
   ]
  },
  {
   "cell_type": "markdown",
   "id": "1691945e",
   "metadata": {},
   "source": [
    "b) fit linear model "
   ]
  },
  {
   "cell_type": "code",
   "execution_count": 70,
   "id": "c6319d18",
   "metadata": {
    "scrolled": true
   },
   "outputs": [
    {
     "data": {
      "text/html": [
       "1373994.68331753"
      ],
      "text/latex": [
       "1373994.68331753"
      ],
      "text/markdown": [
       "1373994.68331753"
      ],
      "text/plain": [
       "[1] 1373995"
      ]
     },
     "metadata": {},
     "output_type": "display_data"
    }
   ],
   "source": [
    "fit.linear = lm(Apps ~., data = college.train)\n",
    "pred.linear = predict(fit.linear, college.test)\n",
    "\n",
    "mean((pred.linear - college.test$Apps)^2)"
   ]
  },
  {
   "cell_type": "markdown",
   "id": "05d2eb73",
   "metadata": {},
   "source": [
    "c) fit ridge regression with lambda chosen by CV"
   ]
  },
  {
   "cell_type": "code",
   "execution_count": 75,
   "id": "d3078509",
   "metadata": {},
   "outputs": [],
   "source": [
    "x = model.matrix(Apps ~ ., data = college.train)\n",
    "y = model.matrix(Apps ~ ., data = college.test)"
   ]
  },
  {
   "cell_type": "code",
   "execution_count": 78,
   "id": "def4e73c",
   "metadata": {},
   "outputs": [
    {
     "data": {
      "text/html": [
       "24.7707635599171"
      ],
      "text/latex": [
       "24.7707635599171"
      ],
      "text/markdown": [
       "24.7707635599171"
      ],
      "text/plain": [
       "[1] 24.77076"
      ]
     },
     "metadata": {},
     "output_type": "display_data"
    }
   ],
   "source": [
    "library(glmnet)\n",
    "grid=10^seq(10,-2, length =100)\n",
    "\n",
    "ridge_model = glmnet(x, college.train$Apps, alpha = 0, lambda = grid, thresh = 1e-12)\n",
    "cv_ridge = cv.glmnet(x, college.train$Apps, alpha = 0, lambda = grid, thresh = 1e-12)\n",
    "\n",
    "best_lambda = cv_ridge$lambda.min\n",
    "best_lambda\n"
   ]
  },
  {
   "cell_type": "code",
   "execution_count": 82,
   "id": "ed9f50ac",
   "metadata": {},
   "outputs": [
    {
     "data": {
      "text/html": [
       "1450112.13055137"
      ],
      "text/latex": [
       "1450112.13055137"
      ],
      "text/markdown": [
       "1450112.13055137"
      ],
      "text/plain": [
       "[1] 1450112"
      ]
     },
     "metadata": {},
     "output_type": "display_data"
    }
   ],
   "source": [
    "prediction = predict(ridge_model, s = best_lambda, newx = y)\n",
    "mean((prediction - college.test$Apps)^2)"
   ]
  },
  {
   "cell_type": "markdown",
   "id": "3c293f83",
   "metadata": {},
   "source": [
    "Test MSE seems to be higher for ridge regression than for least square"
   ]
  },
  {
   "cell_type": "markdown",
   "id": "3b830a72",
   "metadata": {},
   "source": [
    "d) fit a lasso regression with lambda chosen by CV."
   ]
  },
  {
   "cell_type": "code",
   "execution_count": 87,
   "id": "82cd4ef5",
   "metadata": {},
   "outputs": [
    {
     "data": {
      "text/html": [
       "14.174741629268"
      ],
      "text/latex": [
       "14.174741629268"
      ],
      "text/markdown": [
       "14.174741629268"
      ],
      "text/plain": [
       "[1] 14.17474"
      ]
     },
     "metadata": {},
     "output_type": "display_data"
    }
   ],
   "source": [
    "fit.lasso = glmnet(x, college.train$Apps, alpha = 1, lambda = grid, thresh = 1e-12)\n",
    "cv.lasso = cv.glmnet(x, college.train$Apps, alpha = 1, lambda = grid, thresh = 1e-12)\n",
    "best_lambda_lasso = cv.lasso$lambda.min\n",
    "best_lambda_lasso"
   ]
  },
  {
   "cell_type": "code",
   "execution_count": 92,
   "id": "8152287d",
   "metadata": {},
   "outputs": [
    {
     "data": {
      "text/html": [
       "1390342.98700881"
      ],
      "text/latex": [
       "1390342.98700881"
      ],
      "text/markdown": [
       "1390342.98700881"
      ],
      "text/plain": [
       "[1] 1390343"
      ]
     },
     "metadata": {},
     "output_type": "display_data"
    }
   ],
   "source": [
    "prediction_lasso = predict(fit.lasso, s = best_lambda_lasso, newx = y)\n",
    "mean((prediction_lasso - college.test$Apps)^2)"
   ]
  },
  {
   "cell_type": "code",
   "execution_count": null,
   "id": "115c970b",
   "metadata": {},
   "outputs": [],
   "source": [
    "#let's find the non-zero coefficient estimate\n"
   ]
  },
  {
   "cell_type": "code",
   "execution_count": 93,
   "id": "8a721de5",
   "metadata": {
    "scrolled": true
   },
   "outputs": [
    {
     "data": {
      "text/plain": [
       "19 x 1 sparse Matrix of class \"dgCMatrix\"\n",
       "                       s1\n",
       "(Intercept) -316.53475433\n",
       "(Intercept)    .         \n",
       "PrivateYes  -742.79283443\n",
       "Accept         1.33240290\n",
       "Enroll         .         \n",
       "Top10perc     30.22256705\n",
       "Top25perc     -2.59817141\n",
       "F.Undergrad    .         \n",
       "P.Undergrad    .         \n",
       "Outstate      -0.03817795\n",
       "Room.Board     0.14352342\n",
       "Books          .         \n",
       "Personal      -0.05965967\n",
       "PhD           -4.63022767\n",
       "Terminal      -5.87468305\n",
       "S.F.Ratio      .         \n",
       "perc.alumni   -7.90012312\n",
       "Expend         0.07900696\n",
       "Grad.Rate      8.82858013"
      ]
     },
     "metadata": {},
     "output_type": "display_data"
    }
   ],
   "source": [
    "predict(fit.lasso, s = best_lambda_lasso, type = \"coefficients\")\n"
   ]
  },
  {
   "cell_type": "markdown",
   "id": "9b756842",
   "metadata": {},
   "source": [
    "e) fit a PCR model with number of component chosen by CV"
   ]
  },
  {
   "cell_type": "code",
   "execution_count": 96,
   "id": "16e60a44",
   "metadata": {},
   "outputs": [
    {
     "name": "stderr",
     "output_type": "stream",
     "text": [
      "Warning message:\n",
      "\"package 'pls' is in use and will not be installed\"\n"
     ]
    }
   ],
   "source": [
    "install.packages(\"pls\")\n",
    "library(pls)\n",
    "#fit PCR model with Cross validation to choose number of component\n",
    "fit.pcr = pcr(Apps ~., data = college.train, scale = TRUE, validation = \"CV\" )\n"
   ]
  },
  {
   "cell_type": "code",
   "execution_count": 97,
   "id": "beb01b52",
   "metadata": {},
   "outputs": [
    {
     "data": {
      "image/png": "[encoded data removed]",
      "text/plain": [
       "Plot with title \"Apps\""
      ]
     },
     "metadata": {
      "image/png": {
       "height": 420,
       "width": 420
      }
     },
     "output_type": "display_data"
    }
   ],
   "source": [
    "#plot the Mean squared error prediction \n",
    "validationplot(fit.pcr, val.type = \"MSEP\")"
   ]
  },
  {
   "cell_type": "code",
   "execution_count": 100,
   "id": "e2d07efb",
   "metadata": {},
   "outputs": [
    {
     "data": {
      "text/html": [
       "2887471.75809012"
      ],
      "text/latex": [
       "2887471.75809012"
      ],
      "text/markdown": [
       "2887471.75809012"
      ],
      "text/plain": [
       "[1] 2887472"
      ]
     },
     "metadata": {},
     "output_type": "display_data"
    }
   ],
   "source": [
    "pred.pcr = predict(fit.pcr, college.test, ncom = 10)\n",
    "mean((pred.pcr - college.test$Apps)^2)"
   ]
  },
  {
   "cell_type": "markdown",
   "id": "e6f7267c",
   "metadata": {},
   "source": [
    "Mean squared erros is also higher for PCR than for least square regression "
   ]
  },
  {
   "cell_type": "markdown",
   "id": "07e33b9c",
   "metadata": {},
   "source": [
    "###### f) Fit pls regression with M number of component chosen by cross validation "
   ]
  },
  {
   "cell_type": "code",
   "execution_count": 102,
   "id": "7dd048c0",
   "metadata": {},
   "outputs": [
    {
     "data": {
      "image/png": "[encoded data removed]",
      "text/plain": [
       "Plot with title \"Apps\""
      ]
     },
     "metadata": {
      "image/png": {
       "height": 420,
       "width": 420
      }
     },
     "output_type": "display_data"
    }
   ],
   "source": [
    "#fit partial least square regression\n",
    "fit.pls <- plsr(Apps ~., data = college.train, scale = TRUE, validation = \"CV\")\n",
    "validationplot(fit.pls, val.type = \"MSEP\")"
   ]
  },
  {
   "cell_type": "code",
   "execution_count": 103,
   "id": "65f0d0bc",
   "metadata": {},
   "outputs": [
    {
     "data": {
      "text/html": [
       "1384150.91837861"
      ],
      "text/latex": [
       "1384150.91837861"
      ],
      "text/markdown": [
       "1384150.91837861"
      ],
      "text/plain": [
       "[1] 1384151"
      ]
     },
     "metadata": {},
     "output_type": "display_data"
    }
   ],
   "source": [
    "pred.pls = predict(fit.pls, college.test, ncomp = 10)\n",
    "mean((pred.pls - college.test$Apps)^2)"
   ]
  },
  {
   "cell_type": "markdown",
   "id": "817db177",
   "metadata": {},
   "source": [
    "MSE is still higher for PLS than for least square regression "
   ]
  },
  {
   "cell_type": "markdown",
   "id": "e8024f73",
   "metadata": {},
   "source": [
    "###### g) Compare the results"
   ]
  },
  {
   "cell_type": "markdown",
   "id": "f8707b93",
   "metadata": {},
   "source": [
    "We can see that there is a huge difference between those models. And the model with the lowest MSE remain the linear model. "
   ]
  },
  {
   "cell_type": "markdown",
   "id": "baaaf89f",
   "metadata": {},
   "source": [
    "### Exercice 9 (p.299, Chap.7) "
   ]
  },
  {
   "cell_type": "markdown",
   "id": "46578bff",
   "metadata": {},
   "source": [
    "##### a) fit a cubic polynomial regression "
   ]
  },
  {
   "cell_type": "code",
   "execution_count": 130,
   "id": "c690f368",
   "metadata": {},
   "outputs": [
    {
     "data": {
      "text/plain": [
       "\n",
       "Call:\n",
       "lm(formula = nox ~ poly(dis, 3))\n",
       "\n",
       "Residuals:\n",
       "      Min        1Q    Median        3Q       Max \n",
       "-0.121130 -0.040619 -0.009738  0.023385  0.194904 \n",
       "\n",
       "Coefficients:\n",
       "               Estimate Std. Error t value Pr(>|t|)    \n",
       "(Intercept)    0.554695   0.002759 201.021  < 2e-16 ***\n",
       "poly(dis, 3)1 -2.003096   0.062071 -32.271  < 2e-16 ***\n",
       "poly(dis, 3)2  0.856330   0.062071  13.796  < 2e-16 ***\n",
       "poly(dis, 3)3 -0.318049   0.062071  -5.124 4.27e-07 ***\n",
       "---\n",
       "Signif. codes:  0 '***' 0.001 '**' 0.01 '*' 0.05 '.' 0.1 ' ' 1\n",
       "\n",
       "Residual standard error: 0.06207 on 502 degrees of freedom\n",
       "Multiple R-squared:  0.7148,\tAdjusted R-squared:  0.7131 \n",
       "F-statistic: 419.3 on 3 and 502 DF,  p-value: < 2.2e-16\n"
      ]
     },
     "metadata": {},
     "output_type": "display_data"
    }
   ],
   "source": [
    "cubic_regression <-  lm(nox ~ poly(dis, 3))\n",
    "summary(cubic_regression)"
   ]
  },
  {
   "cell_type": "code",
   "execution_count": 136,
   "id": "0535eac9",
   "metadata": {},
   "outputs": [
    {
     "data": {
      "image/png": "[encoded data removed]",
      "text/plain": [
       "plot without title"
      ]
     },
     "metadata": {
      "image/png": {
       "height": 420,
       "width": 420
      }
     },
     "output_type": "display_data"
    }
   ],
   "source": [
    "#get range of the axis of the line \n",
    "dislim <-  range(dis)\n",
    "\n",
    "#create a grid of x axis point that we will predict \n",
    "dis.grid <-  seq(from = dislim[1], to = dislim[2], length.out = 100)\n",
    "\n",
    "lm.pred <-  predict(m1, list(dis = dis.grid), se = TRUE)\n",
    "\n",
    "par(mfrow = c(1,1))\n",
    "\n",
    "#plot the regression and polynomial fit\n",
    "plot(nox ~ dis)\n",
    "lines(x = dis.grid, y = lm.pred$fit, col = \"blue\", lwd = 2)\n",
    "matlines(x = dis.grid, y = cbind(lm.pred$fit + 2* lm.pred$se.fit,\n",
    "                                 lm.pred$fit - 2* lm.pred$se.fit) \n",
    "         , col = \"blue\", lwd = 1.5, lty = \"dashed\")"
   ]
  },
  {
   "cell_type": "markdown",
   "id": "d72c57d0",
   "metadata": {},
   "source": [
    "###### b) Report RSS for different polynomial degrees (1 to 10)"
   ]
  },
  {
   "cell_type": "code",
   "execution_count": 137,
   "id": "7a1999aa",
   "metadata": {},
   "outputs": [
    {
     "data": {
      "text/html": [
       "<style>\n",
       ".list-inline {list-style: none; margin:0; padding: 0}\n",
       ".list-inline>li {display: inline-block}\n",
       ".list-inline>li:not(:last-child)::after {content: \"\\00b7\"; padding: 0 .5ex}\n",
       "</style>\n",
       "<ol class=list-inline><li>2.76856285896928</li><li>2.03526186893526</li><li>1.93410670717907</li><li>1.93298132729859</li><li>1.9152899610843</li><li>1.87825729850816</li><li>1.84948361458298</li><li>1.83562968906769</li><li>1.83333080449159</li><li>1.83217112393134</li></ol>\n"
      ],
      "text/latex": [
       "\\begin{enumerate*}\n",
       "\\item 2.76856285896928\n",
       "\\item 2.03526186893526\n",
       "\\item 1.93410670717907\n",
       "\\item 1.93298132729859\n",
       "\\item 1.9152899610843\n",
       "\\item 1.87825729850816\n",
       "\\item 1.84948361458298\n",
       "\\item 1.83562968906769\n",
       "\\item 1.83333080449159\n",
       "\\item 1.83217112393134\n",
       "\\end{enumerate*}\n"
      ],
      "text/markdown": [
       "1. 2.76856285896928\n",
       "2. 2.03526186893526\n",
       "3. 1.93410670717907\n",
       "4. 1.93298132729859\n",
       "5. 1.9152899610843\n",
       "6. 1.87825729850816\n",
       "7. 1.84948361458298\n",
       "8. 1.83562968906769\n",
       "9. 1.83333080449159\n",
       "10. 1.83217112393134\n",
       "\n",
       "\n"
      ],
      "text/plain": [
       " [1] 2.768563 2.035262 1.934107 1.932981 1.915290 1.878257 1.849484 1.835630\n",
       " [9] 1.833331 1.832171"
      ]
     },
     "metadata": {},
     "output_type": "display_data"
    }
   ],
   "source": [
    "# create an empty list\n",
    "train.rss <-  NA\n",
    "\n",
    "for (i in 1:10) {\n",
    "  polynomial <-  lm(nox ~ poly(dis, i))\n",
    "  train.rss[i] <-  sum(polynomial$residuals^2)\n",
    "}\n",
    "\n",
    "# show model fit in training set\n",
    "train.rss"
   ]
  },
  {
   "cell_type": "markdown",
   "id": "e68cd9c3",
   "metadata": {},
   "source": [
    "We can observe that RSS decrease as the degree of Polynomial increase"
   ]
  },
  {
   "cell_type": "markdown",
   "id": "bedbd6e5",
   "metadata": {},
   "source": [
    "###### (c) Perform cross-validation or another approach to select the opti\u0002mal degree for the polynomial, and explain your results."
   ]
  },
  {
   "cell_type": "markdown",
   "id": "86d7e1d8",
   "metadata": {},
   "source": [
    "###### (d) Use the bs() function to fit a regression spline to predict nox using dis. Report the output for the fit using four degrees of freedom. How did you choose the knots? Plot the resulting fit.\n"
   ]
  },
  {
   "cell_type": "code",
   "execution_count": 140,
   "id": "c3c2f22d",
   "metadata": {},
   "outputs": [
    {
     "data": {
      "text/plain": [
       "\n",
       "Call:\n",
       "lm(formula = nox ~ bs(dis, knots = c(3, 6, 9)))\n",
       "\n",
       "Residuals:\n",
       "      Min        1Q    Median        3Q       Max \n",
       "-0.132134 -0.039466 -0.009042  0.025344  0.187258 \n",
       "\n",
       "Coefficients:\n",
       "                              Estimate Std. Error t value Pr(>|t|)    \n",
       "(Intercept)                   0.709144   0.016099  44.049  < 2e-16 ***\n",
       "bs(dis, knots = c(3, 6, 9))1  0.006631   0.025467   0.260    0.795    \n",
       "bs(dis, knots = c(3, 6, 9))2 -0.258296   0.017759 -14.544  < 2e-16 ***\n",
       "bs(dis, knots = c(3, 6, 9))3 -0.233326   0.027248  -8.563  < 2e-16 ***\n",
       "bs(dis, knots = c(3, 6, 9))4 -0.336530   0.032140 -10.471  < 2e-16 ***\n",
       "bs(dis, knots = c(3, 6, 9))5 -0.269575   0.058799  -4.585 5.75e-06 ***\n",
       "bs(dis, knots = c(3, 6, 9))6 -0.303386   0.062631  -4.844 1.70e-06 ***\n",
       "---\n",
       "Signif. codes:  0 '***' 0.001 '**' 0.01 '*' 0.05 '.' 0.1 ' ' 1\n",
       "\n",
       "Residual standard error: 0.0612 on 499 degrees of freedom\n",
       "Multiple R-squared:  0.7244,\tAdjusted R-squared:  0.7211 \n",
       "F-statistic: 218.6 on 6 and 499 DF,  p-value: < 2.2e-16\n"
      ]
     },
     "metadata": {},
     "output_type": "display_data"
    }
   ],
   "source": [
    "library(splines)\n",
    "spline_regression = lm(nox ~ bs(dis, knots = c(3,6,9)))\n",
    "summary(spline_regression)"
   ]
  },
  {
   "cell_type": "code",
   "execution_count": 146,
   "id": "459572fb",
   "metadata": {},
   "outputs": [
    {
     "data": {
      "image/png": "[encoded data removed]",
      "text/plain": [
       "plot without title"
      ]
     },
     "metadata": {
      "image/png": {
       "height": 420,
       "width": 420
      }
     },
     "output_type": "display_data"
    }
   ],
   "source": [
    "preds = predict(spline_regression, list(dis = dis.grid), se = TRUE)\n",
    "par(mfrow = c(1,1))\n",
    "plot(nox ~ dis)\n",
    "\n",
    "matlines( dis.grid,\n",
    "          cbind( preds$fit,\n",
    "                 preds$fit + 2* preds$se.fit,\n",
    "                 preds$fit - 2* preds$se.fit),\n",
    "          col = \"red\", lwd = 2, lty = c(\"solid\", \"dashed\", \"dashed\"))"
   ]
  },
  {
   "cell_type": "markdown",
   "id": "9af88249",
   "metadata": {},
   "source": [
    "We choose 3,6 and 9 knots since there is 12 unity in dis and we divide it into 4 interval. The splines seems to fit well the data, until dis > 8 when there is very few observation and data is underfitting.."
   ]
  },
  {
   "cell_type": "markdown",
   "id": "41a47992",
   "metadata": {},
   "source": [
    "###### e) Now fit a regression spline for a range of degrees of freedom, and plot the resulting fits and report the resulting RSS. Describe the results obtained."
   ]
  },
  {
   "cell_type": "code",
   "execution_count": 150,
   "id": "330d1023",
   "metadata": {},
   "outputs": [
    {
     "name": "stderr",
     "output_type": "stream",
     "text": [
      "Warning message in bs(dis, df = i):\n",
      "\"'df' was too small; have used 3\"\n"
     ]
    },
    {
     "data": {
      "text/html": [
       "<style>\n",
       ".list-inline {list-style: none; margin:0; padding: 0}\n",
       ".list-inline>li {display: inline-block}\n",
       ".list-inline>li:not(:last-child)::after {content: \"\\00b7\"; padding: 0 .5ex}\n",
       "</style>\n",
       "<ol class=list-inline><li>1.93410670717907</li><li>1.92277499281193</li><li>1.84017280148852</li><li>1.83396590316021</li><li>1.82988444592328</li><li>1.81699505672523</li><li>1.82565251038706</li><li>1.79253488955613</li><li>1.79699182173143</li><li>1.78899914528888</li><li>1.78235042874344</li><li>1.78183805686312</li><li>1.78279784044131</li><li>1.78354576630177</li><li>1.77978867996915</li><li>1.77583846528257</li><li>1.77448746642914</li><li>1.77672727706912</li></ol>\n"
      ],
      "text/latex": [
       "\\begin{enumerate*}\n",
       "\\item 1.93410670717907\n",
       "\\item 1.92277499281193\n",
       "\\item 1.84017280148852\n",
       "\\item 1.83396590316021\n",
       "\\item 1.82988444592328\n",
       "\\item 1.81699505672523\n",
       "\\item 1.82565251038706\n",
       "\\item 1.79253488955613\n",
       "\\item 1.79699182173143\n",
       "\\item 1.78899914528888\n",
       "\\item 1.78235042874344\n",
       "\\item 1.78183805686312\n",
       "\\item 1.78279784044131\n",
       "\\item 1.78354576630177\n",
       "\\item 1.77978867996915\n",
       "\\item 1.77583846528257\n",
       "\\item 1.77448746642914\n",
       "\\item 1.77672727706912\n",
       "\\end{enumerate*}\n"
      ],
      "text/markdown": [
       "1. 1.93410670717907\n",
       "2. 1.92277499281193\n",
       "3. 1.84017280148852\n",
       "4. 1.83396590316021\n",
       "5. 1.82988444592328\n",
       "6. 1.81699505672523\n",
       "7. 1.82565251038706\n",
       "8. 1.79253488955613\n",
       "9. 1.79699182173143\n",
       "10. 1.78899914528888\n",
       "11. 1.78235042874344\n",
       "12. 1.78183805686312\n",
       "13. 1.78279784044131\n",
       "14. 1.78354576630177\n",
       "15. 1.77978867996915\n",
       "16. 1.77583846528257\n",
       "17. 1.77448746642914\n",
       "18. 1.77672727706912\n",
       "\n",
       "\n"
      ],
      "text/plain": [
       " [1] 1.934107 1.922775 1.840173 1.833966 1.829884 1.816995 1.825653 1.792535\n",
       " [9] 1.796992 1.788999 1.782350 1.781838 1.782798 1.783546 1.779789 1.775838\n",
       "[17] 1.774487 1.776727"
      ]
     },
     "metadata": {},
     "output_type": "display_data"
    }
   ],
   "source": [
    "list = NA\n",
    "\n",
    "#we fit regression splines for range from 2 to 20 degree of freedom\n",
    "for (i in 2:20){\n",
    "    lm.fit = lm(nox ~ bs(dis, df = i))\n",
    "    list[i] = sum(lm.fit$residuals^2)\n",
    "}\n",
    "\n",
    "list[-c(1,2)]"
   ]
  },
  {
   "cell_type": "markdown",
   "id": "a511401e",
   "metadata": {},
   "source": [
    "We can observe that RSS slightly decrease until 12 degree of freedom and then increase"
   ]
  },
  {
   "cell_type": "markdown",
   "id": "97f35267",
   "metadata": {},
   "source": [
    "### Exercice 10 (p.300, Chap.7)"
   ]
  },
  {
   "cell_type": "code",
   "execution_count": 156,
   "id": "c27ec744",
   "metadata": {},
   "outputs": [
    {
     "name": "stderr",
     "output_type": "stream",
     "text": [
      "The following objects are masked from College (pos = 3):\n",
      "\n",
      "    Accept, Apps, Books, Enroll, Expend, F.Undergrad, Grad.Rate,\n",
      "    Outstate, P.Undergrad, perc.alumni, Personal, PhD, Private,\n",
      "    Room.Board, S.F.Ratio, Terminal, Top10perc, Top25perc\n",
      "\n",
      "\n",
      "The following objects are masked from College (pos = 4):\n",
      "\n",
      "    Accept, Apps, Books, Enroll, Expend, F.Undergrad, Grad.Rate,\n",
      "    Outstate, P.Undergrad, perc.alumni, Personal, PhD, Private,\n",
      "    Room.Board, S.F.Ratio, Terminal, Top10perc, Top25perc\n",
      "\n",
      "\n",
      "The following objects are masked from College (pos = 5):\n",
      "\n",
      "    Accept, Apps, Books, Enroll, Expend, F.Undergrad, Grad.Rate,\n",
      "    Outstate, P.Undergrad, perc.alumni, Personal, PhD, Private,\n",
      "    Room.Board, S.F.Ratio, Terminal, Top10perc, Top25perc\n",
      "\n",
      "\n"
     ]
    }
   ],
   "source": [
    "#load and attach the data\n",
    "library(leaps)\n",
    "attach(College)\n",
    "# split the data\n",
    "train <- sample(length(Outstate), length(Outstate)/2)\n",
    "test = -train"
   ]
  },
  {
   "cell_type": "code",
   "execution_count": 168,
   "id": "9247f690",
   "metadata": {},
   "outputs": [
    {
     "data": {
      "text/plain": [
       "Subset selection object\n",
       "Call: regsubsets.formula(Outstate ~ ., data = college.train, nvmax = 17, \n",
       "    method = \"forward\")\n",
       "17 Variables  (and intercept)\n",
       "            Forced in Forced out\n",
       "PrivateYes      FALSE      FALSE\n",
       "Apps            FALSE      FALSE\n",
       "Accept          FALSE      FALSE\n",
       "Enroll          FALSE      FALSE\n",
       "Top10perc       FALSE      FALSE\n",
       "Top25perc       FALSE      FALSE\n",
       "F.Undergrad     FALSE      FALSE\n",
       "P.Undergrad     FALSE      FALSE\n",
       "Room.Board      FALSE      FALSE\n",
       "Books           FALSE      FALSE\n",
       "Personal        FALSE      FALSE\n",
       "PhD             FALSE      FALSE\n",
       "Terminal        FALSE      FALSE\n",
       "S.F.Ratio       FALSE      FALSE\n",
       "perc.alumni     FALSE      FALSE\n",
       "Expend          FALSE      FALSE\n",
       "Grad.Rate       FALSE      FALSE\n",
       "1 subsets of each size up to 17\n",
       "Selection Algorithm: forward\n",
       "          PrivateYes Apps Accept Enroll Top10perc Top25perc F.Undergrad\n",
       "1  ( 1 )  \" \"        \" \"  \" \"    \" \"    \" \"       \" \"       \" \"        \n",
       "2  ( 1 )  \"*\"        \" \"  \" \"    \" \"    \" \"       \" \"       \" \"        \n",
       "3  ( 1 )  \"*\"        \" \"  \" \"    \" \"    \" \"       \" \"       \" \"        \n",
       "4  ( 1 )  \"*\"        \" \"  \" \"    \" \"    \" \"       \" \"       \" \"        \n",
       "5  ( 1 )  \"*\"        \" \"  \" \"    \" \"    \" \"       \" \"       \" \"        \n",
       "6  ( 1 )  \"*\"        \" \"  \" \"    \" \"    \" \"       \" \"       \" \"        \n",
       "7  ( 1 )  \"*\"        \" \"  \" \"    \" \"    \" \"       \" \"       \" \"        \n",
       "8  ( 1 )  \"*\"        \" \"  \" \"    \" \"    \" \"       \" \"       \" \"        \n",
       "9  ( 1 )  \"*\"        \" \"  \" \"    \" \"    \" \"       \" \"       \" \"        \n",
       "10  ( 1 ) \"*\"        \" \"  \"*\"    \" \"    \" \"       \" \"       \" \"        \n",
       "11  ( 1 ) \"*\"        \" \"  \"*\"    \" \"    \" \"       \" \"       \"*\"        \n",
       "12  ( 1 ) \"*\"        \"*\"  \"*\"    \" \"    \" \"       \" \"       \"*\"        \n",
       "13  ( 1 ) \"*\"        \"*\"  \"*\"    \" \"    \"*\"       \" \"       \"*\"        \n",
       "14  ( 1 ) \"*\"        \"*\"  \"*\"    \"*\"    \"*\"       \" \"       \"*\"        \n",
       "15  ( 1 ) \"*\"        \"*\"  \"*\"    \"*\"    \"*\"       \" \"       \"*\"        \n",
       "16  ( 1 ) \"*\"        \"*\"  \"*\"    \"*\"    \"*\"       \"*\"       \"*\"        \n",
       "17  ( 1 ) \"*\"        \"*\"  \"*\"    \"*\"    \"*\"       \"*\"       \"*\"        \n",
       "          P.Undergrad Room.Board Books Personal PhD Terminal S.F.Ratio\n",
       "1  ( 1 )  \" \"         \" \"        \" \"   \" \"      \" \" \" \"      \" \"      \n",
       "2  ( 1 )  \" \"         \" \"        \" \"   \" \"      \" \" \" \"      \" \"      \n",
       "3  ( 1 )  \" \"         \"*\"        \" \"   \" \"      \" \" \" \"      \" \"      \n",
       "4  ( 1 )  \" \"         \"*\"        \" \"   \" \"      \" \" \" \"      \" \"      \n",
       "5  ( 1 )  \" \"         \"*\"        \" \"   \" \"      \" \" \"*\"      \" \"      \n",
       "6  ( 1 )  \" \"         \"*\"        \" \"   \" \"      \" \" \"*\"      \" \"      \n",
       "7  ( 1 )  \" \"         \"*\"        \" \"   \"*\"      \" \" \"*\"      \" \"      \n",
       "8  ( 1 )  \" \"         \"*\"        \" \"   \"*\"      \" \" \"*\"      \"*\"      \n",
       "9  ( 1 )  \" \"         \"*\"        \"*\"   \"*\"      \" \" \"*\"      \"*\"      \n",
       "10  ( 1 ) \" \"         \"*\"        \"*\"   \"*\"      \" \" \"*\"      \"*\"      \n",
       "11  ( 1 ) \" \"         \"*\"        \"*\"   \"*\"      \" \" \"*\"      \"*\"      \n",
       "12  ( 1 ) \" \"         \"*\"        \"*\"   \"*\"      \" \" \"*\"      \"*\"      \n",
       "13  ( 1 ) \" \"         \"*\"        \"*\"   \"*\"      \" \" \"*\"      \"*\"      \n",
       "14  ( 1 ) \" \"         \"*\"        \"*\"   \"*\"      \" \" \"*\"      \"*\"      \n",
       "15  ( 1 ) \" \"         \"*\"        \"*\"   \"*\"      \"*\" \"*\"      \"*\"      \n",
       "16  ( 1 ) \" \"         \"*\"        \"*\"   \"*\"      \"*\" \"*\"      \"*\"      \n",
       "17  ( 1 ) \"*\"         \"*\"        \"*\"   \"*\"      \"*\" \"*\"      \"*\"      \n",
       "          perc.alumni Expend Grad.Rate\n",
       "1  ( 1 )  \" \"         \"*\"    \" \"      \n",
       "2  ( 1 )  \" \"         \"*\"    \" \"      \n",
       "3  ( 1 )  \" \"         \"*\"    \" \"      \n",
       "4  ( 1 )  \" \"         \"*\"    \"*\"      \n",
       "5  ( 1 )  \" \"         \"*\"    \"*\"      \n",
       "6  ( 1 )  \"*\"         \"*\"    \"*\"      \n",
       "7  ( 1 )  \"*\"         \"*\"    \"*\"      \n",
       "8  ( 1 )  \"*\"         \"*\"    \"*\"      \n",
       "9  ( 1 )  \"*\"         \"*\"    \"*\"      \n",
       "10  ( 1 ) \"*\"         \"*\"    \"*\"      \n",
       "11  ( 1 ) \"*\"         \"*\"    \"*\"      \n",
       "12  ( 1 ) \"*\"         \"*\"    \"*\"      \n",
       "13  ( 1 ) \"*\"         \"*\"    \"*\"      \n",
       "14  ( 1 ) \"*\"         \"*\"    \"*\"      \n",
       "15  ( 1 ) \"*\"         \"*\"    \"*\"      \n",
       "16  ( 1 ) \"*\"         \"*\"    \"*\"      \n",
       "17  ( 1 ) \"*\"         \"*\"    \"*\"      "
      ]
     },
     "metadata": {},
     "output_type": "display_data"
    }
   ],
   "source": [
    "college.train = College[train,]\n",
    "college.test = College[test,]\n",
    "\n",
    "#forward selection\n",
    "forward_regression = regsubsets(Outstate ~ ., data = college.train, nvmax = 17, method = \"forward\" )\n",
    "regression_summary = summary(forward_regression)\n",
    "regression_summary"
   ]
  },
  {
   "cell_type": "code",
   "execution_count": 194,
   "id": "aa2e9322",
   "metadata": {},
   "outputs": [
    {
     "data": {
      "image/png": "[encoded data removed]",
      "text/plain": [
       "plot without title"
      ]
     },
     "metadata": {
      "image/png": {
       "height": 420,
       "width": 420
      }
     },
     "output_type": "display_data"
    }
   ],
   "source": [
    "#split 3 plots into 3 columns \n",
    "par(mfrow= c(1,3))\n",
    "\n",
    "#plot Cp\n",
    "plot(regression_summary$cp, xlab = \"nb of variables\", ylab = \"Cp\", type = 'l')\n",
    "min_cp = min(regression_summary$cp)\n",
    "std_cp = sd(regression_summary$cp)\n",
    "abline(h=min_cp + std_cp, col = 'blue', lty = 2)\n",
    "\n",
    "#plot adj R2\n",
    "plot(regression_summary$adjr2, xlab = \"nb of variables\", ylab = \"adjusted R squared\", type = 'l')\n",
    "\n",
    "#plot BIC\n",
    "plot(regression_summary$bic, xlab=\"nb of variables\", ylab = \"BIC\", type = 'l')"
   ]
  },
  {
   "cell_type": "markdown",
   "id": "77a1375f",
   "metadata": {},
   "source": [
    "We choose p = 6 predictors according to the graphs above"
   ]
  },
  {
   "cell_type": "code",
   "execution_count": 196,
   "id": "845b78d6",
   "metadata": {},
   "outputs": [
    {
     "data": {
      "text/html": [
       "<style>\n",
       ".list-inline {list-style: none; margin:0; padding: 0}\n",
       ".list-inline>li {display: inline-block}\n",
       ".list-inline>li:not(:last-child)::after {content: \"\\00b7\"; padding: 0 .5ex}\n",
       "</style>\n",
       "<ol class=list-inline><li>'(Intercept)'</li><li>'PrivateYes'</li><li>'Room.Board'</li><li>'perc.alumni'</li><li>'Expend'</li></ol>\n"
      ],
      "text/latex": [
       "\\begin{enumerate*}\n",
       "\\item '(Intercept)'\n",
       "\\item 'PrivateYes'\n",
       "\\item 'Room.Board'\n",
       "\\item 'perc.alumni'\n",
       "\\item 'Expend'\n",
       "\\end{enumerate*}\n"
      ],
      "text/markdown": [
       "1. '(Intercept)'\n",
       "2. 'PrivateYes'\n",
       "3. 'Room.Board'\n",
       "4. 'perc.alumni'\n",
       "5. 'Expend'\n",
       "\n",
       "\n"
      ],
      "text/plain": [
       "[1] \"(Intercept)\" \"PrivateYes\"  \"Room.Board\"  \"perc.alumni\" \"Expend\"     "
      ]
     },
     "metadata": {},
     "output_type": "display_data"
    }
   ],
   "source": [
    "coefficient = regsubsets(Outstate ~., method = \"forward\", data = College)\n",
    "coef = coef(coefficient, id = 4)\n",
    "names(coef)"
   ]
  },
  {
   "cell_type": "markdown",
   "id": "f3227c3f",
   "metadata": {},
   "source": [
    "The 6 variables above would be the 6 predictors for the forward selection model"
   ]
  },
  {
   "cell_type": "markdown",
   "id": "961c1100",
   "metadata": {},
   "source": [
    "###### (b) Fit a GAM on the training data, using out-of-state tuition as the response and the features selected in the previous step as the predictors. Plot the results, and explain your findings."
   ]
  },
  {
   "cell_type": "code",
   "execution_count": 199,
   "id": "0a7ae517",
   "metadata": {},
   "outputs": [
    {
     "name": "stdout",
     "output_type": "stream",
     "text": [
      "package 'gam' successfully unpacked and MD5 sums checked\n",
      "\n",
      "The downloaded binary packages are in\n",
      "\tC:\\Users\\rcolombier\\AppData\\Local\\Temp\\Rtmp0KNsJs\\downloaded_packages\n"
     ]
    },
    {
     "name": "stderr",
     "output_type": "stream",
     "text": [
      "Loading required package: foreach\n",
      "\n",
      "Loaded gam 1.20\n",
      "\n",
      "\n"
     ]
    }
   ],
   "source": [
    "install.packages(\"gam\")\n",
    "library(gam)"
   ]
  },
  {
   "cell_type": "code",
   "execution_count": 205,
   "id": "9990337d",
   "metadata": {},
   "outputs": [
    {
     "data": {
      "image/png": "[encoded data removed]",
      "text/plain": [
       "plot without title"
      ]
     },
     "metadata": {
      "image/png": {
       "height": 420,
       "width": 420
      }
     },
     "output_type": "display_data"
    }
   ],
   "source": [
    "fit.gam = gam(Outstate ~ Private + s(Room.Board, 2) + \n",
    "             s(PhD, 2) + s(perc.alumni,2) +\n",
    "             s(Expend, 5) + s(Grad.Rate, 2), data = college.train)\n",
    "\n",
    "par(mfrow = c(2,3))\n",
    "plot(fit.gam, col = \"green\", se = TRUE)"
   ]
  },
  {
   "cell_type": "markdown",
   "id": "21225ea2",
   "metadata": {},
   "source": [
    "###### c) Evaluate the model obtained on the test set, and explain the results obtained."
   ]
  },
  {
   "cell_type": "code",
   "execution_count": 214,
   "id": "f632455a",
   "metadata": {},
   "outputs": [
    {
     "data": {
      "text/html": [
       "3268278.78125999"
      ],
      "text/latex": [
       "3268278.78125999"
      ],
      "text/markdown": [
       "3268278.78125999"
      ],
      "text/plain": [
       "[1] 3268279"
      ]
     },
     "metadata": {},
     "output_type": "display_data"
    }
   ],
   "source": [
    "prediction = predict(fit.gam, college.test)\n",
    "error = mean((college.test$Outstate - prediction)^2)\n",
    "error"
   ]
  },
  {
   "cell_type": "code",
   "execution_count": null,
   "id": "b5901069",
   "metadata": {},
   "outputs": [],
   "source": []
  },
  {
   "cell_type": "code",
   "execution_count": null,
   "id": "f06e16b9",
   "metadata": {},
   "outputs": [],
   "source": []
  },
  {
   "cell_type": "code",
   "execution_count": null,
   "id": "c830dcaf",
   "metadata": {},
   "outputs": [],
   "source": []
  },
  {
   "cell_type": "code",
   "execution_count": null,
   "id": "87745918",
   "metadata": {},
   "outputs": [],
   "source": []
  }
 ],
 "metadata": {
  "kernelspec": {
   "display_name": "R",
   "language": "R",
   "name": "ir"
  },
  "language_info": {
   "codemirror_mode": "r",
   "file_extension": ".r",
   "mimetype": "text/x-r-source",
   "name": "R",
   "pygments_lexer": "r",
   "version": "4.0.5"
  }
 },
 "nbformat": 4,
 "nbformat_minor": 5
}
